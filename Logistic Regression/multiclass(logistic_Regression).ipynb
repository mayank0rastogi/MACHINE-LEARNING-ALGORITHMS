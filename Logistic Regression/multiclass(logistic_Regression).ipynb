{
  "nbformat": 4,
  "nbformat_minor": 0,
  "metadata": {
    "colab": {
      "name": "multiclass(logistic Regression).ipynb",
      "provenance": [],
      "collapsed_sections": []
    },
    "kernelspec": {
      "name": "python3",
      "display_name": "Python 3"
    }
  },
  "cells": [
    {
      "cell_type": "markdown",
      "metadata": {
        "id": "6JlE43-DhI_H",
        "colab_type": "text"
      },
      "source": [
        "**ONE VS. REST CONCEPT**"
      ]
    },
    {
      "cell_type": "code",
      "metadata": {
        "id": "9ZnxE58Oemje",
        "colab_type": "code",
        "colab": {}
      },
      "source": [
        "# Load libraries\n",
        "from sklearn.linear_model import LogisticRegression\n",
        "from sklearn import datasets\n",
        "from sklearn.preprocessing import StandardScaler"
      ],
      "execution_count": null,
      "outputs": []
    },
    {
      "cell_type": "code",
      "metadata": {
        "id": "V1HlNIqifdxg",
        "colab_type": "code",
        "colab": {}
      },
      "source": [
        "# Load data\n",
        "iris = datasets.load_iris()\n",
        "X = iris.data\n",
        "y = iris.target"
      ],
      "execution_count": null,
      "outputs": []
    },
    {
      "cell_type": "code",
      "metadata": {
        "id": "lo_RNxSvfkqC",
        "colab_type": "code",
        "colab": {}
      },
      "source": [
        "# Standarize features\n",
        "scaler = StandardScaler()\n",
        "X_std = scaler.fit_transform(X)"
      ],
      "execution_count": null,
      "outputs": []
    },
    {
      "cell_type": "code",
      "metadata": {
        "id": "BDPB68ydfm2H",
        "colab_type": "code",
        "colab": {}
      },
      "source": [
        "# Create one-vs-rest logistic regression object\n",
        "clf = LogisticRegression(random_state=0, multi_class='ovr')"
      ],
      "execution_count": null,
      "outputs": []
    },
    {
      "cell_type": "code",
      "metadata": {
        "id": "D-Pfq-VhgMrs",
        "colab_type": "code",
        "colab": {}
      },
      "source": [
        "# Train model\n",
        "model = clf.fit(X_std, y)"
      ],
      "execution_count": null,
      "outputs": []
    },
    {
      "cell_type": "code",
      "metadata": {
        "id": "58J58I2-gTjW",
        "colab_type": "code",
        "colab": {}
      },
      "source": [
        "# Create new observation\n",
        "new_observation = [[.6, .1, .1, .1]]"
      ],
      "execution_count": null,
      "outputs": []
    },
    {
      "cell_type": "code",
      "metadata": {
        "id": "qAQw-7lCgZdv",
        "colab_type": "code",
        "colab": {
          "base_uri": "https://localhost:8080/",
          "height": 34
        },
        "outputId": "fb4b923e-17d2-413a-cbea-902edb8195de"
      },
      "source": [
        "# Predict class\n",
        "model.predict(new_observation)"
      ],
      "execution_count": null,
      "outputs": [
        {
          "output_type": "execute_result",
          "data": {
            "text/plain": [
              "array([1])"
            ]
          },
          "metadata": {
            "tags": []
          },
          "execution_count": 24
        }
      ]
    },
    {
      "cell_type": "code",
      "metadata": {
        "id": "tuw6mOsDgcAU",
        "colab_type": "code",
        "colab": {
          "base_uri": "https://localhost:8080/",
          "height": 34
        },
        "outputId": "14706e7c-443b-4f36-ccd5-003d6a402aec"
      },
      "source": [
        "# View predicted probabilities\n",
        "model.predict_proba(new_observation)"
      ],
      "execution_count": null,
      "outputs": [
        {
          "output_type": "execute_result",
          "data": {
            "text/plain": [
              "array([[0.0387617 , 0.40669108, 0.55454723]])"
            ]
          },
          "metadata": {
            "tags": []
          },
          "execution_count": 14
        }
      ]
    },
    {
      "cell_type": "code",
      "metadata": {
        "id": "ZHXdmq0kgl1V",
        "colab_type": "code",
        "colab": {}
      },
      "source": [
        ""
      ],
      "execution_count": null,
      "outputs": []
    },
    {
      "cell_type": "code",
      "metadata": {
        "id": "gbhvbxQBg9mt",
        "colab_type": "code",
        "colab": {}
      },
      "source": [
        ""
      ],
      "execution_count": null,
      "outputs": []
    }
  ]
}