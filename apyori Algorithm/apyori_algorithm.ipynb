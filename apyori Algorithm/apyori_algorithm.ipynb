{
  "nbformat": 4,
  "nbformat_minor": 0,
  "metadata": {
    "colab": {
      "name": "apyori algorithm.ipynb",
      "provenance": [],
      "collapsed_sections": []
    },
    "kernelspec": {
      "name": "python3",
      "display_name": "Python 3"
    }
  },
  "cells": [
    {
      "cell_type": "markdown",
      "metadata": {
        "id": "DKPaI8V9iDAY"
      },
      "source": [
        "**APRIORI ALGORITHM**"
      ]
    },
    {
      "cell_type": "code",
      "metadata": {
        "id": "mY3PRybiiArE"
      },
      "source": [
        "import numpy as np\n",
        "import pandas as pd\n",
        "import matplotlib.pyplot as plt\n",
        "plt.style.use('seaborn-deep')"
      ],
      "execution_count": 1,
      "outputs": []
    },
    {
      "cell_type": "code",
      "metadata": {
        "id": "giK-Ku1JiJJp"
      },
      "source": [
        "# Reading in data\n",
        "data = pd.read_csv('market_basket.csv', header = None)\n",
        "data = data.values\n"
      ],
      "execution_count": 10,
      "outputs": []
    },
    {
      "cell_type": "code",
      "metadata": {
        "id": "06z2-yjsiSom",
        "outputId": "403db7d7-2572-4a89-babf-aa35c41c7f4e",
        "colab": {
          "base_uri": "https://localhost:8080/",
          "height": 153
        }
      },
      "source": [
        "print(data)"
      ],
      "execution_count": 11,
      "outputs": [
        {
          "output_type": "stream",
          "text": [
            "[['shrimp' 'almonds' 'avocado' ... 'frozen smoothie' 'spinach'\n",
            "  'olive oil']\n",
            " ['burgers' 'meatballs' 'eggs' ... nan nan nan]\n",
            " ['chutney' nan nan ... nan nan nan]\n",
            " ...\n",
            " ['chicken' nan nan ... nan nan nan]\n",
            " ['escalope' 'green tea' nan ... nan nan nan]\n",
            " ['eggs' 'frozen smoothie' 'yogurt cake' ... nan nan nan]]\n"
          ],
          "name": "stdout"
        }
      ]
    },
    {
      "cell_type": "code",
      "metadata": {
        "id": "QL1Wk8B1idJG"
      },
      "source": [
        "# Creating the transactions list of lists\n",
        "transactions = []"
      ],
      "execution_count": 12,
      "outputs": []
    },
    {
      "cell_type": "code",
      "metadata": {
        "id": "S1OjqWBDixzG"
      },
      "source": [
        "for i in range(data.shape[0]):\n",
        "    transactions.append([str(data[i][j]) for j in range(data.shape[1])])"
      ],
      "execution_count": 15,
      "outputs": []
    },
    {
      "cell_type": "code",
      "metadata": {
        "id": "odDsAoNyjAtR",
        "outputId": "70635845-4218-4052-ab86-eb9910cb46ec",
        "colab": {
          "base_uri": "https://localhost:8080/",
          "height": 190
        }
      },
      "source": [
        "!pip install apyori"
      ],
      "execution_count": 17,
      "outputs": [
        {
          "output_type": "stream",
          "text": [
            "Collecting apyori\n",
            "  Downloading https://files.pythonhosted.org/packages/5e/62/5ffde5c473ea4b033490617ec5caa80d59804875ad3c3c57c0976533a21a/apyori-1.1.2.tar.gz\n",
            "Building wheels for collected packages: apyori\n",
            "  Building wheel for apyori (setup.py) ... \u001b[?25l\u001b[?25hdone\n",
            "  Created wheel for apyori: filename=apyori-1.1.2-cp36-none-any.whl size=5975 sha256=f0650b95d4e9a0f7a08583a40402d2c59c2af40b94525c7945814c12726486e6\n",
            "  Stored in directory: /root/.cache/pip/wheels/5d/92/bb/474bbadbc8c0062b9eb168f69982a0443263f8ab1711a8cad0\n",
            "Successfully built apyori\n",
            "Installing collected packages: apyori\n",
            "Successfully installed apyori-1.1.2\n"
          ],
          "name": "stdout"
        }
      ]
    },
    {
      "cell_type": "code",
      "metadata": {
        "id": "OOIPjt-Si0aA"
      },
      "source": [
        "# Training Apriori on the dataset\n",
        "from apyori import apriori\n",
        "rules = apriori(transactions, min_support = 0.003, min_confidence = 0.2, \n",
        "                min_lift = 5, min_length = 2)"
      ],
      "execution_count": 18,
      "outputs": []
    },
    {
      "cell_type": "code",
      "metadata": {
        "id": "jSARJ3s8i9jx"
      },
      "source": [
        "# Visualising the results\n",
        "results = list(rules)"
      ],
      "execution_count": 19,
      "outputs": []
    },
    {
      "cell_type": "code",
      "metadata": {
        "id": "9No4mZUHjJy5",
        "outputId": "756da960-cb8f-4519-ad81-c47aa6934978",
        "colab": {
          "base_uri": "https://localhost:8080/",
          "height": 207
        }
      },
      "source": [
        "results"
      ],
      "execution_count": 22,
      "outputs": [
        {
          "output_type": "execute_result",
          "data": {
            "text/plain": [
              "[RelationRecord(items=frozenset({'fromage blanc', 'honey'}), support=0.003332888948140248, ordered_statistics=[OrderedStatistic(items_base=frozenset({'fromage blanc'}), items_add=frozenset({'honey'}), confidence=0.2450980392156863, lift=5.164270764485569)]),\n",
              " RelationRecord(items=frozenset({'fromage blanc', 'honey', 'nan'}), support=0.003332888948140248, ordered_statistics=[OrderedStatistic(items_base=frozenset({'fromage blanc'}), items_add=frozenset({'nan', 'honey'}), confidence=0.2450980392156863, lift=5.1788180060756694), OrderedStatistic(items_base=frozenset({'fromage blanc', 'nan'}), items_add=frozenset({'honey'}), confidence=0.2450980392156863, lift=5.164270764485569)]),\n",
              " RelationRecord(items=frozenset({'tomato sauce', 'ground beef', 'spaghetti'}), support=0.0030662578322890282, ordered_statistics=[OrderedStatistic(items_base=frozenset({'tomato sauce'}), items_add=frozenset({'ground beef', 'spaghetti'}), confidence=0.2169811320754717, lift=5.535970992170453)]),\n",
              " RelationRecord(items=frozenset({'olive oil', 'mineral water', 'whole wheat pasta'}), support=0.0038661511798426876, ordered_statistics=[OrderedStatistic(items_base=frozenset({'mineral water', 'whole wheat pasta'}), items_add=frozenset({'olive oil'}), confidence=0.4027777777777778, lift=6.115862573099416)]),\n",
              " RelationRecord(items=frozenset({'frozen vegetables', 'olive oil', 'mineral water', 'milk'}), support=0.003332888948140248, ordered_statistics=[OrderedStatistic(items_base=frozenset({'frozen vegetables', 'olive oil'}), items_add=frozenset({'milk', 'mineral water'}), confidence=0.29411764705882354, lift=6.12826797385621)]),\n",
              " RelationRecord(items=frozenset({'frozen vegetables', 'soup', 'mineral water', 'milk'}), support=0.0030662578322890282, ordered_statistics=[OrderedStatistic(items_base=frozenset({'frozen vegetables', 'soup'}), items_add=frozenset({'milk', 'mineral water'}), confidence=0.3833333333333333, lift=7.987175925925926), OrderedStatistic(items_base=frozenset({'soup', 'milk'}), items_add=frozenset({'frozen vegetables', 'mineral water'}), confidence=0.20175438596491227, lift=5.646864362398533), OrderedStatistic(items_base=frozenset({'frozen vegetables', 'mineral water', 'milk'}), items_add=frozenset({'soup'}), confidence=0.27710843373493976, lift=5.484407286136631)]),\n",
              " RelationRecord(items=frozenset({'nan', 'tomato sauce', 'ground beef', 'spaghetti'}), support=0.0030662578322890282, ordered_statistics=[OrderedStatistic(items_base=frozenset({'tomato sauce'}), items_add=frozenset({'nan', 'ground beef', 'spaghetti'}), confidence=0.2169811320754717, lift=5.535970992170453), OrderedStatistic(items_base=frozenset({'nan', 'tomato sauce'}), items_add=frozenset({'ground beef', 'spaghetti'}), confidence=0.2169811320754717, lift=5.535970992170453)]),\n",
              " RelationRecord(items=frozenset({'nan', 'olive oil', 'mineral water', 'whole wheat pasta'}), support=0.0038661511798426876, ordered_statistics=[OrderedStatistic(items_base=frozenset({'mineral water', 'whole wheat pasta'}), items_add=frozenset({'nan', 'olive oil'}), confidence=0.4027777777777778, lift=6.128267973856209), OrderedStatistic(items_base=frozenset({'nan', 'mineral water', 'whole wheat pasta'}), items_add=frozenset({'olive oil'}), confidence=0.4027777777777778, lift=6.115862573099416)]),\n",
              " RelationRecord(items=frozenset({'mineral water', 'nan', 'frozen vegetables', 'olive oil', 'milk'}), support=0.003332888948140248, ordered_statistics=[OrderedStatistic(items_base=frozenset({'frozen vegetables', 'olive oil'}), items_add=frozenset({'nan', 'milk', 'mineral water'}), confidence=0.29411764705882354, lift=6.12826797385621), OrderedStatistic(items_base=frozenset({'nan', 'frozen vegetables', 'olive oil'}), items_add=frozenset({'milk', 'mineral water'}), confidence=0.29411764705882354, lift=6.12826797385621)]),\n",
              " RelationRecord(items=frozenset({'soup', 'mineral water', 'nan', 'frozen vegetables', 'milk'}), support=0.0030662578322890282, ordered_statistics=[OrderedStatistic(items_base=frozenset({'frozen vegetables', 'soup'}), items_add=frozenset({'nan', 'milk', 'mineral water'}), confidence=0.3833333333333333, lift=7.987175925925926), OrderedStatistic(items_base=frozenset({'soup', 'milk'}), items_add=frozenset({'nan', 'frozen vegetables', 'mineral water'}), confidence=0.20175438596491227, lift=5.646864362398533), OrderedStatistic(items_base=frozenset({'frozen vegetables', 'mineral water', 'milk'}), items_add=frozenset({'nan', 'soup'}), confidence=0.27710843373493976, lift=5.484407286136631), OrderedStatistic(items_base=frozenset({'nan', 'frozen vegetables', 'soup'}), items_add=frozenset({'milk', 'mineral water'}), confidence=0.3833333333333333, lift=7.987175925925926), OrderedStatistic(items_base=frozenset({'nan', 'soup', 'milk'}), items_add=frozenset({'frozen vegetables', 'mineral water'}), confidence=0.20175438596491227, lift=5.646864362398533), OrderedStatistic(items_base=frozenset({'nan', 'frozen vegetables', 'mineral water', 'milk'}), items_add=frozenset({'soup'}), confidence=0.27710843373493976, lift=5.484407286136631)])]"
            ]
          },
          "metadata": {
            "tags": []
          },
          "execution_count": 22
        }
      ]
    },
    {
      "cell_type": "code",
      "metadata": {
        "id": "GMw4LVBNjMfP"
      },
      "source": [
        ""
      ],
      "execution_count": null,
      "outputs": []
    }
  ]
}