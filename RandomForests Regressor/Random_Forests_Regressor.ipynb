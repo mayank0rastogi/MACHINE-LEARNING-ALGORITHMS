{
  "nbformat": 4,
  "nbformat_minor": 0,
  "metadata": {
    "colab": {
      "name": "Random Forests Regressor.ipynb",
      "provenance": [],
      "collapsed_sections": [],
      "toc_visible": true
    },
    "kernelspec": {
      "name": "python3",
      "display_name": "Python 3"
    }
  },
  "cells": [
    {
      "cell_type": "markdown",
      "metadata": {
        "id": "3rlJrIwxN2yQ"
      },
      "source": [
        "###Import necessary libraries"
      ]
    },
    {
      "cell_type": "code",
      "metadata": {
        "id": "lOMJufJTNiOw"
      },
      "source": [
        " import pandas as pd \n",
        "import numpy as np \n",
        "import matplotlib.pyplot as plt "
      ],
      "execution_count": null,
      "outputs": []
    },
    {
      "cell_type": "markdown",
      "metadata": {
        "id": "ETqSXriTN7EB"
      },
      "source": [
        "### Import the Height Weight Dataset \n",
        "\n"
      ]
    },
    {
      "cell_type": "code",
      "metadata": {
        "id": "9f1vIPh0N6Fh",
        "outputId": "e8c6a577-dfba-4820-c465-1efc1b211863",
        "colab": {
          "base_uri": "https://localhost:8080/",
          "height": 198
        }
      },
      "source": [
        "data = pd.read_csv('hw.csv') \n",
        "data.head()"
      ],
      "execution_count": null,
      "outputs": [
        {
          "output_type": "execute_result",
          "data": {
            "text/html": [
              "<div>\n",
              "<style scoped>\n",
              "    .dataframe tbody tr th:only-of-type {\n",
              "        vertical-align: middle;\n",
              "    }\n",
              "\n",
              "    .dataframe tbody tr th {\n",
              "        vertical-align: top;\n",
              "    }\n",
              "\n",
              "    .dataframe thead th {\n",
              "        text-align: right;\n",
              "    }\n",
              "</style>\n",
              "<table border=\"1\" class=\"dataframe\">\n",
              "  <thead>\n",
              "    <tr style=\"text-align: right;\">\n",
              "      <th></th>\n",
              "      <th>Age</th>\n",
              "      <th>Height</th>\n",
              "    </tr>\n",
              "  </thead>\n",
              "  <tbody>\n",
              "    <tr>\n",
              "      <th>0</th>\n",
              "      <td>10</td>\n",
              "      <td>138</td>\n",
              "    </tr>\n",
              "    <tr>\n",
              "      <th>1</th>\n",
              "      <td>11</td>\n",
              "      <td>138</td>\n",
              "    </tr>\n",
              "    <tr>\n",
              "      <th>2</th>\n",
              "      <td>12</td>\n",
              "      <td>138</td>\n",
              "    </tr>\n",
              "    <tr>\n",
              "      <th>3</th>\n",
              "      <td>13</td>\n",
              "      <td>139</td>\n",
              "    </tr>\n",
              "    <tr>\n",
              "      <th>4</th>\n",
              "      <td>14</td>\n",
              "      <td>139</td>\n",
              "    </tr>\n",
              "  </tbody>\n",
              "</table>\n",
              "</div>"
            ],
            "text/plain": [
              "   Age  Height\n",
              "0   10     138\n",
              "1   11     138\n",
              "2   12     138\n",
              "3   13     139\n",
              "4   14     139"
            ]
          },
          "metadata": {
            "tags": []
          },
          "execution_count": 3
        }
      ]
    },
    {
      "cell_type": "code",
      "metadata": {
        "id": "eK-fqwemOWCn"
      },
      "source": [
        "X = data.iloc[:, 0:1].values \n",
        "y = data.iloc[:, 1].values"
      ],
      "execution_count": null,
      "outputs": []
    },
    {
      "cell_type": "code",
      "metadata": {
        "id": "8QHU70MVOhhO"
      },
      "source": [
        "from sklearn.model_selection import train_test_split\n",
        "X_train, X_test, y_train, y_test = train_test_split(X, y, test_size=0.3, random_state=0)\n"
      ],
      "execution_count": null,
      "outputs": []
    },
    {
      "cell_type": "markdown",
      "metadata": {
        "id": "S4dYDY1NOrlc"
      },
      "source": [
        "\n",
        "####Import the Random Forest Regressor \n"
      ]
    },
    {
      "cell_type": "code",
      "metadata": {
        "id": "34gfSYmBOniy"
      },
      "source": [
        "from sklearn.ensemble import RandomForestRegressor   \n"
      ],
      "execution_count": null,
      "outputs": []
    },
    {
      "cell_type": "markdown",
      "metadata": {
        "id": "CyJn5hVOO1Zn"
      },
      "source": [
        "  \n",
        "#####Create a Random Forest regressor object from Random Forest Regressor class\n"
      ]
    },
    {
      "cell_type": "code",
      "metadata": {
        "id": "Rev4I7t5O0gX"
      },
      "source": [
        "rfreg = RandomForestRegressor(n_estimators = 500, random_state = 0)\n",
        "  "
      ],
      "execution_count": null,
      "outputs": []
    },
    {
      "cell_type": "markdown",
      "metadata": {
        "id": "AWYEjen3O-W2"
      },
      "source": [
        "###Fit the random forest regressor with training data represented by X_train and y_train\n"
      ]
    },
    {
      "cell_type": "code",
      "metadata": {
        "id": "oSSAJYlXO9bB",
        "outputId": "1ed412c8-9c3f-4e36-aa39-938a21cff430",
        "colab": {
          "base_uri": "https://localhost:8080/",
          "height": 145
        }
      },
      "source": [
        "rfreg.fit(X_train, y_train)"
      ],
      "execution_count": null,
      "outputs": [
        {
          "output_type": "execute_result",
          "data": {
            "text/plain": [
              "RandomForestRegressor(bootstrap=True, ccp_alpha=0.0, criterion='mse',\n",
              "                      max_depth=None, max_features='auto', max_leaf_nodes=None,\n",
              "                      max_samples=None, min_impurity_decrease=0.0,\n",
              "                      min_impurity_split=None, min_samples_leaf=1,\n",
              "                      min_samples_split=2, min_weight_fraction_leaf=0.0,\n",
              "                      n_estimators=500, n_jobs=None, oob_score=False,\n",
              "                      random_state=0, verbose=0, warm_start=False)"
            ]
          },
          "metadata": {
            "tags": []
          },
          "execution_count": 9
        }
      ]
    },
    {
      "cell_type": "markdown",
      "metadata": {
        "id": "mgeYcEkUPTvX"
      },
      "source": [
        "####Predicted Height from test dataset w.r.t Random Forest Regression"
      ]
    },
    {
      "cell_type": "code",
      "metadata": {
        "id": "6Uv8ztCMPInR"
      },
      "source": [
        "y_predict = rfreg.predict((X_test))\n"
      ],
      "execution_count": null,
      "outputs": []
    },
    {
      "cell_type": "markdown",
      "metadata": {
        "id": "-b8KXyEePbUy"
      },
      "source": [
        "\n",
        "####Model Evaluation using R-Square for Random Forest Regression\n"
      ]
    },
    {
      "cell_type": "code",
      "metadata": {
        "id": "XAzfpHKpPaaa"
      },
      "source": [
        "from sklearn import metrics\n",
        "r_square = metrics.r2_score(y_test, y_predict)\n"
      ],
      "execution_count": null,
      "outputs": []
    },
    {
      "cell_type": "code",
      "metadata": {
        "id": "0H1bBp6gPj8H",
        "outputId": "a8dbbd5e-071b-48ac-cd97-bdf34ab6cca4",
        "colab": {
          "base_uri": "https://localhost:8080/",
          "height": 35
        }
      },
      "source": [
        "r_square"
      ],
      "execution_count": null,
      "outputs": [
        {
          "output_type": "execute_result",
          "data": {
            "text/plain": [
              "0.9965790505684955"
            ]
          },
          "metadata": {
            "tags": []
          },
          "execution_count": 12
        }
      ]
    },
    {
      "cell_type": "markdown",
      "metadata": {
        "id": "qRFfO492PylM"
      },
      "source": [
        "###Visualise the Random Forest Regression by creating range of values from min value of X_train to max value of X_train \n",
        "\n",
        "\n",
        "---\n",
        "\n",
        "\n",
        "#####having a difference of 0.01 between two consecutive values\n"
      ]
    },
    {
      "cell_type": "code",
      "metadata": {
        "id": "1tE67N3aPlR0"
      },
      "source": [
        "X_val = np.arange(min(X_train), max(X_train), 0.01) "
      ],
      "execution_count": null,
      "outputs": []
    },
    {
      "cell_type": "markdown",
      "metadata": {
        "id": "OLno1F86QF9S"
      },
      "source": [
        "#####Reshape the data into a len(X_val)*1 array in order to make a column out of the X_val values \n"
      ]
    },
    {
      "cell_type": "code",
      "metadata": {
        "id": "hBeLRa0IQEuv"
      },
      "source": [
        "X_val = X_val.reshape((len(X_val), 1)) "
      ],
      "execution_count": null,
      "outputs": []
    },
    {
      "cell_type": "code",
      "metadata": {
        "id": "7LVwmbyhQWUt",
        "outputId": "7330240c-db5b-492b-ec0c-4b4aecff7c96",
        "colab": {
          "base_uri": "https://localhost:8080/",
          "height": 313
        }
      },
      "source": [
        "#Define a scatter plot for training data \n",
        "plt.scatter(X_train, y_train, color = 'black') \n",
        "#Plot the predicted data \n",
        "plt.plot(X_val, rfreg.predict(X_val), color = 'red')  \n",
        "#Define the title \n",
        "plt.title('Height prediction using Random Forest Regression')  \n",
        "#Define X axis label \n",
        "plt.xlabel('Age') \n",
        "#Define Y axis label \n",
        "plt.ylabel('Height') \n",
        "#Set the size of the plot for better clarity\n",
        "plt.figure(figsize=(1,1))\n",
        "#Draw the plot \n",
        "plt.show()"
      ],
      "execution_count": null,
      "outputs": [
        {
          "output_type": "display_data",
          "data": {
            "image/png": "[encoded data removed]",
            "text/plain": [
              "<Figure size 432x288 with 1 Axes>"
            ]
          },
          "metadata": {
            "tags": [],
            "needs_background": "light"
          }
        },
        {
          "output_type": "display_data",
          "data": {
            "text/plain": [
              "<Figure size 72x72 with 0 Axes>"
            ]
          },
          "metadata": {
            "tags": []
          }
        }
      ]
    },
    {
      "cell_type": "code",
      "metadata": {
        "id": "lktWHmEEQb5a"
      },
      "source": [
        "pred_height = rfreg.predict([[41]])"
      ],
      "execution_count": null,
      "outputs": []
    },
    {
      "cell_type": "code",
      "metadata": {
        "id": "yi15f3F5Qn_r",
        "outputId": "8f01bdc0-eedc-48ea-a367-4932bccd2710",
        "colab": {
          "base_uri": "https://localhost:8080/",
          "height": 35
        }
      },
      "source": [
        "pred_height"
      ],
      "execution_count": null,
      "outputs": [
        {
          "output_type": "execute_result",
          "data": {
            "text/plain": [
              "array([151.178])"
            ]
          },
          "metadata": {
            "tags": []
          },
          "execution_count": 18
        }
      ]
    },
    {
      "cell_type": "code",
      "metadata": {
        "id": "HXW0CElyQqdA"
      },
      "source": [
        ""
      ],
      "execution_count": null,
      "outputs": []
    }
  ]
}