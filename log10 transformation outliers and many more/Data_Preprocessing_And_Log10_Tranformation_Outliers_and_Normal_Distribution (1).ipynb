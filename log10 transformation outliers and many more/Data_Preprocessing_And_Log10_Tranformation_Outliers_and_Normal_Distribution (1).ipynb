{
  "nbformat": 4,
  "nbformat_minor": 0,
  "metadata": {
    "colab": {
      "name": "Data Preprocessing And Log10 Tranformation Outliers and Normal Distribution.ipynb",
      "provenance": [],
      "collapsed_sections": [],
      "toc_visible": true
    },
    "kernelspec": {
      "name": "python3",
      "display_name": "Python 3"
    }
  },
  "cells": [
    {
      "cell_type": "code",
      "metadata": {
        "id": "L8s6OjJUbv7f"
      },
      "source": [
        "import matplotlib.pyplot as plt\n",
        "import numpy as np\n",
        "import pandas as pd\n",
        "import scipy as sp"
      ],
      "execution_count": null,
      "outputs": []
    },
    {
      "cell_type": "code",
      "metadata": {
        "id": "b6WB5Elmb7-z",
        "outputId": "b837d587-4fd8-4177-a755-e2256b7299ba",
        "colab": {
          "base_uri": "https://localhost:8080/",
          "height": 202
        }
      },
      "source": [
        "datafile = pd.read_csv('mallcustomer.csv')\n",
        "datafile.head()"
      ],
      "execution_count": null,
      "outputs": [
        {
          "output_type": "execute_result",
          "data": {
            "text/html": [
              "<div>\n",
              "<style scoped>\n",
              "    .dataframe tbody tr th:only-of-type {\n",
              "        vertical-align: middle;\n",
              "    }\n",
              "\n",
              "    .dataframe tbody tr th {\n",
              "        vertical-align: top;\n",
              "    }\n",
              "\n",
              "    .dataframe thead th {\n",
              "        text-align: right;\n",
              "    }\n",
              "</style>\n",
              "<table border=\"1\" class=\"dataframe\">\n",
              "  <thead>\n",
              "    <tr style=\"text-align: right;\">\n",
              "      <th></th>\n",
              "      <th>CustomerID</th>\n",
              "      <th>Gender</th>\n",
              "      <th>Age</th>\n",
              "      <th>Annual Income (k$)</th>\n",
              "      <th>Spending Score (1-100)</th>\n",
              "    </tr>\n",
              "  </thead>\n",
              "  <tbody>\n",
              "    <tr>\n",
              "      <th>0</th>\n",
              "      <td>1</td>\n",
              "      <td>Male</td>\n",
              "      <td>19</td>\n",
              "      <td>15</td>\n",
              "      <td>39</td>\n",
              "    </tr>\n",
              "    <tr>\n",
              "      <th>1</th>\n",
              "      <td>2</td>\n",
              "      <td>Male</td>\n",
              "      <td>21</td>\n",
              "      <td>15</td>\n",
              "      <td>81</td>\n",
              "    </tr>\n",
              "    <tr>\n",
              "      <th>2</th>\n",
              "      <td>3</td>\n",
              "      <td>Female</td>\n",
              "      <td>20</td>\n",
              "      <td>16</td>\n",
              "      <td>6</td>\n",
              "    </tr>\n",
              "    <tr>\n",
              "      <th>3</th>\n",
              "      <td>4</td>\n",
              "      <td>Female</td>\n",
              "      <td>23</td>\n",
              "      <td>16</td>\n",
              "      <td>77</td>\n",
              "    </tr>\n",
              "    <tr>\n",
              "      <th>4</th>\n",
              "      <td>5</td>\n",
              "      <td>Female</td>\n",
              "      <td>31</td>\n",
              "      <td>17</td>\n",
              "      <td>40</td>\n",
              "    </tr>\n",
              "  </tbody>\n",
              "</table>\n",
              "</div>"
            ],
            "text/plain": [
              "   CustomerID  Gender  Age  Annual Income (k$)  Spending Score (1-100)\n",
              "0           1    Male   19                  15                      39\n",
              "1           2    Male   21                  15                      81\n",
              "2           3  Female   20                  16                       6\n",
              "3           4  Female   23                  16                      77\n",
              "4           5  Female   31                  17                      40"
            ]
          },
          "metadata": {
            "tags": []
          },
          "execution_count": 3
        }
      ]
    },
    {
      "cell_type": "code",
      "metadata": {
        "id": "uBCOaLpZcdVC",
        "outputId": "4e0b8761-d98c-4177-82e0-b934b013f1e6",
        "colab": {
          "base_uri": "https://localhost:8080/",
          "height": 34
        }
      },
      "source": [
        "datafile.shape"
      ],
      "execution_count": null,
      "outputs": [
        {
          "output_type": "execute_result",
          "data": {
            "text/plain": [
              "(200, 5)"
            ]
          },
          "metadata": {
            "tags": []
          },
          "execution_count": 4
        }
      ]
    },
    {
      "cell_type": "code",
      "metadata": {
        "id": "1VN7cKoRcgv-"
      },
      "source": [
        "X = datafile.iloc[:,:-1].values"
      ],
      "execution_count": null,
      "outputs": []
    },
    {
      "cell_type": "code",
      "metadata": {
        "id": "InT_xRiOcjRS"
      },
      "source": [
        "Y = datafile.iloc[:,4]"
      ],
      "execution_count": null,
      "outputs": []
    },
    {
      "cell_type": "code",
      "metadata": {
        "id": "8Shqo2_RczEL",
        "outputId": "c2338da8-cc2e-4891-9143-a32658e6c9f8",
        "colab": {
          "base_uri": "https://localhost:8080/",
          "height": 1000
        }
      },
      "source": [
        "\n",
        "from sklearn.preprocessing import LabelEncoder\n",
        "lblencode = LabelEncoder()\n",
        "X[:,1] = lblencode.fit_transform(X[:,1])\n",
        "X"
      ],
      "execution_count": null,
      "outputs": [
        {
          "output_type": "execute_result",
          "data": {
            "text/plain": [
              "array([[1, 1, 19, 15],\n",
              "       [2, 1, 21, 15],\n",
              "       [3, 0, 20, 16],\n",
              "       [4, 0, 23, 16],\n",
              "       [5, 0, 31, 17],\n",
              "       [6, 0, 22, 17],\n",
              "       [7, 0, 35, 18],\n",
              "       [8, 0, 23, 18],\n",
              "       [9, 1, 64, 19],\n",
              "       [10, 0, 30, 19],\n",
              "       [11, 1, 67, 19],\n",
              "       [12, 0, 35, 19],\n",
              "       [13, 0, 58, 20],\n",
              "       [14, 0, 24, 20],\n",
              "       [15, 1, 37, 20],\n",
              "       [16, 1, 22, 20],\n",
              "       [17, 0, 35, 21],\n",
              "       [18, 1, 20, 21],\n",
              "       [19, 1, 52, 23],\n",
              "       [20, 0, 35, 23],\n",
              "       [21, 1, 35, 24],\n",
              "       [22, 1, 25, 24],\n",
              "       [23, 0, 46, 25],\n",
              "       [24, 1, 31, 25],\n",
              "       [25, 0, 54, 28],\n",
              "       [26, 1, 29, 28],\n",
              "       [27, 0, 45, 28],\n",
              "       [28, 1, 35, 28],\n",
              "       [29, 0, 40, 29],\n",
              "       [30, 0, 23, 29],\n",
              "       [31, 1, 60, 30],\n",
              "       [32, 0, 21, 30],\n",
              "       [33, 1, 53, 33],\n",
              "       [34, 1, 18, 33],\n",
              "       [35, 0, 49, 33],\n",
              "       [36, 0, 21, 33],\n",
              "       [37, 0, 42, 34],\n",
              "       [38, 0, 30, 34],\n",
              "       [39, 0, 36, 37],\n",
              "       [40, 0, 20, 37],\n",
              "       [41, 0, 65, 38],\n",
              "       [42, 1, 24, 38],\n",
              "       [43, 1, 48, 39],\n",
              "       [44, 0, 31, 39],\n",
              "       [45, 0, 49, 39],\n",
              "       [46, 0, 24, 39],\n",
              "       [47, 0, 50, 40],\n",
              "       [48, 0, 27, 40],\n",
              "       [49, 0, 29, 40],\n",
              "       [50, 0, 31, 40],\n",
              "       [51, 0, 49, 42],\n",
              "       [52, 1, 33, 42],\n",
              "       [53, 0, 31, 43],\n",
              "       [54, 1, 59, 43],\n",
              "       [55, 0, 50, 43],\n",
              "       [56, 1, 47, 43],\n",
              "       [57, 0, 51, 44],\n",
              "       [58, 1, 69, 44],\n",
              "       [59, 0, 27, 46],\n",
              "       [60, 1, 53, 46],\n",
              "       [61, 1, 70, 46],\n",
              "       [62, 1, 19, 46],\n",
              "       [63, 0, 67, 47],\n",
              "       [64, 0, 54, 47],\n",
              "       [65, 1, 63, 48],\n",
              "       [66, 1, 18, 48],\n",
              "       [67, 0, 43, 48],\n",
              "       [68, 0, 68, 48],\n",
              "       [69, 1, 19, 48],\n",
              "       [70, 0, 32, 48],\n",
              "       [71, 1, 70, 49],\n",
              "       [72, 0, 47, 49],\n",
              "       [73, 0, 60, 50],\n",
              "       [74, 0, 60, 50],\n",
              "       [75, 1, 59, 54],\n",
              "       [76, 1, 26, 54],\n",
              "       [77, 0, 45, 54],\n",
              "       [78, 1, 40, 54],\n",
              "       [79, 0, 23, 54],\n",
              "       [80, 0, 49, 54],\n",
              "       [81, 1, 57, 54],\n",
              "       [82, 1, 38, 54],\n",
              "       [83, 1, 67, 54],\n",
              "       [84, 0, 46, 54],\n",
              "       [85, 0, 21, 54],\n",
              "       [86, 1, 48, 54],\n",
              "       [87, 0, 55, 57],\n",
              "       [88, 0, 22, 57],\n",
              "       [89, 0, 34, 58],\n",
              "       [90, 0, 50, 58],\n",
              "       [91, 0, 68, 59],\n",
              "       [92, 1, 18, 59],\n",
              "       [93, 1, 48, 60],\n",
              "       [94, 0, 40, 60],\n",
              "       [95, 0, 32, 60],\n",
              "       [96, 1, 24, 60],\n",
              "       [97, 0, 47, 60],\n",
              "       [98, 0, 27, 60],\n",
              "       [99, 1, 48, 61],\n",
              "       [100, 1, 20, 61],\n",
              "       [101, 0, 23, 62],\n",
              "       [102, 0, 49, 62],\n",
              "       [103, 1, 67, 62],\n",
              "       [104, 1, 26, 62],\n",
              "       [105, 1, 49, 62],\n",
              "       [106, 0, 21, 62],\n",
              "       [107, 0, 66, 63],\n",
              "       [108, 1, 54, 63],\n",
              "       [109, 1, 68, 63],\n",
              "       [110, 1, 66, 63],\n",
              "       [111, 1, 65, 63],\n",
              "       [112, 0, 19, 63],\n",
              "       [113, 0, 38, 64],\n",
              "       [114, 1, 19, 64],\n",
              "       [115, 0, 18, 65],\n",
              "       [116, 0, 19, 65],\n",
              "       [117, 0, 63, 65],\n",
              "       [118, 0, 49, 65],\n",
              "       [119, 0, 51, 67],\n",
              "       [120, 0, 50, 67],\n",
              "       [121, 1, 27, 67],\n",
              "       [122, 0, 38, 67],\n",
              "       [123, 0, 40, 69],\n",
              "       [124, 1, 39, 69],\n",
              "       [125, 0, 23, 70],\n",
              "       [126, 0, 31, 70],\n",
              "       [127, 1, 43, 71],\n",
              "       [128, 1, 40, 71],\n",
              "       [129, 1, 59, 71],\n",
              "       [130, 1, 38, 71],\n",
              "       [131, 1, 47, 71],\n",
              "       [132, 1, 39, 71],\n",
              "       [133, 0, 25, 72],\n",
              "       [134, 0, 31, 72],\n",
              "       [135, 1, 20, 73],\n",
              "       [136, 0, 29, 73],\n",
              "       [137, 0, 44, 73],\n",
              "       [138, 1, 32, 73],\n",
              "       [139, 1, 19, 74],\n",
              "       [140, 0, 35, 74],\n",
              "       [141, 0, 57, 75],\n",
              "       [142, 1, 32, 75],\n",
              "       [143, 0, 28, 76],\n",
              "       [144, 0, 32, 76],\n",
              "       [145, 1, 25, 77],\n",
              "       [146, 1, 28, 77],\n",
              "       [147, 1, 48, 77],\n",
              "       [148, 0, 32, 77],\n",
              "       [149, 0, 34, 78],\n",
              "       [150, 1, 34, 78],\n",
              "       [151, 1, 43, 78],\n",
              "       [152, 1, 39, 78],\n",
              "       [153, 0, 44, 78],\n",
              "       [154, 0, 38, 78],\n",
              "       [155, 0, 47, 78],\n",
              "       [156, 0, 27, 78],\n",
              "       [157, 1, 37, 78],\n",
              "       [158, 0, 30, 78],\n",
              "       [159, 1, 34, 78],\n",
              "       [160, 0, 30, 78],\n",
              "       [161, 0, 56, 79],\n",
              "       [162, 0, 29, 79],\n",
              "       [163, 1, 19, 81],\n",
              "       [164, 0, 31, 81],\n",
              "       [165, 1, 50, 85],\n",
              "       [166, 0, 36, 85],\n",
              "       [167, 1, 42, 86],\n",
              "       [168, 0, 33, 86],\n",
              "       [169, 0, 36, 87],\n",
              "       [170, 1, 32, 87],\n",
              "       [171, 1, 40, 87],\n",
              "       [172, 1, 28, 87],\n",
              "       [173, 1, 36, 87],\n",
              "       [174, 1, 36, 87],\n",
              "       [175, 0, 52, 88],\n",
              "       [176, 0, 30, 88],\n",
              "       [177, 1, 58, 88],\n",
              "       [178, 1, 27, 88],\n",
              "       [179, 1, 59, 93],\n",
              "       [180, 1, 35, 93],\n",
              "       [181, 0, 37, 97],\n",
              "       [182, 0, 32, 97],\n",
              "       [183, 1, 46, 98],\n",
              "       [184, 0, 29, 98],\n",
              "       [185, 0, 41, 99],\n",
              "       [186, 1, 30, 99],\n",
              "       [187, 0, 54, 101],\n",
              "       [188, 1, 28, 101],\n",
              "       [189, 0, 41, 103],\n",
              "       [190, 0, 36, 103],\n",
              "       [191, 0, 34, 103],\n",
              "       [192, 0, 32, 103],\n",
              "       [193, 1, 33, 113],\n",
              "       [194, 0, 38, 113],\n",
              "       [195, 0, 47, 120],\n",
              "       [196, 0, 35, 120],\n",
              "       [197, 0, 45, 126],\n",
              "       [198, 1, 32, 126],\n",
              "       [199, 1, 32, 137],\n",
              "       [200, 1, 30, 137]], dtype=object)"
            ]
          },
          "metadata": {
            "tags": []
          },
          "execution_count": 7
        }
      ]
    },
    {
      "cell_type": "markdown",
      "metadata": {
        "id": "YwvKK9pmcoqG"
      },
      "source": [
        "##Missing Value Detection and Imputation"
      ]
    },
    {
      "cell_type": "code",
      "metadata": {
        "id": "p6vBLYWEclis",
        "outputId": "d897fe56-21bf-4613-d259-8172a1872e3f",
        "colab": {
          "base_uri": "https://localhost:8080/",
          "height": 194
        }
      },
      "source": [
        "data = pd.read_csv('realestate.csv')\n",
        "print(data['ST_NUM'].isnull())"
      ],
      "execution_count": null,
      "outputs": [
        {
          "output_type": "stream",
          "text": [
            "0    False\n",
            "1    False\n",
            "2     True\n",
            "3    False\n",
            "4    False\n",
            "5    False\n",
            "6     True\n",
            "7    False\n",
            "8    False\n",
            "Name: ST_NUM, dtype: bool\n"
          ],
          "name": "stdout"
        }
      ]
    },
    {
      "cell_type": "code",
      "metadata": {
        "id": "_lhRPdXhd8Po",
        "outputId": "54e5df5a-1844-4e5a-afe3-fe3a56a7fd41",
        "colab": {
          "base_uri": "https://localhost:8080/",
          "height": 194
        }
      },
      "source": [
        "print(data['NUM_BEDROOMS'].isnull())"
      ],
      "execution_count": null,
      "outputs": [
        {
          "output_type": "stream",
          "text": [
            "0    False\n",
            "1    False\n",
            "2     True\n",
            "3    False\n",
            "4    False\n",
            "5     True\n",
            "6    False\n",
            "7    False\n",
            "8    False\n",
            "Name: NUM_BEDROOMS, dtype: bool\n"
          ],
          "name": "stdout"
        }
      ]
    },
    {
      "cell_type": "code",
      "metadata": {
        "id": "2furiSOqd_Xa"
      },
      "source": [
        "missing_value = [\"n/a\",\"na\",\"--\"]\n",
        "data1 = pd.read_csv('realestate.csv', na_values = missing_value)\n",
        "data = data1"
      ],
      "execution_count": null,
      "outputs": []
    },
    {
      "cell_type": "code",
      "metadata": {
        "id": "hx2a7tD8eBw0",
        "outputId": "ecec2227-2895-4e23-a53b-fe9801ecc904",
        "colab": {
          "base_uri": "https://localhost:8080/",
          "height": 194
        }
      },
      "source": [
        "print(data['NUM_BEDROOMS'].isnull())"
      ],
      "execution_count": null,
      "outputs": [
        {
          "output_type": "stream",
          "text": [
            "0    False\n",
            "1    False\n",
            "2     True\n",
            "3    False\n",
            "4    False\n",
            "5     True\n",
            "6    False\n",
            "7    False\n",
            "8     True\n",
            "Name: NUM_BEDROOMS, dtype: bool\n"
          ],
          "name": "stdout"
        }
      ]
    },
    {
      "cell_type": "code",
      "metadata": {
        "id": "lL0-3cQFeJls",
        "outputId": "dacfca32-7b79-45b1-b879-372161b15d40",
        "colab": {
          "base_uri": "https://localhost:8080/",
          "height": 194
        }
      },
      "source": [
        "print(data['OWN_OCCUPIED'].isnull())"
      ],
      "execution_count": null,
      "outputs": [
        {
          "output_type": "stream",
          "text": [
            "0    False\n",
            "1    False\n",
            "2    False\n",
            "3     True\n",
            "4    False\n",
            "5    False\n",
            "6     True\n",
            "7    False\n",
            "8    False\n",
            "Name: OWN_OCCUPIED, dtype: bool\n"
          ],
          "name": "stdout"
        }
      ]
    },
    {
      "cell_type": "code",
      "metadata": {
        "id": "hI-h7WO6eNDW"
      },
      "source": [
        "count = 0\n",
        "for row in data['OWN_OCCUPIED']:\n",
        "    try:\n",
        "        int(row)\n",
        "        data.loc[count, 'OWN_OCCUPIED '] = np.nan\n",
        "    except ValueError:\n",
        "        pass\n",
        "    count+=1"
      ],
      "execution_count": null,
      "outputs": []
    },
    {
      "cell_type": "code",
      "metadata": {
        "id": "0mqbcpUEeQzZ",
        "outputId": "6a141ef3-b60e-48fc-abcb-3b993f5fe647",
        "colab": {
          "base_uri": "https://localhost:8080/",
          "height": 194
        }
      },
      "source": [
        "print(data['OWN_OCCUPIED'].isnull())"
      ],
      "execution_count": 17,
      "outputs": [
        {
          "output_type": "stream",
          "text": [
            "0    False\n",
            "1    False\n",
            "2    False\n",
            "3     True\n",
            "4    False\n",
            "5    False\n",
            "6     True\n",
            "7    False\n",
            "8    False\n",
            "Name: OWN_OCCUPIED, dtype: bool\n"
          ],
          "name": "stdout"
        }
      ]
    },
    {
      "cell_type": "code",
      "metadata": {
        "id": "6wVmZQB6eS6O",
        "outputId": "859fc041-1abe-4850-e3b9-25ed492b49d1",
        "colab": {
          "base_uri": "https://localhost:8080/",
          "height": 158
        }
      },
      "source": [
        "print(data.isnull().sum())"
      ],
      "execution_count": 18,
      "outputs": [
        {
          "output_type": "stream",
          "text": [
            "PID             1\n",
            "ST_NUM          2\n",
            "ST_NAME         0\n",
            "OWN_OCCUPIED    2\n",
            "NUM_BEDROOMS    3\n",
            "NUM_BATH        1\n",
            "SQ_FT           1\n",
            "dtype: int64\n"
          ],
          "name": "stdout"
        }
      ]
    },
    {
      "cell_type": "code",
      "metadata": {
        "id": "eMQN7cFfeU8K",
        "outputId": "b922bfd3-6d32-4d9b-a1a4-580db72286d3",
        "colab": {
          "base_uri": "https://localhost:8080/",
          "height": 34
        }
      },
      "source": [
        "print(data.isnull().values.any())"
      ],
      "execution_count": 19,
      "outputs": [
        {
          "output_type": "stream",
          "text": [
            "True\n"
          ],
          "name": "stdout"
        }
      ]
    },
    {
      "cell_type": "code",
      "metadata": {
        "id": "Biek0csQeZbq",
        "outputId": "64c68098-59f4-4e2b-991e-33bfc7a816db",
        "colab": {
          "base_uri": "https://localhost:8080/",
          "height": 1000
        }
      },
      "source": [
        "import pandas as pd\n",
        "import numpy as np\n",
        "import seaborn as sns\n",
        "\n",
        "# create a list of data \n",
        "data = [1,1,10,10,15,15,20,20,30,50,120,130,120,50,30,30,25,20,20,15,15,13,11,9,7,6,6,5,5,5,4,4,4,4,3,3,3,3,2,2,2,2,2,1,1,1,1,1,1,\n",
        "1] \n",
        "  \n",
        "# Create the pandas DataFrame \n",
        "df = pd.DataFrame(data, columns = ['Positive Skewed']) \n",
        "  \n",
        "# print dataframe. \n",
        "df"
      ],
      "execution_count": 23,
      "outputs": [
        {
          "output_type": "execute_result",
          "data": {
            "text/html": [
              "<div>\n",
              "<style scoped>\n",
              "    .dataframe tbody tr th:only-of-type {\n",
              "        vertical-align: middle;\n",
              "    }\n",
              "\n",
              "    .dataframe tbody tr th {\n",
              "        vertical-align: top;\n",
              "    }\n",
              "\n",
              "    .dataframe thead th {\n",
              "        text-align: right;\n",
              "    }\n",
              "</style>\n",
              "<table border=\"1\" class=\"dataframe\">\n",
              "  <thead>\n",
              "    <tr style=\"text-align: right;\">\n",
              "      <th></th>\n",
              "      <th>Positive Skewed</th>\n",
              "    </tr>\n",
              "  </thead>\n",
              "  <tbody>\n",
              "    <tr>\n",
              "      <th>0</th>\n",
              "      <td>1</td>\n",
              "    </tr>\n",
              "    <tr>\n",
              "      <th>1</th>\n",
              "      <td>1</td>\n",
              "    </tr>\n",
              "    <tr>\n",
              "      <th>2</th>\n",
              "      <td>10</td>\n",
              "    </tr>\n",
              "    <tr>\n",
              "      <th>3</th>\n",
              "      <td>10</td>\n",
              "    </tr>\n",
              "    <tr>\n",
              "      <th>4</th>\n",
              "      <td>15</td>\n",
              "    </tr>\n",
              "    <tr>\n",
              "      <th>5</th>\n",
              "      <td>15</td>\n",
              "    </tr>\n",
              "    <tr>\n",
              "      <th>6</th>\n",
              "      <td>20</td>\n",
              "    </tr>\n",
              "    <tr>\n",
              "      <th>7</th>\n",
              "      <td>20</td>\n",
              "    </tr>\n",
              "    <tr>\n",
              "      <th>8</th>\n",
              "      <td>30</td>\n",
              "    </tr>\n",
              "    <tr>\n",
              "      <th>9</th>\n",
              "      <td>50</td>\n",
              "    </tr>\n",
              "    <tr>\n",
              "      <th>10</th>\n",
              "      <td>120</td>\n",
              "    </tr>\n",
              "    <tr>\n",
              "      <th>11</th>\n",
              "      <td>130</td>\n",
              "    </tr>\n",
              "    <tr>\n",
              "      <th>12</th>\n",
              "      <td>120</td>\n",
              "    </tr>\n",
              "    <tr>\n",
              "      <th>13</th>\n",
              "      <td>50</td>\n",
              "    </tr>\n",
              "    <tr>\n",
              "      <th>14</th>\n",
              "      <td>30</td>\n",
              "    </tr>\n",
              "    <tr>\n",
              "      <th>15</th>\n",
              "      <td>30</td>\n",
              "    </tr>\n",
              "    <tr>\n",
              "      <th>16</th>\n",
              "      <td>25</td>\n",
              "    </tr>\n",
              "    <tr>\n",
              "      <th>17</th>\n",
              "      <td>20</td>\n",
              "    </tr>\n",
              "    <tr>\n",
              "      <th>18</th>\n",
              "      <td>20</td>\n",
              "    </tr>\n",
              "    <tr>\n",
              "      <th>19</th>\n",
              "      <td>15</td>\n",
              "    </tr>\n",
              "    <tr>\n",
              "      <th>20</th>\n",
              "      <td>15</td>\n",
              "    </tr>\n",
              "    <tr>\n",
              "      <th>21</th>\n",
              "      <td>13</td>\n",
              "    </tr>\n",
              "    <tr>\n",
              "      <th>22</th>\n",
              "      <td>11</td>\n",
              "    </tr>\n",
              "    <tr>\n",
              "      <th>23</th>\n",
              "      <td>9</td>\n",
              "    </tr>\n",
              "    <tr>\n",
              "      <th>24</th>\n",
              "      <td>7</td>\n",
              "    </tr>\n",
              "    <tr>\n",
              "      <th>25</th>\n",
              "      <td>6</td>\n",
              "    </tr>\n",
              "    <tr>\n",
              "      <th>26</th>\n",
              "      <td>6</td>\n",
              "    </tr>\n",
              "    <tr>\n",
              "      <th>27</th>\n",
              "      <td>5</td>\n",
              "    </tr>\n",
              "    <tr>\n",
              "      <th>28</th>\n",
              "      <td>5</td>\n",
              "    </tr>\n",
              "    <tr>\n",
              "      <th>29</th>\n",
              "      <td>5</td>\n",
              "    </tr>\n",
              "    <tr>\n",
              "      <th>30</th>\n",
              "      <td>4</td>\n",
              "    </tr>\n",
              "    <tr>\n",
              "      <th>31</th>\n",
              "      <td>4</td>\n",
              "    </tr>\n",
              "    <tr>\n",
              "      <th>32</th>\n",
              "      <td>4</td>\n",
              "    </tr>\n",
              "    <tr>\n",
              "      <th>33</th>\n",
              "      <td>4</td>\n",
              "    </tr>\n",
              "    <tr>\n",
              "      <th>34</th>\n",
              "      <td>3</td>\n",
              "    </tr>\n",
              "    <tr>\n",
              "      <th>35</th>\n",
              "      <td>3</td>\n",
              "    </tr>\n",
              "    <tr>\n",
              "      <th>36</th>\n",
              "      <td>3</td>\n",
              "    </tr>\n",
              "    <tr>\n",
              "      <th>37</th>\n",
              "      <td>3</td>\n",
              "    </tr>\n",
              "    <tr>\n",
              "      <th>38</th>\n",
              "      <td>2</td>\n",
              "    </tr>\n",
              "    <tr>\n",
              "      <th>39</th>\n",
              "      <td>2</td>\n",
              "    </tr>\n",
              "    <tr>\n",
              "      <th>40</th>\n",
              "      <td>2</td>\n",
              "    </tr>\n",
              "    <tr>\n",
              "      <th>41</th>\n",
              "      <td>2</td>\n",
              "    </tr>\n",
              "    <tr>\n",
              "      <th>42</th>\n",
              "      <td>2</td>\n",
              "    </tr>\n",
              "    <tr>\n",
              "      <th>43</th>\n",
              "      <td>1</td>\n",
              "    </tr>\n",
              "    <tr>\n",
              "      <th>44</th>\n",
              "      <td>1</td>\n",
              "    </tr>\n",
              "    <tr>\n",
              "      <th>45</th>\n",
              "      <td>1</td>\n",
              "    </tr>\n",
              "    <tr>\n",
              "      <th>46</th>\n",
              "      <td>1</td>\n",
              "    </tr>\n",
              "    <tr>\n",
              "      <th>47</th>\n",
              "      <td>1</td>\n",
              "    </tr>\n",
              "    <tr>\n",
              "      <th>48</th>\n",
              "      <td>1</td>\n",
              "    </tr>\n",
              "    <tr>\n",
              "      <th>49</th>\n",
              "      <td>1</td>\n",
              "    </tr>\n",
              "  </tbody>\n",
              "</table>\n",
              "</div>"
            ],
            "text/plain": [
              "    Positive Skewed\n",
              "0                 1\n",
              "1                 1\n",
              "2                10\n",
              "3                10\n",
              "4                15\n",
              "5                15\n",
              "6                20\n",
              "7                20\n",
              "8                30\n",
              "9                50\n",
              "10              120\n",
              "11              130\n",
              "12              120\n",
              "13               50\n",
              "14               30\n",
              "15               30\n",
              "16               25\n",
              "17               20\n",
              "18               20\n",
              "19               15\n",
              "20               15\n",
              "21               13\n",
              "22               11\n",
              "23                9\n",
              "24                7\n",
              "25                6\n",
              "26                6\n",
              "27                5\n",
              "28                5\n",
              "29                5\n",
              "30                4\n",
              "31                4\n",
              "32                4\n",
              "33                4\n",
              "34                3\n",
              "35                3\n",
              "36                3\n",
              "37                3\n",
              "38                2\n",
              "39                2\n",
              "40                2\n",
              "41                2\n",
              "42                2\n",
              "43                1\n",
              "44                1\n",
              "45                1\n",
              "46                1\n",
              "47                1\n",
              "48                1\n",
              "49                1"
            ]
          },
          "metadata": {
            "tags": []
          },
          "execution_count": 23
        }
      ]
    },
    {
      "cell_type": "code",
      "metadata": {
        "id": "t9wJzYAhe-er",
        "outputId": "3b20d623-67dc-4ae9-cee6-da13dd6fd007",
        "colab": {
          "base_uri": "https://localhost:8080/",
          "height": 264
        }
      },
      "source": [
        "#Boxplot showing three outliers\n",
        "df.boxplot(column='Positive Skewed')\n",
        "plt.show()"
      ],
      "execution_count": 24,
      "outputs": [
        {
          "output_type": "display_data",
          "data": {
            "image/png": "[encoded data removed]",
            "text/plain": [
              "<Figure size 432x288 with 1 Axes>"
            ]
          },
          "metadata": {
            "tags": [],
            "needs_background": "light"
          }
        }
      ]
    },
    {
      "cell_type": "code",
      "metadata": {
        "id": "rPwH8Zi4fB6Y",
        "outputId": "d37d7c8d-68b9-4fdb-d56d-abe1a0693390",
        "colab": {
          "base_uri": "https://localhost:8080/",
          "height": 340
        }
      },
      "source": [
        "#Right Skewed data\n",
        "sns.distplot(df)"
      ],
      "execution_count": 25,
      "outputs": [
        {
          "output_type": "stream",
          "text": [
            "/usr/local/lib/python3.6/dist-packages/seaborn/distributions.py:2551: FutureWarning: `distplot` is a deprecated function and will be removed in a future version. Please adapt your code to use either `displot` (a figure-level function with similar flexibility) or `histplot` (an axes-level function for histograms).\n",
            "  warnings.warn(msg, FutureWarning)\n"
          ],
          "name": "stderr"
        },
        {
          "output_type": "execute_result",
          "data": {
            "text/plain": [
              "<matplotlib.axes._subplots.AxesSubplot at 0x7fada89026d8>"
            ]
          },
          "metadata": {
            "tags": []
          },
          "execution_count": 25
        },
        {
          "output_type": "display_data",
          "data": {
            "image/png": "[encoded data removed]",
            "text/plain": [
              "<Figure size 432x288 with 1 Axes>"
            ]
          },
          "metadata": {
            "tags": [],
            "needs_background": "light"
          }
        }
      ]
    },
    {
      "cell_type": "code",
      "metadata": {
        "id": "SpnmIEfjfFFz",
        "outputId": "f5a2032e-020c-4725-dfb8-c9394483e9a1",
        "colab": {
          "base_uri": "https://localhost:8080/",
          "height": 923
        }
      },
      "source": [
        "#Creating input data from dataframe df on variable Positive Skewness with input values ranging from 1 to 130\n",
        "inp_array = df \n",
        "print (\"Input array : \", inp_array)"
      ],
      "execution_count": 26,
      "outputs": [
        {
          "output_type": "stream",
          "text": [
            "Input array :      Positive Skewed\n",
            "0                 1\n",
            "1                 1\n",
            "2                10\n",
            "3                10\n",
            "4                15\n",
            "5                15\n",
            "6                20\n",
            "7                20\n",
            "8                30\n",
            "9                50\n",
            "10              120\n",
            "11              130\n",
            "12              120\n",
            "13               50\n",
            "14               30\n",
            "15               30\n",
            "16               25\n",
            "17               20\n",
            "18               20\n",
            "19               15\n",
            "20               15\n",
            "21               13\n",
            "22               11\n",
            "23                9\n",
            "24                7\n",
            "25                6\n",
            "26                6\n",
            "27                5\n",
            "28                5\n",
            "29                5\n",
            "30                4\n",
            "31                4\n",
            "32                4\n",
            "33                4\n",
            "34                3\n",
            "35                3\n",
            "36                3\n",
            "37                3\n",
            "38                2\n",
            "39                2\n",
            "40                2\n",
            "41                2\n",
            "42                2\n",
            "43                1\n",
            "44                1\n",
            "45                1\n",
            "46                1\n",
            "47                1\n",
            "48                1\n",
            "49                1\n"
          ],
          "name": "stdout"
        }
      ]
    },
    {
      "cell_type": "code",
      "metadata": {
        "id": "3O-B4A0_fIdn",
        "outputId": "e23152dd-d7c5-40b2-bc7c-176330d1d487",
        "colab": {
          "base_uri": "https://localhost:8080/",
          "height": 923
        }
      },
      "source": [
        "#Applying log10 transformation with output values ranging from 0 to 2+\n",
        "out_array = np.log10(inp_array) \n",
        "print (\"Output array : \", out_array)\n"
      ],
      "execution_count": 27,
      "outputs": [
        {
          "output_type": "stream",
          "text": [
            "Output array :      Positive Skewed\n",
            "0          0.000000\n",
            "1          0.000000\n",
            "2          1.000000\n",
            "3          1.000000\n",
            "4          1.176091\n",
            "5          1.176091\n",
            "6          1.301030\n",
            "7          1.301030\n",
            "8          1.477121\n",
            "9          1.698970\n",
            "10         2.079181\n",
            "11         2.113943\n",
            "12         2.079181\n",
            "13         1.698970\n",
            "14         1.477121\n",
            "15         1.477121\n",
            "16         1.397940\n",
            "17         1.301030\n",
            "18         1.301030\n",
            "19         1.176091\n",
            "20         1.176091\n",
            "21         1.113943\n",
            "22         1.041393\n",
            "23         0.954243\n",
            "24         0.845098\n",
            "25         0.778151\n",
            "26         0.778151\n",
            "27         0.698970\n",
            "28         0.698970\n",
            "29         0.698970\n",
            "30         0.602060\n",
            "31         0.602060\n",
            "32         0.602060\n",
            "33         0.602060\n",
            "34         0.477121\n",
            "35         0.477121\n",
            "36         0.477121\n",
            "37         0.477121\n",
            "38         0.301030\n",
            "39         0.301030\n",
            "40         0.301030\n",
            "41         0.301030\n",
            "42         0.301030\n",
            "43         0.000000\n",
            "44         0.000000\n",
            "45         0.000000\n",
            "46         0.000000\n",
            "47         0.000000\n",
            "48         0.000000\n",
            "49         0.000000\n"
          ],
          "name": "stdout"
        }
      ]
    },
    {
      "cell_type": "markdown",
      "metadata": {
        "id": "32beXdxch2wW"
      },
      "source": [
        "###Boxplot showing No outliers with all of them treated by doing log10 transformation."
      ]
    },
    {
      "cell_type": "code",
      "metadata": {
        "id": "wVWZBYCygXuc",
        "outputId": "67e99eda-6a61-4d5e-fd56-b13d5011e73b",
        "colab": {
          "base_uri": "https://localhost:8080/",
          "height": 264
        }
      },
      "source": [
        "out_array.boxplot(column='Positive Skewed')\n",
        "plt.show()"
      ],
      "execution_count": 28,
      "outputs": [
        {
          "output_type": "display_data",
          "data": {
            "image/png": "[encoded data removed]",
            "text/plain": [
              "<Figure size 432x288 with 1 Axes>"
            ]
          },
          "metadata": {
            "tags": [],
            "needs_background": "light"
          }
        }
      ]
    },
    {
      "cell_type": "markdown",
      "metadata": {
        "id": "3kYFhViRhzhp"
      },
      "source": [
        "###Right Skewed data transformed to Fairly or close to Normal Distribution using Log10 transformations"
      ]
    },
    {
      "cell_type": "code",
      "metadata": {
        "id": "Q06qOgRGga_n",
        "outputId": "569b1783-8785-4f7d-ea1b-fd1a97c81585",
        "colab": {
          "base_uri": "https://localhost:8080/",
          "height": 337
        }
      },
      "source": [
        "sns.distplot(out_array)"
      ],
      "execution_count": 29,
      "outputs": [
        {
          "output_type": "stream",
          "text": [
            "/usr/local/lib/python3.6/dist-packages/seaborn/distributions.py:2551: FutureWarning: `distplot` is a deprecated function and will be removed in a future version. Please adapt your code to use either `displot` (a figure-level function with similar flexibility) or `histplot` (an axes-level function for histograms).\n",
            "  warnings.warn(msg, FutureWarning)\n"
          ],
          "name": "stderr"
        },
        {
          "output_type": "execute_result",
          "data": {
            "text/plain": [
              "<matplotlib.axes._subplots.AxesSubplot at 0x7fada8df91d0>"
            ]
          },
          "metadata": {
            "tags": []
          },
          "execution_count": 29
        },
        {
          "output_type": "display_data",
          "data": {
            "image/png": "[encoded data removed]",
            "text/plain": [
              "<Figure size 432x288 with 1 Axes>"
            ]
          },
          "metadata": {
            "tags": [],
            "needs_background": "light"
          }
        }
      ]
    },
    {
      "cell_type": "markdown",
      "metadata": {
        "id": "-p9KJNKNhtZW"
      },
      "source": [
        "###If wants to revert back log10 values to original value for interpretation purpose then just raise 10 to the power \n",
        "#log10 values as shown below."
      ]
    },
    {
      "cell_type": "code",
      "metadata": {
        "id": "WQgSG3degd7k",
        "outputId": "67f17505-f9f2-40c4-b287-01d385128f3d",
        "colab": {
          "base_uri": "https://localhost:8080/",
          "height": 923
        }
      },
      "source": [
        "original_val = (10**out_array) \n",
        "print (\"Original Values : \", original_val)"
      ],
      "execution_count": 30,
      "outputs": [
        {
          "output_type": "stream",
          "text": [
            "Original Values :      Positive Skewed\n",
            "0               1.0\n",
            "1               1.0\n",
            "2              10.0\n",
            "3              10.0\n",
            "4              15.0\n",
            "5              15.0\n",
            "6              20.0\n",
            "7              20.0\n",
            "8              30.0\n",
            "9              50.0\n",
            "10            120.0\n",
            "11            130.0\n",
            "12            120.0\n",
            "13             50.0\n",
            "14             30.0\n",
            "15             30.0\n",
            "16             25.0\n",
            "17             20.0\n",
            "18             20.0\n",
            "19             15.0\n",
            "20             15.0\n",
            "21             13.0\n",
            "22             11.0\n",
            "23              9.0\n",
            "24              7.0\n",
            "25              6.0\n",
            "26              6.0\n",
            "27              5.0\n",
            "28              5.0\n",
            "29              5.0\n",
            "30              4.0\n",
            "31              4.0\n",
            "32              4.0\n",
            "33              4.0\n",
            "34              3.0\n",
            "35              3.0\n",
            "36              3.0\n",
            "37              3.0\n",
            "38              2.0\n",
            "39              2.0\n",
            "40              2.0\n",
            "41              2.0\n",
            "42              2.0\n",
            "43              1.0\n",
            "44              1.0\n",
            "45              1.0\n",
            "46              1.0\n",
            "47              1.0\n",
            "48              1.0\n",
            "49              1.0\n"
          ],
          "name": "stdout"
        }
      ]
    },
    {
      "cell_type": "markdown",
      "metadata": {
        "id": "6aDIsXmbgjzR"
      },
      "source": [
        "##Square Root Transformation for Positive or Right Skewed Data"
      ]
    },
    {
      "cell_type": "code",
      "metadata": {
        "id": "9rUzBzqUgggH",
        "outputId": "6078ec1a-1f23-451f-d8fc-b68f61fd1bf1",
        "colab": {
          "base_uri": "https://localhost:8080/",
          "height": 1000
        }
      },
      "source": [
        "import pandas as pd\n",
        "import numpy as np\n",
        "import seaborn as sns\n",
        "\n",
        "# Create a list of data. Here, we have included zeros as well in the data\n",
        "data = [0,0,1,1,10,10,15,15,20,20,30,50,120,130,120,50,30,30,25,20,20,15,15,13,11,9,7,6,6,5,5,5,4,4,4,4,3,3,3,3,2,2,2,2,2,1,1,1,1,1,1,\n",
        "1,0,0] \n",
        "  \n",
        "# Create the pandas DataFrame \n",
        "df2 = pd.DataFrame(data, columns = ['Positive Skewed']) \n",
        "  \n",
        "# print dataframe. \n",
        "df2\n"
      ],
      "execution_count": 31,
      "outputs": [
        {
          "output_type": "execute_result",
          "data": {
            "text/html": [
              "<div>\n",
              "<style scoped>\n",
              "    .dataframe tbody tr th:only-of-type {\n",
              "        vertical-align: middle;\n",
              "    }\n",
              "\n",
              "    .dataframe tbody tr th {\n",
              "        vertical-align: top;\n",
              "    }\n",
              "\n",
              "    .dataframe thead th {\n",
              "        text-align: right;\n",
              "    }\n",
              "</style>\n",
              "<table border=\"1\" class=\"dataframe\">\n",
              "  <thead>\n",
              "    <tr style=\"text-align: right;\">\n",
              "      <th></th>\n",
              "      <th>Positive Skewed</th>\n",
              "    </tr>\n",
              "  </thead>\n",
              "  <tbody>\n",
              "    <tr>\n",
              "      <th>0</th>\n",
              "      <td>0</td>\n",
              "    </tr>\n",
              "    <tr>\n",
              "      <th>1</th>\n",
              "      <td>0</td>\n",
              "    </tr>\n",
              "    <tr>\n",
              "      <th>2</th>\n",
              "      <td>1</td>\n",
              "    </tr>\n",
              "    <tr>\n",
              "      <th>3</th>\n",
              "      <td>1</td>\n",
              "    </tr>\n",
              "    <tr>\n",
              "      <th>4</th>\n",
              "      <td>10</td>\n",
              "    </tr>\n",
              "    <tr>\n",
              "      <th>5</th>\n",
              "      <td>10</td>\n",
              "    </tr>\n",
              "    <tr>\n",
              "      <th>6</th>\n",
              "      <td>15</td>\n",
              "    </tr>\n",
              "    <tr>\n",
              "      <th>7</th>\n",
              "      <td>15</td>\n",
              "    </tr>\n",
              "    <tr>\n",
              "      <th>8</th>\n",
              "      <td>20</td>\n",
              "    </tr>\n",
              "    <tr>\n",
              "      <th>9</th>\n",
              "      <td>20</td>\n",
              "    </tr>\n",
              "    <tr>\n",
              "      <th>10</th>\n",
              "      <td>30</td>\n",
              "    </tr>\n",
              "    <tr>\n",
              "      <th>11</th>\n",
              "      <td>50</td>\n",
              "    </tr>\n",
              "    <tr>\n",
              "      <th>12</th>\n",
              "      <td>120</td>\n",
              "    </tr>\n",
              "    <tr>\n",
              "      <th>13</th>\n",
              "      <td>130</td>\n",
              "    </tr>\n",
              "    <tr>\n",
              "      <th>14</th>\n",
              "      <td>120</td>\n",
              "    </tr>\n",
              "    <tr>\n",
              "      <th>15</th>\n",
              "      <td>50</td>\n",
              "    </tr>\n",
              "    <tr>\n",
              "      <th>16</th>\n",
              "      <td>30</td>\n",
              "    </tr>\n",
              "    <tr>\n",
              "      <th>17</th>\n",
              "      <td>30</td>\n",
              "    </tr>\n",
              "    <tr>\n",
              "      <th>18</th>\n",
              "      <td>25</td>\n",
              "    </tr>\n",
              "    <tr>\n",
              "      <th>19</th>\n",
              "      <td>20</td>\n",
              "    </tr>\n",
              "    <tr>\n",
              "      <th>20</th>\n",
              "      <td>20</td>\n",
              "    </tr>\n",
              "    <tr>\n",
              "      <th>21</th>\n",
              "      <td>15</td>\n",
              "    </tr>\n",
              "    <tr>\n",
              "      <th>22</th>\n",
              "      <td>15</td>\n",
              "    </tr>\n",
              "    <tr>\n",
              "      <th>23</th>\n",
              "      <td>13</td>\n",
              "    </tr>\n",
              "    <tr>\n",
              "      <th>24</th>\n",
              "      <td>11</td>\n",
              "    </tr>\n",
              "    <tr>\n",
              "      <th>25</th>\n",
              "      <td>9</td>\n",
              "    </tr>\n",
              "    <tr>\n",
              "      <th>26</th>\n",
              "      <td>7</td>\n",
              "    </tr>\n",
              "    <tr>\n",
              "      <th>27</th>\n",
              "      <td>6</td>\n",
              "    </tr>\n",
              "    <tr>\n",
              "      <th>28</th>\n",
              "      <td>6</td>\n",
              "    </tr>\n",
              "    <tr>\n",
              "      <th>29</th>\n",
              "      <td>5</td>\n",
              "    </tr>\n",
              "    <tr>\n",
              "      <th>30</th>\n",
              "      <td>5</td>\n",
              "    </tr>\n",
              "    <tr>\n",
              "      <th>31</th>\n",
              "      <td>5</td>\n",
              "    </tr>\n",
              "    <tr>\n",
              "      <th>32</th>\n",
              "      <td>4</td>\n",
              "    </tr>\n",
              "    <tr>\n",
              "      <th>33</th>\n",
              "      <td>4</td>\n",
              "    </tr>\n",
              "    <tr>\n",
              "      <th>34</th>\n",
              "      <td>4</td>\n",
              "    </tr>\n",
              "    <tr>\n",
              "      <th>35</th>\n",
              "      <td>4</td>\n",
              "    </tr>\n",
              "    <tr>\n",
              "      <th>36</th>\n",
              "      <td>3</td>\n",
              "    </tr>\n",
              "    <tr>\n",
              "      <th>37</th>\n",
              "      <td>3</td>\n",
              "    </tr>\n",
              "    <tr>\n",
              "      <th>38</th>\n",
              "      <td>3</td>\n",
              "    </tr>\n",
              "    <tr>\n",
              "      <th>39</th>\n",
              "      <td>3</td>\n",
              "    </tr>\n",
              "    <tr>\n",
              "      <th>40</th>\n",
              "      <td>2</td>\n",
              "    </tr>\n",
              "    <tr>\n",
              "      <th>41</th>\n",
              "      <td>2</td>\n",
              "    </tr>\n",
              "    <tr>\n",
              "      <th>42</th>\n",
              "      <td>2</td>\n",
              "    </tr>\n",
              "    <tr>\n",
              "      <th>43</th>\n",
              "      <td>2</td>\n",
              "    </tr>\n",
              "    <tr>\n",
              "      <th>44</th>\n",
              "      <td>2</td>\n",
              "    </tr>\n",
              "    <tr>\n",
              "      <th>45</th>\n",
              "      <td>1</td>\n",
              "    </tr>\n",
              "    <tr>\n",
              "      <th>46</th>\n",
              "      <td>1</td>\n",
              "    </tr>\n",
              "    <tr>\n",
              "      <th>47</th>\n",
              "      <td>1</td>\n",
              "    </tr>\n",
              "    <tr>\n",
              "      <th>48</th>\n",
              "      <td>1</td>\n",
              "    </tr>\n",
              "    <tr>\n",
              "      <th>49</th>\n",
              "      <td>1</td>\n",
              "    </tr>\n",
              "    <tr>\n",
              "      <th>50</th>\n",
              "      <td>1</td>\n",
              "    </tr>\n",
              "    <tr>\n",
              "      <th>51</th>\n",
              "      <td>1</td>\n",
              "    </tr>\n",
              "    <tr>\n",
              "      <th>52</th>\n",
              "      <td>0</td>\n",
              "    </tr>\n",
              "    <tr>\n",
              "      <th>53</th>\n",
              "      <td>0</td>\n",
              "    </tr>\n",
              "  </tbody>\n",
              "</table>\n",
              "</div>"
            ],
            "text/plain": [
              "    Positive Skewed\n",
              "0                 0\n",
              "1                 0\n",
              "2                 1\n",
              "3                 1\n",
              "4                10\n",
              "5                10\n",
              "6                15\n",
              "7                15\n",
              "8                20\n",
              "9                20\n",
              "10               30\n",
              "11               50\n",
              "12              120\n",
              "13              130\n",
              "14              120\n",
              "15               50\n",
              "16               30\n",
              "17               30\n",
              "18               25\n",
              "19               20\n",
              "20               20\n",
              "21               15\n",
              "22               15\n",
              "23               13\n",
              "24               11\n",
              "25                9\n",
              "26                7\n",
              "27                6\n",
              "28                6\n",
              "29                5\n",
              "30                5\n",
              "31                5\n",
              "32                4\n",
              "33                4\n",
              "34                4\n",
              "35                4\n",
              "36                3\n",
              "37                3\n",
              "38                3\n",
              "39                3\n",
              "40                2\n",
              "41                2\n",
              "42                2\n",
              "43                2\n",
              "44                2\n",
              "45                1\n",
              "46                1\n",
              "47                1\n",
              "48                1\n",
              "49                1\n",
              "50                1\n",
              "51                1\n",
              "52                0\n",
              "53                0"
            ]
          },
          "metadata": {
            "tags": []
          },
          "execution_count": 31
        }
      ]
    },
    {
      "cell_type": "markdown",
      "metadata": {
        "id": "QuLiT1HVhpW_"
      },
      "source": [
        "###Boxplot showing three outliers"
      ]
    },
    {
      "cell_type": "code",
      "metadata": {
        "id": "y15v_s4cgncI",
        "outputId": "9337a828-84ce-45cf-c033-dbfd5fe01493",
        "colab": {
          "base_uri": "https://localhost:8080/",
          "height": 264
        }
      },
      "source": [
        "df2.boxplot(column='Positive Skewed')\n",
        "plt.show()"
      ],
      "execution_count": 32,
      "outputs": [
        {
          "output_type": "display_data",
          "data": {
            "image/png": "[encoded data removed]",
            "text/plain": [
              "<Figure size 432x288 with 1 Axes>"
            ]
          },
          "metadata": {
            "tags": [],
            "needs_background": "light"
          }
        }
      ]
    },
    {
      "cell_type": "markdown",
      "metadata": {
        "id": "qLfAtCw2hhcv"
      },
      "source": [
        "###Right Skewed data "
      ]
    },
    {
      "cell_type": "code",
      "metadata": {
        "id": "TrmBgWwOgqIA",
        "outputId": "cb9554c0-b365-444b-e151-c36a5ad94bc1",
        "colab": {
          "base_uri": "https://localhost:8080/",
          "height": 337
        }
      },
      "source": [
        " \n",
        "sns.distplot(df2)"
      ],
      "execution_count": 33,
      "outputs": [
        {
          "output_type": "stream",
          "text": [
            "/usr/local/lib/python3.6/dist-packages/seaborn/distributions.py:2551: FutureWarning: `distplot` is a deprecated function and will be removed in a future version. Please adapt your code to use either `displot` (a figure-level function with similar flexibility) or `histplot` (an axes-level function for histograms).\n",
            "  warnings.warn(msg, FutureWarning)\n"
          ],
          "name": "stderr"
        },
        {
          "output_type": "execute_result",
          "data": {
            "text/plain": [
              "<matplotlib.axes._subplots.AxesSubplot at 0x7fada74b2978>"
            ]
          },
          "metadata": {
            "tags": []
          },
          "execution_count": 33
        },
        {
          "output_type": "display_data",
          "data": {
            "image/png": "[encoded data removed]",
            "text/plain": [
              "<Figure size 432x288 with 1 Axes>"
            ]
          },
          "metadata": {
            "tags": [],
            "needs_background": "light"
          }
        }
      ]
    },
    {
      "cell_type": "markdown",
      "metadata": {
        "id": "gpGlyi47hHtZ"
      },
      "source": [
        "###Creating input data from dataframe df on variable Positive Skewness with input values ranging from 0 to 130"
      ]
    },
    {
      "cell_type": "code",
      "metadata": {
        "id": "mgG5UqI8gscl",
        "outputId": "782b7315-372e-4aef-edbc-2a1661e13812",
        "colab": {
          "base_uri": "https://localhost:8080/",
          "height": 994
        }
      },
      "source": [
        "\n",
        "inp_array2 = df2 \n",
        "print (\"Input array : \", inp_array2)"
      ],
      "execution_count": 34,
      "outputs": [
        {
          "output_type": "stream",
          "text": [
            "Input array :      Positive Skewed\n",
            "0                 0\n",
            "1                 0\n",
            "2                 1\n",
            "3                 1\n",
            "4                10\n",
            "5                10\n",
            "6                15\n",
            "7                15\n",
            "8                20\n",
            "9                20\n",
            "10               30\n",
            "11               50\n",
            "12              120\n",
            "13              130\n",
            "14              120\n",
            "15               50\n",
            "16               30\n",
            "17               30\n",
            "18               25\n",
            "19               20\n",
            "20               20\n",
            "21               15\n",
            "22               15\n",
            "23               13\n",
            "24               11\n",
            "25                9\n",
            "26                7\n",
            "27                6\n",
            "28                6\n",
            "29                5\n",
            "30                5\n",
            "31                5\n",
            "32                4\n",
            "33                4\n",
            "34                4\n",
            "35                4\n",
            "36                3\n",
            "37                3\n",
            "38                3\n",
            "39                3\n",
            "40                2\n",
            "41                2\n",
            "42                2\n",
            "43                2\n",
            "44                2\n",
            "45                1\n",
            "46                1\n",
            "47                1\n",
            "48                1\n",
            "49                1\n",
            "50                1\n",
            "51                1\n",
            "52                0\n",
            "53                0\n"
          ],
          "name": "stdout"
        }
      ]
    },
    {
      "cell_type": "markdown",
      "metadata": {
        "id": "DlfRpVBAhCh0"
      },
      "source": [
        "###Applying Square Root transformation with output values ranging from 0 to 11+"
      ]
    },
    {
      "cell_type": "code",
      "metadata": {
        "id": "e0a0pfPegvyn",
        "outputId": "433e178d-c28f-4147-ee0c-4be5dd654335",
        "colab": {
          "base_uri": "https://localhost:8080/",
          "height": 994
        }
      },
      "source": [
        "\n",
        "out_array2 = np.sqrt(inp_array2) \n",
        "print (\"Output array : \", out_array2)"
      ],
      "execution_count": 35,
      "outputs": [
        {
          "output_type": "stream",
          "text": [
            "Output array :      Positive Skewed\n",
            "0          0.000000\n",
            "1          0.000000\n",
            "2          1.000000\n",
            "3          1.000000\n",
            "4          3.162278\n",
            "5          3.162278\n",
            "6          3.872983\n",
            "7          3.872983\n",
            "8          4.472136\n",
            "9          4.472136\n",
            "10         5.477226\n",
            "11         7.071068\n",
            "12        10.954451\n",
            "13        11.401754\n",
            "14        10.954451\n",
            "15         7.071068\n",
            "16         5.477226\n",
            "17         5.477226\n",
            "18         5.000000\n",
            "19         4.472136\n",
            "20         4.472136\n",
            "21         3.872983\n",
            "22         3.872983\n",
            "23         3.605551\n",
            "24         3.316625\n",
            "25         3.000000\n",
            "26         2.645751\n",
            "27         2.449490\n",
            "28         2.449490\n",
            "29         2.236068\n",
            "30         2.236068\n",
            "31         2.236068\n",
            "32         2.000000\n",
            "33         2.000000\n",
            "34         2.000000\n",
            "35         2.000000\n",
            "36         1.732051\n",
            "37         1.732051\n",
            "38         1.732051\n",
            "39         1.732051\n",
            "40         1.414214\n",
            "41         1.414214\n",
            "42         1.414214\n",
            "43         1.414214\n",
            "44         1.414214\n",
            "45         1.000000\n",
            "46         1.000000\n",
            "47         1.000000\n",
            "48         1.000000\n",
            "49         1.000000\n",
            "50         1.000000\n",
            "51         1.000000\n",
            "52         0.000000\n",
            "53         0.000000\n"
          ],
          "name": "stdout"
        }
      ]
    },
    {
      "cell_type": "markdown",
      "metadata": {
        "id": "7zE4ej-Kg--I"
      },
      "source": [
        "###Boxplot showing only Two outliers now, with one of those treated by doing Square Root transformation."
      ]
    },
    {
      "cell_type": "code",
      "metadata": {
        "id": "vSvg01Kfgypr",
        "outputId": "c18f736d-9cfa-4d0a-8e3c-936d3b119d6f",
        "colab": {
          "base_uri": "https://localhost:8080/",
          "height": 264
        }
      },
      "source": [
        "\n",
        "out_array2.boxplot(column='Positive Skewed')\n",
        "plt.show()"
      ],
      "execution_count": 36,
      "outputs": [
        {
          "output_type": "display_data",
          "data": {
            "image/png": "[encoded data removed]",
            "text/plain": [
              "<Figure size 432x288 with 1 Axes>"
            ]
          },
          "metadata": {
            "tags": [],
            "needs_background": "light"
          }
        }
      ]
    },
    {
      "cell_type": "markdown",
      "metadata": {
        "id": "AWmkPSoBg6iI"
      },
      "source": [
        "###Right Skewed data transformed to Fairly or close to Normal Distribution using Square Root transformations, though not perfect\n",
        "#Normal Distribution since this type of transformation has moderate effect on distribution shape"
      ]
    },
    {
      "cell_type": "code",
      "metadata": {
        "id": "EmFIsjD4g1T2",
        "outputId": "b43a9662-0dea-4ab4-caa4-ad87706c8098",
        "colab": {
          "base_uri": "https://localhost:8080/",
          "height": 337
        }
      },
      "source": [
        "\n",
        "sns.distplot(out_array2)"
      ],
      "execution_count": 37,
      "outputs": [
        {
          "output_type": "stream",
          "text": [
            "/usr/local/lib/python3.6/dist-packages/seaborn/distributions.py:2551: FutureWarning: `distplot` is a deprecated function and will be removed in a future version. Please adapt your code to use either `displot` (a figure-level function with similar flexibility) or `histplot` (an axes-level function for histograms).\n",
            "  warnings.warn(msg, FutureWarning)\n"
          ],
          "name": "stderr"
        },
        {
          "output_type": "execute_result",
          "data": {
            "text/plain": [
              "<matplotlib.axes._subplots.AxesSubplot at 0x7fada742ea90>"
            ]
          },
          "metadata": {
            "tags": []
          },
          "execution_count": 37
        },
        {
          "output_type": "display_data",
          "data": {
            "image/png": "[encoded data removed]",
            "text/plain": [
              "<Figure size 432x288 with 1 Axes>"
            ]
          },
          "metadata": {
            "tags": [],
            "needs_background": "light"
          }
        }
      ]
    },
    {
      "cell_type": "code",
      "metadata": {
        "id": "AHFtx_Uxg8Ma"
      },
      "source": [
        ""
      ],
      "execution_count": null,
      "outputs": []
    }
  ]
}