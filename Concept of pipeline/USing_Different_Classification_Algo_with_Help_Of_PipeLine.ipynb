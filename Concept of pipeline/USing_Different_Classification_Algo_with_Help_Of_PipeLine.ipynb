{
  "nbformat": 4,
  "nbformat_minor": 0,
  "metadata": {
    "colab": {
      "name": "USing Different Classification Algo with Help Of PipeLine.ipynb",
      "provenance": [],
      "collapsed_sections": [],
      "toc_visible": true
    },
    "kernelspec": {
      "name": "python3",
      "display_name": "Python 3"
    }
  },
  "cells": [
    {
      "cell_type": "code",
      "metadata": {
        "id": "b2VTdkGyG0wo",
        "outputId": "0672458f-b93c-4aef-afdb-a8e3ed0731e5",
        "colab": {
          "base_uri": "https://localhost:8080/",
          "height": 502
        }
      },
      "source": [
        "!pip install dalex"
      ],
      "execution_count": null,
      "outputs": [
        {
          "output_type": "stream",
          "text": [
            "Collecting dalex\n",
            "\u001b[?25l  Downloading https://files.pythonhosted.org/packages/0d/15/ab3cded07a62bfb025694968a372d2aa902d50df691312638a0550e399eb/dalex-0.2.2.tar.gz (892kB)\n",
            "\u001b[K     |████████████████████████████████| 901kB 2.8MB/s \n",
            "\u001b[?25hRequirement already satisfied: pandas>=1.1.2 in /usr/local/lib/python3.6/dist-packages (from dalex) (1.1.2)\n",
            "Requirement already satisfied: numpy>=1.18.4 in /usr/local/lib/python3.6/dist-packages (from dalex) (1.18.5)\n",
            "Collecting plotly>=4.9.0\n",
            "\u001b[?25l  Downloading https://files.pythonhosted.org/packages/68/47/cec583df9ffb6142b84698c1be2124ef8f786f1e9a4307fae331377ccddc/plotly-4.11.0-py2.py3-none-any.whl (13.1MB)\n",
            "\u001b[K     |████████████████████████████████| 13.1MB 317kB/s \n",
            "\u001b[?25hCollecting tqdm>=4.48.2\n",
            "\u001b[?25l  Downloading https://files.pythonhosted.org/packages/bd/cf/f91813073e4135c1183cadf968256764a6fe4e35c351d596d527c0540461/tqdm-4.50.2-py2.py3-none-any.whl (70kB)\n",
            "\u001b[K     |████████████████████████████████| 71kB 8.0MB/s \n",
            "\u001b[?25hRequirement already satisfied: pytz>=2017.2 in /usr/local/lib/python3.6/dist-packages (from pandas>=1.1.2->dalex) (2018.9)\n",
            "Requirement already satisfied: python-dateutil>=2.7.3 in /usr/local/lib/python3.6/dist-packages (from pandas>=1.1.2->dalex) (2.8.1)\n",
            "Requirement already satisfied: six in /usr/local/lib/python3.6/dist-packages (from plotly>=4.9.0->dalex) (1.15.0)\n",
            "Requirement already satisfied: retrying>=1.3.3 in /usr/local/lib/python3.6/dist-packages (from plotly>=4.9.0->dalex) (1.3.3)\n",
            "Building wheels for collected packages: dalex\n",
            "  Building wheel for dalex (setup.py) ... \u001b[?25l\u001b[?25hdone\n",
            "  Created wheel for dalex: filename=dalex-0.2.2-cp36-none-any.whl size=905581 sha256=a8f6d3db58b275c2f8bd164afcd539fbee9016cde15fe6394f9b0ad6988573bd\n",
            "  Stored in directory: /root/.cache/pip/wheels/4b/75/67/10c307546466376a00187b70fbe25bbe0d78bab894496017a9\n",
            "Successfully built dalex\n",
            "Installing collected packages: plotly, tqdm, dalex\n",
            "  Found existing installation: plotly 4.4.1\n",
            "    Uninstalling plotly-4.4.1:\n",
            "      Successfully uninstalled plotly-4.4.1\n",
            "  Found existing installation: tqdm 4.41.1\n",
            "    Uninstalling tqdm-4.41.1:\n",
            "      Successfully uninstalled tqdm-4.41.1\n",
            "Successfully installed dalex-0.2.2 plotly-4.11.0 tqdm-4.50.2\n"
          ],
          "name": "stdout"
        }
      ]
    },
    {
      "cell_type": "code",
      "metadata": {
        "id": "CB65Na37GwcF"
      },
      "source": [
        "import dalex as dx##containing titanic dataset\n"
      ],
      "execution_count": null,
      "outputs": []
    },
    {
      "cell_type": "code",
      "metadata": {
        "id": "sCYH7AIaGzcQ"
      },
      "source": [
        "titanic = dx.datasets.load_titanic()\n",
        "X = titanic.drop(columns='survived')\n",
        "y = titanic.survived"
      ],
      "execution_count": null,
      "outputs": []
    },
    {
      "cell_type": "code",
      "metadata": {
        "id": "bU8ZId6SG-fP",
        "outputId": "ba827b1a-8862-4687-ebea-ec17ae66aedf",
        "colab": {
          "base_uri": "https://localhost:8080/",
          "height": 202
        }
      },
      "source": [
        "titanic.head()"
      ],
      "execution_count": null,
      "outputs": [
        {
          "output_type": "execute_result",
          "data": {
            "text/html": [
              "<div>\n",
              "<style scoped>\n",
              "    .dataframe tbody tr th:only-of-type {\n",
              "        vertical-align: middle;\n",
              "    }\n",
              "\n",
              "    .dataframe tbody tr th {\n",
              "        vertical-align: top;\n",
              "    }\n",
              "\n",
              "    .dataframe thead th {\n",
              "        text-align: right;\n",
              "    }\n",
              "</style>\n",
              "<table border=\"1\" class=\"dataframe\">\n",
              "  <thead>\n",
              "    <tr style=\"text-align: right;\">\n",
              "      <th></th>\n",
              "      <th>gender</th>\n",
              "      <th>age</th>\n",
              "      <th>class</th>\n",
              "      <th>embarked</th>\n",
              "      <th>fare</th>\n",
              "      <th>sibsp</th>\n",
              "      <th>parch</th>\n",
              "      <th>survived</th>\n",
              "    </tr>\n",
              "  </thead>\n",
              "  <tbody>\n",
              "    <tr>\n",
              "      <th>0</th>\n",
              "      <td>male</td>\n",
              "      <td>42.0</td>\n",
              "      <td>3rd</td>\n",
              "      <td>Southampton</td>\n",
              "      <td>7.11</td>\n",
              "      <td>0</td>\n",
              "      <td>0</td>\n",
              "      <td>0</td>\n",
              "    </tr>\n",
              "    <tr>\n",
              "      <th>1</th>\n",
              "      <td>male</td>\n",
              "      <td>13.0</td>\n",
              "      <td>3rd</td>\n",
              "      <td>Southampton</td>\n",
              "      <td>20.05</td>\n",
              "      <td>0</td>\n",
              "      <td>2</td>\n",
              "      <td>0</td>\n",
              "    </tr>\n",
              "    <tr>\n",
              "      <th>2</th>\n",
              "      <td>male</td>\n",
              "      <td>16.0</td>\n",
              "      <td>3rd</td>\n",
              "      <td>Southampton</td>\n",
              "      <td>20.05</td>\n",
              "      <td>1</td>\n",
              "      <td>1</td>\n",
              "      <td>0</td>\n",
              "    </tr>\n",
              "    <tr>\n",
              "      <th>3</th>\n",
              "      <td>female</td>\n",
              "      <td>39.0</td>\n",
              "      <td>3rd</td>\n",
              "      <td>Southampton</td>\n",
              "      <td>20.05</td>\n",
              "      <td>1</td>\n",
              "      <td>1</td>\n",
              "      <td>1</td>\n",
              "    </tr>\n",
              "    <tr>\n",
              "      <th>4</th>\n",
              "      <td>female</td>\n",
              "      <td>16.0</td>\n",
              "      <td>3rd</td>\n",
              "      <td>Southampton</td>\n",
              "      <td>7.13</td>\n",
              "      <td>0</td>\n",
              "      <td>0</td>\n",
              "      <td>1</td>\n",
              "    </tr>\n",
              "  </tbody>\n",
              "</table>\n",
              "</div>"
            ],
            "text/plain": [
              "   gender   age class     embarked   fare  sibsp  parch  survived\n",
              "0    male  42.0   3rd  Southampton   7.11      0      0         0\n",
              "1    male  13.0   3rd  Southampton  20.05      0      2         0\n",
              "2    male  16.0   3rd  Southampton  20.05      1      1         0\n",
              "3  female  39.0   3rd  Southampton  20.05      1      1         1\n",
              "4  female  16.0   3rd  Southampton   7.13      0      0         1"
            ]
          },
          "metadata": {
            "tags": []
          },
          "execution_count": 49
        }
      ]
    },
    {
      "cell_type": "code",
      "metadata": {
        "id": "ehI2KKTRHCm7",
        "outputId": "0047dea8-3eac-4c10-eb3b-73bc5aca4383",
        "colab": {
          "base_uri": "https://localhost:8080/",
          "height": 202
        }
      },
      "source": [
        "X.head()"
      ],
      "execution_count": null,
      "outputs": [
        {
          "output_type": "execute_result",
          "data": {
            "text/html": [
              "<div>\n",
              "<style scoped>\n",
              "    .dataframe tbody tr th:only-of-type {\n",
              "        vertical-align: middle;\n",
              "    }\n",
              "\n",
              "    .dataframe tbody tr th {\n",
              "        vertical-align: top;\n",
              "    }\n",
              "\n",
              "    .dataframe thead th {\n",
              "        text-align: right;\n",
              "    }\n",
              "</style>\n",
              "<table border=\"1\" class=\"dataframe\">\n",
              "  <thead>\n",
              "    <tr style=\"text-align: right;\">\n",
              "      <th></th>\n",
              "      <th>gender</th>\n",
              "      <th>age</th>\n",
              "      <th>class</th>\n",
              "      <th>embarked</th>\n",
              "      <th>fare</th>\n",
              "      <th>sibsp</th>\n",
              "      <th>parch</th>\n",
              "    </tr>\n",
              "  </thead>\n",
              "  <tbody>\n",
              "    <tr>\n",
              "      <th>0</th>\n",
              "      <td>male</td>\n",
              "      <td>42.0</td>\n",
              "      <td>3rd</td>\n",
              "      <td>Southampton</td>\n",
              "      <td>7.11</td>\n",
              "      <td>0</td>\n",
              "      <td>0</td>\n",
              "    </tr>\n",
              "    <tr>\n",
              "      <th>1</th>\n",
              "      <td>male</td>\n",
              "      <td>13.0</td>\n",
              "      <td>3rd</td>\n",
              "      <td>Southampton</td>\n",
              "      <td>20.05</td>\n",
              "      <td>0</td>\n",
              "      <td>2</td>\n",
              "    </tr>\n",
              "    <tr>\n",
              "      <th>2</th>\n",
              "      <td>male</td>\n",
              "      <td>16.0</td>\n",
              "      <td>3rd</td>\n",
              "      <td>Southampton</td>\n",
              "      <td>20.05</td>\n",
              "      <td>1</td>\n",
              "      <td>1</td>\n",
              "    </tr>\n",
              "    <tr>\n",
              "      <th>3</th>\n",
              "      <td>female</td>\n",
              "      <td>39.0</td>\n",
              "      <td>3rd</td>\n",
              "      <td>Southampton</td>\n",
              "      <td>20.05</td>\n",
              "      <td>1</td>\n",
              "      <td>1</td>\n",
              "    </tr>\n",
              "    <tr>\n",
              "      <th>4</th>\n",
              "      <td>female</td>\n",
              "      <td>16.0</td>\n",
              "      <td>3rd</td>\n",
              "      <td>Southampton</td>\n",
              "      <td>7.13</td>\n",
              "      <td>0</td>\n",
              "      <td>0</td>\n",
              "    </tr>\n",
              "  </tbody>\n",
              "</table>\n",
              "</div>"
            ],
            "text/plain": [
              "   gender   age class     embarked   fare  sibsp  parch\n",
              "0    male  42.0   3rd  Southampton   7.11      0      0\n",
              "1    male  13.0   3rd  Southampton  20.05      0      2\n",
              "2    male  16.0   3rd  Southampton  20.05      1      1\n",
              "3  female  39.0   3rd  Southampton  20.05      1      1\n",
              "4  female  16.0   3rd  Southampton   7.13      0      0"
            ]
          },
          "metadata": {
            "tags": []
          },
          "execution_count": 50
        }
      ]
    },
    {
      "cell_type": "code",
      "metadata": {
        "id": "E8SBK_SLHE3B",
        "outputId": "3300c245-49c3-4b5b-c053-601999649750",
        "colab": {
          "base_uri": "https://localhost:8080/",
          "height": 121
        }
      },
      "source": [
        "y.head()"
      ],
      "execution_count": null,
      "outputs": [
        {
          "output_type": "execute_result",
          "data": {
            "text/plain": [
              "0    0\n",
              "1    0\n",
              "2    0\n",
              "3    1\n",
              "4    1\n",
              "Name: survived, dtype: int64"
            ]
          },
          "metadata": {
            "tags": []
          },
          "execution_count": 51
        }
      ]
    },
    {
      "cell_type": "markdown",
      "metadata": {
        "id": "mQbNxg_lHL-Q"
      },
      "source": [
        "###BY using pipeline convert categorical features into onehot encoding means numeric values"
      ]
    },
    {
      "cell_type": "code",
      "metadata": {
        "id": "P2J_VlMxHFxX"
      },
      "source": [
        "from sklearn.preprocessing import StandardScaler, OneHotEncoder\n",
        "from sklearn.compose import make_column_transformer\n",
        "from sklearn.pipeline import make_pipeline\n",
        "\n",
        "preprocess = make_column_transformer(\n",
        "    (StandardScaler(), ['age', 'fare', 'parch', 'sibsp']),\n",
        "    (OneHotEncoder(), ['gender', 'class', 'embarked']))"
      ],
      "execution_count": null,
      "outputs": []
    },
    {
      "cell_type": "markdown",
      "metadata": {
        "id": "mGtfx0xlIETQ"
      },
      "source": [
        "#Logistic Regression Model"
      ]
    },
    {
      "cell_type": "code",
      "metadata": {
        "id": "TkE_sGfiHih3",
        "outputId": "cb1ba68a-1947-4cee-94e5-347e16e38c05",
        "colab": {
          "base_uri": "https://localhost:8080/",
          "height": 520
        }
      },
      "source": [
        "from sklearn.linear_model import LogisticRegression\n",
        "\n",
        "titanic_lr = make_pipeline(\n",
        "    preprocess,\n",
        "    LogisticRegression(penalty = 'l2'))\n",
        "titanic_lr.fit(X, y)"
      ],
      "execution_count": null,
      "outputs": [
        {
          "output_type": "execute_result",
          "data": {
            "text/plain": [
              "Pipeline(memory=None,\n",
              "         steps=[('columntransformer',\n",
              "                 ColumnTransformer(n_jobs=None, remainder='drop',\n",
              "                                   sparse_threshold=0.3,\n",
              "                                   transformer_weights=None,\n",
              "                                   transformers=[('standardscaler',\n",
              "                                                  StandardScaler(copy=True,\n",
              "                                                                 with_mean=True,\n",
              "                                                                 with_std=True),\n",
              "                                                  ['age', 'fare', 'parch',\n",
              "                                                   'sibsp']),\n",
              "                                                 ('onehotencoder',\n",
              "                                                  OneHotEncoder(categories='auto',\n",
              "                                                                drop=None,\n",
              "                                                                dtype=<class 'numpy.float64'>,\n",
              "                                                                h...nknown='error',\n",
              "                                                                sparse=True),\n",
              "                                                  ['gender', 'class',\n",
              "                                                   'embarked'])],\n",
              "                                   verbose=False)),\n",
              "                ('logisticregression',\n",
              "                 LogisticRegression(C=1.0, class_weight=None, dual=False,\n",
              "                                    fit_intercept=True, intercept_scaling=1,\n",
              "                                    l1_ratio=None, max_iter=100,\n",
              "                                    multi_class='auto', n_jobs=None,\n",
              "                                    penalty='l2', random_state=None,\n",
              "                                    solver='lbfgs', tol=0.0001, verbose=0,\n",
              "                                    warm_start=False))],\n",
              "         verbose=False)"
            ]
          },
          "metadata": {
            "tags": []
          },
          "execution_count": 53
        }
      ]
    },
    {
      "cell_type": "code",
      "metadata": {
        "id": "TtL3X88FIIJ6"
      },
      "source": [
        "import pandas as pd\n",
        "\n",
        "JennieK = pd.DataFrame({'gender': ['female'],\n",
        "                       'age'     : [19],\n",
        "                       'class'   : ['1st'],\n",
        "                       'embarked': ['Southampton'],\n",
        "                       'fare'    : [72],\n",
        "                       'sibsp'   : [1],\n",
        "                       'parch'   : [0]},\n",
        "                      index = ['JennieK'])"
      ],
      "execution_count": null,
      "outputs": []
    },
    {
      "cell_type": "code",
      "metadata": {
        "id": "wT7mCOcpIWWe",
        "outputId": "83de7fc4-3c53-4b46-96a5-61afdcd66818",
        "colab": {
          "base_uri": "https://localhost:8080/",
          "height": 34
        }
      },
      "source": [
        "titanic_lr.predict_proba(JennieK)\n"
      ],
      "execution_count": null,
      "outputs": [
        {
          "output_type": "execute_result",
          "data": {
            "text/plain": [
              "array([[0.0747191, 0.9252809]])"
            ]
          },
          "metadata": {
            "tags": []
          },
          "execution_count": 55
        }
      ]
    },
    {
      "cell_type": "markdown",
      "metadata": {
        "id": "Q31LhGR1IvFz"
      },
      "source": [
        "##Our mOdel Predicts That she Survived"
      ]
    },
    {
      "cell_type": "code",
      "metadata": {
        "id": "h7Zes9_QIaj4",
        "outputId": "cac30c2b-b91b-4368-bcdc-d03e35a1a014",
        "colab": {
          "base_uri": "https://localhost:8080/",
          "height": 34
        }
      },
      "source": [
        "titanic_lr.predict(JennieK)"
      ],
      "execution_count": null,
      "outputs": [
        {
          "output_type": "execute_result",
          "data": {
            "text/plain": [
              "array([1])"
            ]
          },
          "metadata": {
            "tags": []
          },
          "execution_count": 56
        }
      ]
    },
    {
      "cell_type": "code",
      "metadata": {
        "id": "90VhnW2fIqng"
      },
      "source": [
        "import numpy as np\n",
        "\n",
        "from sklearn.compose import ColumnTransformer\n",
        "from sklearn.datasets import fetch_openml\n",
        "from sklearn.pipeline import Pipeline\n",
        "from sklearn.impute import SimpleImputer\n",
        "from sklearn.preprocessing import StandardScaler, OneHotEncoder\n",
        "from sklearn.linear_model import LogisticRegression\n",
        "from sklearn.model_selection import train_test_split, GridSearchCV\n",
        "\n",
        "np.random.seed(0)"
      ],
      "execution_count": null,
      "outputs": []
    },
    {
      "cell_type": "code",
      "metadata": {
        "id": "qYwkrJGWI8QX",
        "outputId": "da5f94f9-2b76-44fe-8085-3e3f5d80cf03",
        "colab": {
          "base_uri": "https://localhost:8080/",
          "height": 34
        }
      },
      "source": [
        "numeric_features = ['age', 'fare', 'parch', 'sibsp']\n",
        "numeric_transformer = Pipeline(steps=[\n",
        "    ('imputer', SimpleImputer(strategy='median')),\n",
        "    ('scaler', StandardScaler())])\n",
        "\n",
        "categorical_features = ['gender', 'class', 'embarked']\n",
        "categorical_transformer = Pipeline(steps=[\n",
        "    ('imputer', SimpleImputer(strategy='constant', fill_value='missing')),\n",
        "    ('onehot', OneHotEncoder(handle_unknown='ignore'))])\n",
        "\n",
        "preprocessor = ColumnTransformer(\n",
        "    transformers=[\n",
        "        ('num', numeric_transformer, numeric_features),\n",
        "        ('cat', categorical_transformer, categorical_features)])\n",
        "\n",
        "# Append classifier to preprocessing pipeline.\n",
        "# Now we have a full prediction pipeline.\n",
        "clf = Pipeline(steps=[('preprocessor', preprocessor),\n",
        "                      ('classifier', LogisticRegression())])\n",
        "\n",
        "X_train, X_test, y_train, y_test = train_test_split(X, y, test_size=0.2)\n",
        "\n",
        "clf.fit(X_train, y_train)\n",
        "print(\"model score: %.3f\" % clf.score(X_test, y_test))"
      ],
      "execution_count": null,
      "outputs": [
        {
          "output_type": "stream",
          "text": [
            "model score: 0.812\n"
          ],
          "name": "stdout"
        }
      ]
    },
    {
      "cell_type": "code",
      "metadata": {
        "id": "CetMD8u5JI-j"
      },
      "source": [
        "y_pred=clf.predict(X_test)"
      ],
      "execution_count": null,
      "outputs": []
    },
    {
      "cell_type": "code",
      "metadata": {
        "id": "v4Mvc_ihJugD",
        "outputId": "662e27e2-845a-49e4-9c19-19d4cd611be4",
        "colab": {
          "base_uri": "https://localhost:8080/",
          "height": 390
        }
      },
      "source": [
        "y_pred"
      ],
      "execution_count": null,
      "outputs": [
        {
          "output_type": "execute_result",
          "data": {
            "text/plain": [
              "array([0, 0, 0, 0, 0, 0, 0, 0, 0, 0, 0, 0, 0, 1, 0, 0, 0, 1, 0, 1, 0, 0,\n",
              "       0, 0, 0, 0, 0, 0, 0, 0, 0, 1, 0, 0, 0, 1, 1, 0, 0, 1, 1, 0, 0, 1,\n",
              "       0, 1, 0, 0, 0, 1, 0, 0, 0, 1, 0, 0, 1, 0, 0, 1, 1, 0, 0, 1, 0, 0,\n",
              "       0, 0, 0, 0, 0, 0, 0, 0, 0, 1, 0, 0, 0, 1, 0, 0, 0, 1, 0, 1, 0, 0,\n",
              "       0, 0, 0, 0, 0, 0, 0, 0, 0, 1, 0, 0, 0, 1, 1, 1, 0, 0, 0, 0, 0, 0,\n",
              "       0, 1, 0, 0, 1, 0, 0, 0, 0, 1, 1, 0, 0, 1, 0, 1, 0, 0, 1, 0, 0, 1,\n",
              "       0, 0, 0, 1, 0, 0, 1, 0, 0, 0, 0, 0, 0, 0, 0, 0, 0, 1, 0, 0, 0, 0,\n",
              "       0, 0, 0, 0, 0, 0, 0, 0, 1, 0, 1, 0, 0, 1, 0, 0, 0, 0, 1, 0, 0, 0,\n",
              "       0, 1, 0, 1, 0, 0, 0, 0, 0, 0, 1, 0, 1, 0, 0, 0, 0, 1, 0, 0, 0, 0,\n",
              "       1, 1, 1, 0, 0, 0, 0, 1, 0, 0, 1, 0, 0, 0, 0, 0, 0, 0, 1, 0, 0, 1,\n",
              "       0, 0, 0, 0, 0, 0, 0, 0, 0, 0, 1, 0, 1, 0, 1, 0, 0, 0, 0, 1, 0, 1,\n",
              "       0, 0, 1, 0, 0, 0, 1, 0, 0, 1, 1, 0, 1, 0, 0, 0, 0, 0, 0, 0, 1, 0,\n",
              "       1, 1, 0, 0, 0, 1, 0, 0, 0, 0, 0, 0, 1, 0, 0, 0, 0, 0, 0, 0, 0, 0,\n",
              "       1, 0, 1, 0, 0, 0, 0, 1, 1, 0, 1, 0, 1, 1, 0, 0, 1, 0, 0, 0, 0, 0,\n",
              "       1, 0, 1, 0, 0, 1, 0, 0, 0, 0, 0, 0, 0, 1, 0, 1, 1, 1, 0, 0, 0, 0,\n",
              "       0, 0, 0, 0, 0, 0, 0, 0, 1, 0, 0, 0, 0, 0, 0, 0, 1, 0, 0, 0, 0, 0,\n",
              "       0, 0, 0, 0, 1, 0, 0, 0, 1, 0, 0, 1, 0, 1, 0, 0, 0, 0, 0, 0, 1, 0,\n",
              "       0, 0, 1, 1, 1, 0, 0, 0, 1, 0, 0, 0, 0, 0, 0, 0, 1, 0, 0, 0, 0, 1,\n",
              "       0, 0, 0, 1, 1, 0, 1, 0, 0, 1, 1, 1, 0, 0, 1, 0, 0, 0, 0, 0, 0, 1,\n",
              "       1, 0, 0, 0, 0, 1, 0, 0, 0, 0, 0, 0, 1, 1, 0, 0, 0, 0, 0, 0, 0, 0,\n",
              "       0, 0])"
            ]
          },
          "metadata": {
            "tags": []
          },
          "execution_count": 60
        }
      ]
    },
    {
      "cell_type": "code",
      "metadata": {
        "id": "XxVtHj6yKA4i",
        "outputId": "560707af-c754-4dbd-885b-a9802e2f5b52",
        "colab": {
          "base_uri": "https://localhost:8080/",
          "height": 34
        }
      },
      "source": [
        "from sklearn.metrics import accuracy_score\n",
        "accu= accuracy_score(y_test,y_pred)\n",
        "accu"
      ],
      "execution_count": null,
      "outputs": [
        {
          "output_type": "execute_result",
          "data": {
            "text/plain": [
              "0.8122171945701357"
            ]
          },
          "metadata": {
            "tags": []
          },
          "execution_count": 61
        }
      ]
    },
    {
      "cell_type": "code",
      "metadata": {
        "id": "JNZFyQxIKFcR",
        "outputId": "d7dc9ceb-d6dc-4cce-a8d6-ad281c0deb2a",
        "colab": {
          "base_uri": "https://localhost:8080/",
          "height": 34
        }
      },
      "source": [
        "clf.predict_proba(JennieK)\n"
      ],
      "execution_count": null,
      "outputs": [
        {
          "output_type": "execute_result",
          "data": {
            "text/plain": [
              "array([[0.07434592, 0.92565408]])"
            ]
          },
          "metadata": {
            "tags": []
          },
          "execution_count": 62
        }
      ]
    },
    {
      "cell_type": "code",
      "metadata": {
        "id": "V_TYC6CyKMSF",
        "outputId": "bdaae2e9-f18b-4ded-e0fe-f6f693bcf883",
        "colab": {
          "base_uri": "https://localhost:8080/",
          "height": 34
        }
      },
      "source": [
        "clf.predict(JennieK)"
      ],
      "execution_count": null,
      "outputs": [
        {
          "output_type": "execute_result",
          "data": {
            "text/plain": [
              "array([1])"
            ]
          },
          "metadata": {
            "tags": []
          },
          "execution_count": 63
        }
      ]
    },
    {
      "cell_type": "markdown",
      "metadata": {
        "id": "wM3QnRIpKjPe"
      },
      "source": [
        "###we can do this by using selector that selects automatically numeric and categorical features"
      ]
    },
    {
      "cell_type": "code",
      "metadata": {
        "id": "aqUrU278KRvK"
      },
      "source": [
        "subset_feature = ['age', 'fare', 'parch', 'sibsp','gender', 'class', 'embarked']\n",
        "X = X[subset_feature]\n"
      ],
      "execution_count": null,
      "outputs": []
    },
    {
      "cell_type": "code",
      "metadata": {
        "id": "QilCa7BbK6yt",
        "outputId": "e7bd3e45-dfb1-4ea9-82c4-4fd828104692",
        "colab": {
          "base_uri": "https://localhost:8080/",
          "height": 265
        }
      },
      "source": [
        "X.info()"
      ],
      "execution_count": null,
      "outputs": [
        {
          "output_type": "stream",
          "text": [
            "<class 'pandas.core.frame.DataFrame'>\n",
            "RangeIndex: 2207 entries, 0 to 2206\n",
            "Data columns (total 7 columns):\n",
            " #   Column    Non-Null Count  Dtype  \n",
            "---  ------    --------------  -----  \n",
            " 0   age       2207 non-null   float64\n",
            " 1   fare      2207 non-null   float64\n",
            " 2   parch     2207 non-null   int64  \n",
            " 3   sibsp     2207 non-null   int64  \n",
            " 4   gender    2207 non-null   object \n",
            " 5   class     2207 non-null   object \n",
            " 6   embarked  2207 non-null   object \n",
            "dtypes: float64(2), int64(2), object(3)\n",
            "memory usage: 120.8+ KB\n"
          ],
          "name": "stdout"
        }
      ]
    },
    {
      "cell_type": "markdown",
      "metadata": {
        "id": "aLPbsa-MLHf5"
      },
      "source": [
        "#### we can use this information to dispatch the categorical columns to the categorical_transformer and the remaining columns to the numerical_transformer."
      ]
    },
    {
      "cell_type": "code",
      "metadata": {
        "id": "o4gbsiAOK-ib",
        "outputId": "04529c3c-5ae2-4dc4-e9f4-845a192b0205",
        "colab": {
          "base_uri": "https://localhost:8080/",
          "height": 34
        }
      },
      "source": [
        "from sklearn.compose import make_column_selector as selector\n",
        "\n",
        "preprocessor = ColumnTransformer(transformers=[\n",
        "    ('num', numeric_transformer, selector(dtype_exclude=\"category\")),\n",
        "    ('cat', categorical_transformer, selector(dtype_include=\"category\"))\n",
        "])\n",
        "\n",
        "# Reproduce the identical fit/score process\n",
        "X_train, X_test, y_train, y_test = train_test_split(X, y, test_size=0.2)\n",
        "\n",
        "clf.fit(X_train, y_train)\n",
        "print(\"model score: %.3f\" % clf.score(X_test, y_test))"
      ],
      "execution_count": null,
      "outputs": [
        {
          "output_type": "stream",
          "text": [
            "model score: 0.794\n"
          ],
          "name": "stdout"
        }
      ]
    },
    {
      "cell_type": "markdown",
      "metadata": {
        "id": "_ywr5ujBLWkW"
      },
      "source": [
        "##Using Grid Search Cv For finding The best parameters"
      ]
    },
    {
      "cell_type": "code",
      "metadata": {
        "id": "aOZeNO-bLMtT",
        "outputId": "f9aab58a-6545-443d-e6bc-fdcda0782e0e",
        "colab": {
          "base_uri": "https://localhost:8080/",
          "height": 34
        }
      },
      "source": [
        "param_grid = {\n",
        "    'preprocessor__num__imputer__strategy': ['mean', 'median'],\n",
        "    'classifier__C': [0.1, 1.0, 10, 100],\n",
        "}\n",
        "\n",
        "grid_search = GridSearchCV(clf, param_grid, cv=10)\n",
        "grid_search.fit(X_train, y_train)\n",
        "\n",
        "print((\"best logistic regression from grid search: %.3f\"\n",
        "       % grid_search.score(X_test, y_test)))"
      ],
      "execution_count": null,
      "outputs": [
        {
          "output_type": "stream",
          "text": [
            "best logistic regression from grid search: 0.796\n"
          ],
          "name": "stdout"
        }
      ]
    },
    {
      "cell_type": "code",
      "metadata": {
        "id": "5CQDY-lZLdkX",
        "outputId": "785f8f17-14b4-49a6-fe2b-f209d3e05498",
        "colab": {
          "base_uri": "https://localhost:8080/",
          "height": 34
        }
      },
      "source": [
        "grid_search.best_params_"
      ],
      "execution_count": null,
      "outputs": [
        {
          "output_type": "execute_result",
          "data": {
            "text/plain": [
              "{'classifier__C': 10, 'preprocessor__num__imputer__strategy': 'mean'}"
            ]
          },
          "metadata": {
            "tags": []
          },
          "execution_count": 68
        }
      ]
    },
    {
      "cell_type": "code",
      "metadata": {
        "id": "ks_57BRjLlbp",
        "outputId": "978e5c4c-538d-4b1f-8d70-352afa475ece",
        "colab": {
          "base_uri": "https://localhost:8080/",
          "height": 34
        }
      },
      "source": [
        "grid_search.best_score_"
      ],
      "execution_count": null,
      "outputs": [
        {
          "output_type": "execute_result",
          "data": {
            "text/plain": [
              "0.7954866461222394"
            ]
          },
          "metadata": {
            "tags": []
          },
          "execution_count": 69
        }
      ]
    },
    {
      "cell_type": "code",
      "metadata": {
        "id": "u2UMUbAkLqle",
        "outputId": "360eda86-1240-43c5-8563-21a38c92cf29",
        "colab": {
          "base_uri": "https://localhost:8080/",
          "height": 585
        }
      },
      "source": [
        "grid_search.best_estimator_"
      ],
      "execution_count": null,
      "outputs": [
        {
          "output_type": "execute_result",
          "data": {
            "text/plain": [
              "Pipeline(memory=None,\n",
              "         steps=[('preprocessor',\n",
              "                 ColumnTransformer(n_jobs=None, remainder='drop',\n",
              "                                   sparse_threshold=0.3,\n",
              "                                   transformer_weights=None,\n",
              "                                   transformers=[('num',\n",
              "                                                  Pipeline(memory=None,\n",
              "                                                           steps=[('imputer',\n",
              "                                                                   SimpleImputer(add_indicator=False,\n",
              "                                                                                 copy=True,\n",
              "                                                                                 fill_value=None,\n",
              "                                                                                 missing_values=nan,\n",
              "                                                                                 strategy='mean',\n",
              "                                                                                 verbose=0)),\n",
              "                                                                  ('scaler',\n",
              "                                                                   StandardScaler(copy=True,\n",
              "                                                                                  with_mean=T...\n",
              "                                                                                 handle_unknown='ignore',\n",
              "                                                                                 sparse=True))],\n",
              "                                                           verbose=False),\n",
              "                                                  ['gender', 'class',\n",
              "                                                   'embarked'])],\n",
              "                                   verbose=False)),\n",
              "                ('classifier',\n",
              "                 LogisticRegression(C=10, class_weight=None, dual=False,\n",
              "                                    fit_intercept=True, intercept_scaling=1,\n",
              "                                    l1_ratio=None, max_iter=100,\n",
              "                                    multi_class='auto', n_jobs=None,\n",
              "                                    penalty='l2', random_state=None,\n",
              "                                    solver='lbfgs', tol=0.0001, verbose=0,\n",
              "                                    warm_start=False))],\n",
              "         verbose=False)"
            ]
          },
          "metadata": {
            "tags": []
          },
          "execution_count": 70
        }
      ]
    },
    {
      "cell_type": "code",
      "metadata": {
        "id": "aAfDsovNL8nd",
        "outputId": "59683ea7-5ffe-4c6a-cca0-b1d9b70881df",
        "colab": {
          "base_uri": "https://localhost:8080/",
          "height": 34
        }
      },
      "source": [
        "numeric_features = ['age', 'fare', 'parch', 'sibsp']\n",
        "numeric_transformer = Pipeline(steps=[\n",
        "    ('imputer', SimpleImputer(strategy='mean')),\n",
        "    ('scaler', StandardScaler())])\n",
        "\n",
        "categorical_features = ['gender', 'class', 'embarked']\n",
        "categorical_transformer = Pipeline(steps=[\n",
        "    ('imputer', SimpleImputer(strategy='constant', fill_value='missing')),\n",
        "    ('onehot', OneHotEncoder(handle_unknown='ignore'))])\n",
        "\n",
        "preprocessor = ColumnTransformer(\n",
        "    transformers=[\n",
        "        ('num', numeric_transformer, numeric_features),\n",
        "        ('cat', categorical_transformer, categorical_features)])\n",
        "\n",
        "# Append classifier to preprocessing pipeline.\n",
        "# Now we have a full prediction pipeline.\n",
        "clf = Pipeline(steps=[('preprocessor', preprocessor),\n",
        "                      ('classifier', LogisticRegression(C=10, class_weight=None, dual=False,\n",
        "                                    fit_intercept=True, intercept_scaling=1,\n",
        "                                    l1_ratio=None, max_iter=100,\n",
        "                                    multi_class='auto', n_jobs=None,\n",
        "                                    penalty='l2', random_state=None,\n",
        "                                    solver='lbfgs', tol=0.0001, verbose=0,\n",
        "                                    warm_start=False ))])\n",
        "\n",
        "X_train, X_test, y_train, y_test = train_test_split(X, y, test_size=0.2)\n",
        "\n",
        "clf.fit(X_train, y_train)\n",
        "print(\"model score: %.3f\" % clf.score(X_test, y_test))"
      ],
      "execution_count": null,
      "outputs": [
        {
          "output_type": "stream",
          "text": [
            "model score: 0.833\n"
          ],
          "name": "stdout"
        }
      ]
    },
    {
      "cell_type": "markdown",
      "metadata": {
        "id": "B1QlMmpfP37E"
      },
      "source": [
        "##Here We can see that By using right parameters we can increase the Model Accuracy"
      ]
    },
    {
      "cell_type": "markdown",
      "metadata": {
        "id": "8X8NcPp7RAqK"
      },
      "source": [
        "#RandomForestClassifier\n"
      ]
    },
    {
      "cell_type": "code",
      "metadata": {
        "id": "VG_Ku1LeMpX_",
        "outputId": "372f5377-73ce-4d79-efa3-99fd38ad2299",
        "colab": {
          "base_uri": "https://localhost:8080/",
          "height": 514
        }
      },
      "source": [
        "from sklearn.ensemble import RandomForestClassifier\n",
        "\n",
        "rf = make_pipeline(\n",
        "    preprocess,\n",
        "    RandomForestClassifier(max_depth = 3, n_estimators = 500))\n",
        "rf.fit(X, y)"
      ],
      "execution_count": null,
      "outputs": [
        {
          "output_type": "execute_result",
          "data": {
            "text/plain": [
              "Pipeline(memory=None,\n",
              "         steps=[('columntransformer',\n",
              "                 ColumnTransformer(n_jobs=None, remainder='drop',\n",
              "                                   sparse_threshold=0.3,\n",
              "                                   transformer_weights=None,\n",
              "                                   transformers=[('standardscaler',\n",
              "                                                  StandardScaler(copy=True,\n",
              "                                                                 with_mean=True,\n",
              "                                                                 with_std=True),\n",
              "                                                  ['age', 'fare', 'parch',\n",
              "                                                   'sibsp']),\n",
              "                                                 ('onehotencoder',\n",
              "                                                  OneHotEncoder(categories='auto',\n",
              "                                                                drop=None,\n",
              "                                                                dtype=<class 'numpy.float64'>,\n",
              "                                                                h...\n",
              "                 RandomForestClassifier(bootstrap=True, ccp_alpha=0.0,\n",
              "                                        class_weight=None, criterion='gini',\n",
              "                                        max_depth=3, max_features='auto',\n",
              "                                        max_leaf_nodes=None, max_samples=None,\n",
              "                                        min_impurity_decrease=0.0,\n",
              "                                        min_impurity_split=None,\n",
              "                                        min_samples_leaf=1, min_samples_split=2,\n",
              "                                        min_weight_fraction_leaf=0.0,\n",
              "                                        n_estimators=500, n_jobs=None,\n",
              "                                        oob_score=False, random_state=None,\n",
              "                                        verbose=0, warm_start=False))],\n",
              "         verbose=False)"
            ]
          },
          "metadata": {
            "tags": []
          },
          "execution_count": 74
        }
      ]
    },
    {
      "cell_type": "code",
      "metadata": {
        "id": "nvIpAYL6QPuM",
        "outputId": "82bf4a62-ccb0-489b-a9cf-bdd0732b0475",
        "colab": {
          "base_uri": "https://localhost:8080/",
          "height": 105
        }
      },
      "source": [
        "rf.predict_proba(JennieK)\n"
      ],
      "execution_count": null,
      "outputs": [
        {
          "output_type": "stream",
          "text": [
            "/usr/local/lib/python3.6/dist-packages/sklearn/compose/_column_transformer.py:430: FutureWarning:\n",
            "\n",
            "Given feature/column names or counts do not match the ones for the data given during fit. This will fail from v0.24.\n",
            "\n"
          ],
          "name": "stderr"
        },
        {
          "output_type": "execute_result",
          "data": {
            "text/plain": [
              "array([[0.17040258, 0.82959742]])"
            ]
          },
          "metadata": {
            "tags": []
          },
          "execution_count": 75
        }
      ]
    },
    {
      "cell_type": "code",
      "metadata": {
        "id": "lpjNMrxfQjKu",
        "outputId": "bb6b1104-6607-4aa1-9f82-ceebd0789fc6",
        "colab": {
          "base_uri": "https://localhost:8080/",
          "height": 105
        }
      },
      "source": [
        "rf.predict(JennieK)\n"
      ],
      "execution_count": null,
      "outputs": [
        {
          "output_type": "stream",
          "text": [
            "/usr/local/lib/python3.6/dist-packages/sklearn/compose/_column_transformer.py:430: FutureWarning:\n",
            "\n",
            "Given feature/column names or counts do not match the ones for the data given during fit. This will fail from v0.24.\n",
            "\n"
          ],
          "name": "stderr"
        },
        {
          "output_type": "execute_result",
          "data": {
            "text/plain": [
              "array([1])"
            ]
          },
          "metadata": {
            "tags": []
          },
          "execution_count": 76
        }
      ]
    },
    {
      "cell_type": "code",
      "metadata": {
        "id": "B3NGU4EdQ3qq",
        "outputId": "b3be0399-29c3-4c82-d31f-af3b7844e140",
        "colab": {
          "base_uri": "https://localhost:8080/",
          "height": 34
        }
      },
      "source": [
        "rf.score(X,y)"
      ],
      "execution_count": null,
      "outputs": [
        {
          "output_type": "execute_result",
          "data": {
            "text/plain": [
              "0.788400543724513"
            ]
          },
          "metadata": {
            "tags": []
          },
          "execution_count": 78
        }
      ]
    },
    {
      "cell_type": "code",
      "metadata": {
        "id": "gPMgTLOmTMKF"
      },
      "source": [
        "titanic = dx.datasets.load_titanic()\n",
        "X = titanic.drop(columns='survived')\n",
        "y = titanic.survived"
      ],
      "execution_count": null,
      "outputs": []
    },
    {
      "cell_type": "code",
      "metadata": {
        "id": "UKF213rRQnwb",
        "outputId": "dd951768-b4a5-4d03-c1da-020d04cc59d1",
        "colab": {
          "base_uri": "https://localhost:8080/",
          "height": 34
        }
      },
      "source": [
        "numeric_features = ['age', 'fare', 'parch', 'sibsp']\n",
        "numeric_transformer = Pipeline(steps=[\n",
        "    ('imputer', SimpleImputer(strategy='median')),\n",
        "    ('scaler', StandardScaler())])\n",
        "\n",
        "categorical_features = ['gender', 'class', 'embarked']\n",
        "categorical_transformer = Pipeline(steps=[\n",
        "    ('imputer', SimpleImputer(strategy='constant', fill_value='missing')),\n",
        "    ('onehot', OneHotEncoder(handle_unknown='ignore'))])\n",
        "\n",
        "preprocessor = ColumnTransformer(\n",
        "    transformers=[\n",
        "        ('num', numeric_transformer, numeric_features),\n",
        "        ('cat', categorical_transformer, categorical_features)])\n",
        "\n",
        "# Append classifier to preprocessing pipeline.\n",
        "# Now we have a full prediction pipeline.\n",
        "clf = Pipeline(steps=[('preprocessor', preprocessor),\n",
        "                      ('classifier',RandomForestClassifier())])\n",
        "\n",
        "X_train, X_test, y_train, y_test = train_test_split(X, y, test_size=0.2)\n",
        "\n",
        "clf.fit(X_train, y_train)\n",
        "print(\"model score: %.3f\" % clf.score(X_test, y_test))"
      ],
      "execution_count": null,
      "outputs": [
        {
          "output_type": "stream",
          "text": [
            "model score: 0.740\n"
          ],
          "name": "stdout"
        }
      ]
    },
    {
      "cell_type": "code",
      "metadata": {
        "id": "NOTfl9cqQzYQ",
        "outputId": "b82c24dd-84c0-415e-f35e-e1fc560e3fc0",
        "colab": {
          "base_uri": "https://localhost:8080/",
          "height": 34
        }
      },
      "source": [
        "param_grid = {\n",
        "    'preprocessor__num__imputer__strategy': ['mean', 'median'],\n",
        "    'classifier__criterion':['gini'],\n",
        "    'classifier__n_estimators':[100,300,500,700,800,1000]\n",
        "\n",
        "}\n",
        "\n",
        "grid_search = GridSearchCV(clf, param_grid, cv=10)\n",
        "grid_search.fit(X_train, y_train)\n",
        "\n",
        "print((\"best RandomForestsClassifier from grid search: %.3f\"\n",
        "       % grid_search.score(X_test, y_test)))"
      ],
      "execution_count": null,
      "outputs": [
        {
          "output_type": "stream",
          "text": [
            "best RandomForestsClassifier from grid search: 0.765\n"
          ],
          "name": "stdout"
        }
      ]
    },
    {
      "cell_type": "code",
      "metadata": {
        "id": "tS8soKFwUJBb",
        "outputId": "1c3b0713-1741-4d6c-fd1d-af4a01f4275c",
        "colab": {
          "base_uri": "https://localhost:8080/",
          "height": 532
        }
      },
      "source": [
        "grid_search.best_estimator_"
      ],
      "execution_count": null,
      "outputs": [
        {
          "output_type": "execute_result",
          "data": {
            "text/plain": [
              "Pipeline(memory=None,\n",
              "         steps=[('preprocessor',\n",
              "                 ColumnTransformer(n_jobs=None, remainder='drop',\n",
              "                                   sparse_threshold=0.3,\n",
              "                                   transformer_weights=None,\n",
              "                                   transformers=[('num',\n",
              "                                                  Pipeline(memory=None,\n",
              "                                                           steps=[('imputer',\n",
              "                                                                   SimpleImputer(add_indicator=False,\n",
              "                                                                                 copy=True,\n",
              "                                                                                 fill_value=None,\n",
              "                                                                                 missing_values=nan,\n",
              "                                                                                 strategy='median',\n",
              "                                                                                 verbose=0)),\n",
              "                                                                  ('scaler',\n",
              "                                                                   StandardScaler(copy=True,\n",
              "                                                                                  with_mean...\n",
              "                 RandomForestClassifier(bootstrap=True, ccp_alpha=0.0,\n",
              "                                        class_weight=None, criterion='gini',\n",
              "                                        max_depth=None, max_features='auto',\n",
              "                                        max_leaf_nodes=None, max_samples=None,\n",
              "                                        min_impurity_decrease=0.0,\n",
              "                                        min_impurity_split=None,\n",
              "                                        min_samples_leaf=1, min_samples_split=2,\n",
              "                                        min_weight_fraction_leaf=0.0,\n",
              "                                        n_estimators=1000, n_jobs=None,\n",
              "                                        oob_score=False, random_state=None,\n",
              "                                        verbose=0, warm_start=False))],\n",
              "         verbose=False)"
            ]
          },
          "metadata": {
            "tags": []
          },
          "execution_count": 109
        }
      ]
    },
    {
      "cell_type": "code",
      "metadata": {
        "id": "C3UvHgOYUJ6h",
        "outputId": "9b632048-025d-44eb-e682-bc344b45b3dd",
        "colab": {
          "base_uri": "https://localhost:8080/",
          "height": 70
        }
      },
      "source": [
        "grid_search.best_params_"
      ],
      "execution_count": null,
      "outputs": [
        {
          "output_type": "execute_result",
          "data": {
            "text/plain": [
              "{'classifier__criterion': 'gini',\n",
              " 'classifier__n_estimators': 1000,\n",
              " 'preprocessor__num__imputer__strategy': 'median'}"
            ]
          },
          "metadata": {
            "tags": []
          },
          "execution_count": 110
        }
      ]
    },
    {
      "cell_type": "code",
      "metadata": {
        "id": "VZ6KWRNJUlEa",
        "outputId": "44fada36-d163-4cfe-ed15-1e7790fe91fb",
        "colab": {
          "base_uri": "https://localhost:8080/",
          "height": 34
        }
      },
      "source": [
        "grid_search.best_score_"
      ],
      "execution_count": null,
      "outputs": [
        {
          "output_type": "execute_result",
          "data": {
            "text/plain": [
              "0.7807171289162814"
            ]
          },
          "metadata": {
            "tags": []
          },
          "execution_count": 111
        }
      ]
    },
    {
      "cell_type": "markdown",
      "metadata": {
        "id": "b-IgTExEWcRj"
      },
      "source": [
        "##Now Apply best paramerters Results to our Model"
      ]
    },
    {
      "cell_type": "code",
      "metadata": {
        "id": "UtFgjUdKWXFK",
        "outputId": "a98ddd40-3d1d-45ba-c75c-64312cff9379",
        "colab": {
          "base_uri": "https://localhost:8080/",
          "height": 34
        }
      },
      "source": [
        "numeric_features = ['age', 'fare', 'parch', 'sibsp']\n",
        "numeric_transformer = Pipeline(steps=[\n",
        "    ('imputer', SimpleImputer(strategy='median')),\n",
        "    ('scaler', StandardScaler())])\n",
        "\n",
        "categorical_features = ['gender', 'class', 'embarked']\n",
        "categorical_transformer = Pipeline(steps=[\n",
        "    ('imputer', SimpleImputer(strategy='constant', fill_value='missing')),\n",
        "    ('onehot', OneHotEncoder(handle_unknown='ignore'))])\n",
        "\n",
        "preprocessor = ColumnTransformer(\n",
        "    transformers=[\n",
        "        ('num', numeric_transformer, numeric_features),\n",
        "        ('cat', categorical_transformer, categorical_features)])\n",
        "\n",
        "# Append classifier to preprocessing pipeline.\n",
        "# Now we have a full prediction pipeline.\n",
        "clf = Pipeline(steps=[('preprocessor', preprocessor),\n",
        "                      ('classifier',RandomForestClassifier(bootstrap=True, ccp_alpha=0.0,\n",
        "                                        class_weight=None, criterion='gini',\n",
        "                                        max_depth=None, max_features='auto',\n",
        "                                        max_leaf_nodes=None, max_samples=None,\n",
        "                                        min_impurity_decrease=0.0,\n",
        "                                        min_impurity_split=None,\n",
        "                                        min_samples_leaf=1, min_samples_split=2,\n",
        "                                        min_weight_fraction_leaf=0.0,\n",
        "                                        n_estimators=1000, n_jobs=None,\n",
        "                                        oob_score=False, random_state=None,\n",
        "                                        verbose=0, warm_start=False))])\n",
        "\n",
        "X_train, X_test, y_train, y_test = train_test_split(X, y, test_size=0.2)\n",
        "\n",
        "clf.fit(X_train, y_train)\n",
        "print(\"model score: %.3f\" % clf.score(X_test, y_test))"
      ],
      "execution_count": null,
      "outputs": [
        {
          "output_type": "stream",
          "text": [
            "model score: 0.778\n"
          ],
          "name": "stdout"
        }
      ]
    },
    {
      "cell_type": "markdown",
      "metadata": {
        "id": "TpbmLOHNW__R"
      },
      "source": [
        "#Gradient Boosting Model"
      ]
    },
    {
      "cell_type": "code",
      "metadata": {
        "id": "DELonnrqWsjB",
        "outputId": "921c0718-1b61-40a1-c801-82febf005f5a",
        "colab": {
          "base_uri": "https://localhost:8080/",
          "height": 567
        }
      },
      "source": [
        "from sklearn.ensemble import GradientBoostingClassifier\n",
        "\n",
        "gbc = make_pipeline(\n",
        "    preprocess,\n",
        "    GradientBoostingClassifier(n_estimators = 100))\n",
        "gbc.fit(X, y)"
      ],
      "execution_count": null,
      "outputs": [
        {
          "output_type": "execute_result",
          "data": {
            "text/plain": [
              "Pipeline(memory=None,\n",
              "         steps=[('columntransformer',\n",
              "                 ColumnTransformer(n_jobs=None, remainder='drop',\n",
              "                                   sparse_threshold=0.3,\n",
              "                                   transformer_weights=None,\n",
              "                                   transformers=[('standardscaler',\n",
              "                                                  StandardScaler(copy=True,\n",
              "                                                                 with_mean=True,\n",
              "                                                                 with_std=True),\n",
              "                                                  ['age', 'fare', 'parch',\n",
              "                                                   'sibsp']),\n",
              "                                                 ('onehotencoder',\n",
              "                                                  OneHotEncoder(categories='auto',\n",
              "                                                                drop=None,\n",
              "                                                                dtype=<class 'numpy.float64'>,\n",
              "                                                                h...\n",
              "                                            learning_rate=0.1, loss='deviance',\n",
              "                                            max_depth=3, max_features=None,\n",
              "                                            max_leaf_nodes=None,\n",
              "                                            min_impurity_decrease=0.0,\n",
              "                                            min_impurity_split=None,\n",
              "                                            min_samples_leaf=1,\n",
              "                                            min_samples_split=2,\n",
              "                                            min_weight_fraction_leaf=0.0,\n",
              "                                            n_estimators=100,\n",
              "                                            n_iter_no_change=None,\n",
              "                                            presort='deprecated',\n",
              "                                            random_state=None, subsample=1.0,\n",
              "                                            tol=0.0001, validation_fraction=0.1,\n",
              "                                            verbose=0, warm_start=False))],\n",
              "         verbose=False)"
            ]
          },
          "metadata": {
            "tags": []
          },
          "execution_count": 138
        }
      ]
    },
    {
      "cell_type": "code",
      "metadata": {
        "id": "uxW3u_q3kl4b",
        "outputId": "ef5e3724-3faf-4eb1-ad11-077cfe2f18d1",
        "colab": {
          "base_uri": "https://localhost:8080/",
          "height": 34
        }
      },
      "source": [
        "gbc.predict(JennieK)"
      ],
      "execution_count": null,
      "outputs": [
        {
          "output_type": "execute_result",
          "data": {
            "text/plain": [
              "array([1])"
            ]
          },
          "metadata": {
            "tags": []
          },
          "execution_count": 139
        }
      ]
    },
    {
      "cell_type": "code",
      "metadata": {
        "id": "N2qP6sKrYFvW",
        "outputId": "fa69f631-a617-46d2-c44d-913a36bb2dec",
        "colab": {
          "base_uri": "https://localhost:8080/",
          "height": 34
        }
      },
      "source": [
        "numeric_features = ['age', 'fare', 'parch', 'sibsp']\n",
        "numeric_transformer = Pipeline(steps=[\n",
        "    ('imputer', SimpleImputer(strategy='median')),\n",
        "    ('scaler', StandardScaler())])\n",
        "\n",
        "categorical_features = ['gender', 'class', 'embarked']\n",
        "categorical_transformer = Pipeline(steps=[\n",
        "    ('imputer', SimpleImputer(strategy='constant', fill_value='missing')),\n",
        "    ('onehot', OneHotEncoder(handle_unknown='ignore'))])\n",
        "\n",
        "preprocessor = ColumnTransformer(\n",
        "    transformers=[\n",
        "        ('num', numeric_transformer, numeric_features),\n",
        "        ('cat', categorical_transformer, categorical_features)])\n",
        "\n",
        "# Append classifier to preprocessing pipeline.\n",
        "# Now we have a full prediction pipeline.\n",
        "clf = Pipeline(steps=[('preprocessor', preprocessor),\n",
        "                      ('classifier',GradientBoostingClassifier())])\n",
        "\n",
        "X_train, X_test, y_train, y_test = train_test_split(X, y, test_size=0.2)\n",
        "\n",
        "clf.fit(X_train, y_train)\n",
        "print(\"model score: %.3f\" % clf.score(X_test, y_test))"
      ],
      "execution_count": null,
      "outputs": [
        {
          "output_type": "stream",
          "text": [
            "model score: 0.814\n"
          ],
          "name": "stdout"
        }
      ]
    },
    {
      "cell_type": "code",
      "metadata": {
        "id": "rb_dE647YL88",
        "outputId": "d0a95cab-2188-4c0f-e2fd-a198828902ce",
        "colab": {
          "base_uri": "https://localhost:8080/",
          "height": 34
        }
      },
      "source": [
        "param_grid = {\n",
        "    'preprocessor__num__imputer__strategy': ['mean', 'median'],\n",
        "    'classifier__learning_rate':[0.001,0.01,1],\n",
        "    'classifier__n_estimators':[100,300,500,700,800,1000],\n",
        "    'classifier__loss':['deviance','exponential']\n",
        "\n",
        "\n",
        "}\n",
        "\n",
        "grid_search = GridSearchCV(clf, param_grid, cv=10)\n",
        "grid_search.fit(X_train, y_train)\n",
        "\n",
        "print((\"best GradientBoostingClassifier from grid search: %.3f\"\n",
        "       % grid_search.score(X_test, y_test)))"
      ],
      "execution_count": null,
      "outputs": [
        {
          "output_type": "stream",
          "text": [
            "best GradientBoostingClassifier from grid search: 0.812\n"
          ],
          "name": "stdout"
        }
      ]
    },
    {
      "cell_type": "code",
      "metadata": {
        "id": "Rkd-s5YFZhOA",
        "outputId": "ca3cb8ad-e799-40c5-efbe-3f1d1bccf2a6",
        "colab": {
          "base_uri": "https://localhost:8080/",
          "height": 87
        }
      },
      "source": [
        "grid_search.best_params_"
      ],
      "execution_count": null,
      "outputs": [
        {
          "output_type": "execute_result",
          "data": {
            "text/plain": [
              "{'classifier__learning_rate': 0.01,\n",
              " 'classifier__loss': 'exponential',\n",
              " 'classifier__n_estimators': 300,\n",
              " 'preprocessor__num__imputer__strategy': 'mean'}"
            ]
          },
          "metadata": {
            "tags": []
          },
          "execution_count": 122
        }
      ]
    },
    {
      "cell_type": "code",
      "metadata": {
        "id": "YtDBTPmSZhq9",
        "outputId": "3a3a20d1-421b-4985-db1b-86ef24d93a94",
        "colab": {
          "base_uri": "https://localhost:8080/",
          "height": 34
        }
      },
      "source": [
        "grid_search.best_score_"
      ],
      "execution_count": null,
      "outputs": [
        {
          "output_type": "execute_result",
          "data": {
            "text/plain": [
              "0.8090523882896765"
            ]
          },
          "metadata": {
            "tags": []
          },
          "execution_count": 123
        }
      ]
    },
    {
      "cell_type": "code",
      "metadata": {
        "id": "KFmaiW-OZh7E",
        "outputId": "7ef94117-0856-4c2a-e51e-08b1e1b17ff9",
        "colab": {
          "base_uri": "https://localhost:8080/",
          "height": 585
        }
      },
      "source": [
        "grid_search.best_estimator_"
      ],
      "execution_count": null,
      "outputs": [
        {
          "output_type": "execute_result",
          "data": {
            "text/plain": [
              "Pipeline(memory=None,\n",
              "         steps=[('preprocessor',\n",
              "                 ColumnTransformer(n_jobs=None, remainder='drop',\n",
              "                                   sparse_threshold=0.3,\n",
              "                                   transformer_weights=None,\n",
              "                                   transformers=[('num',\n",
              "                                                  Pipeline(memory=None,\n",
              "                                                           steps=[('imputer',\n",
              "                                                                   SimpleImputer(add_indicator=False,\n",
              "                                                                                 copy=True,\n",
              "                                                                                 fill_value=None,\n",
              "                                                                                 missing_values=nan,\n",
              "                                                                                 strategy='mean',\n",
              "                                                                                 verbose=0)),\n",
              "                                                                  ('scaler',\n",
              "                                                                   StandardScaler(copy=True,\n",
              "                                                                                  with_mean=T...\n",
              "                                            loss='exponential', max_depth=3,\n",
              "                                            max_features=None,\n",
              "                                            max_leaf_nodes=None,\n",
              "                                            min_impurity_decrease=0.0,\n",
              "                                            min_impurity_split=None,\n",
              "                                            min_samples_leaf=1,\n",
              "                                            min_samples_split=2,\n",
              "                                            min_weight_fraction_leaf=0.0,\n",
              "                                            n_estimators=300,\n",
              "                                            n_iter_no_change=None,\n",
              "                                            presort='deprecated',\n",
              "                                            random_state=None, subsample=1.0,\n",
              "                                            tol=0.0001, validation_fraction=0.1,\n",
              "                                            verbose=0, warm_start=False))],\n",
              "         verbose=False)"
            ]
          },
          "metadata": {
            "tags": []
          },
          "execution_count": 125
        }
      ]
    },
    {
      "cell_type": "code",
      "metadata": {
        "id": "1nl55mw_ZxJl",
        "outputId": "05bc0bd3-c1d9-4469-f007-9d4ebda61dc3",
        "colab": {
          "base_uri": "https://localhost:8080/",
          "height": 34
        }
      },
      "source": [
        "numeric_features = ['age', 'fare', 'parch', 'sibsp']\n",
        "numeric_transformer = Pipeline(steps=[\n",
        "    ('imputer', SimpleImputer(strategy='mean')),\n",
        "    ('scaler', StandardScaler())])\n",
        "\n",
        "categorical_features = ['gender', 'class', 'embarked']\n",
        "categorical_transformer = Pipeline(steps=[\n",
        "    ('imputer', SimpleImputer(strategy='constant', fill_value='missing')),\n",
        "    ('onehot', OneHotEncoder(handle_unknown='ignore'))])\n",
        "\n",
        "preprocessor = ColumnTransformer(\n",
        "    transformers=[\n",
        "        ('num', numeric_transformer, numeric_features),\n",
        "        ('cat', categorical_transformer, categorical_features)])\n",
        "\n",
        "# Append classifier to preprocessing pipeline.\n",
        "# Now we have a full prediction pipeline.\n",
        "clf = Pipeline(steps=[('preprocessor', preprocessor),\n",
        "                      ('classifier',GradientBoostingClassifier(loss='exponential', max_depth=3,\n",
        "                                            max_features=None,\n",
        "                                            max_leaf_nodes=None,\n",
        "                                            min_impurity_decrease=0.0,\n",
        "                                            min_impurity_split=None,\n",
        "                                            min_samples_leaf=1,\n",
        "                                            min_samples_split=2,\n",
        "                                            min_weight_fraction_leaf=0.0,\n",
        "                                            n_estimators=300,\n",
        "                                            n_iter_no_change=None,\n",
        "                                            presort='deprecated',\n",
        "                                            random_state=None, subsample=1.0,\n",
        "                                            tol=0.0001, validation_fraction=0.1,\n",
        "                                            verbose=0, warm_start=False))])\n",
        "\n",
        "X_train, X_test, y_train, y_test = train_test_split(X, y, test_size=0.2)\n",
        "\n",
        "clf.fit(X_train, y_train)\n",
        "print(\"model score: %.3f\" % clf.score(X_test, y_test))"
      ],
      "execution_count": null,
      "outputs": [
        {
          "output_type": "stream",
          "text": [
            "model score: 0.810\n"
          ],
          "name": "stdout"
        }
      ]
    },
    {
      "cell_type": "code",
      "metadata": {
        "id": "HNJcCnDXkvPE",
        "outputId": "4b843b4b-6f41-4455-fbed-49716f7af17b",
        "colab": {
          "base_uri": "https://localhost:8080/",
          "height": 34
        }
      },
      "source": [
        "clf.predict(JennieK)"
      ],
      "execution_count": null,
      "outputs": [
        {
          "output_type": "execute_result",
          "data": {
            "text/plain": [
              "array([1])"
            ]
          },
          "metadata": {
            "tags": []
          },
          "execution_count": 136
        }
      ]
    },
    {
      "cell_type": "markdown",
      "metadata": {
        "id": "VNGesWvTXOzB"
      },
      "source": [
        "#Support Vector Classsifier"
      ]
    },
    {
      "cell_type": "code",
      "metadata": {
        "id": "408nV4WoXEvb",
        "outputId": "e099b886-c5a7-423d-9846-54fda6e5cfac",
        "colab": {
          "base_uri": "https://localhost:8080/",
          "height": 496
        }
      },
      "source": [
        "from sklearn.svm import SVC\n",
        "\n",
        "svm = make_pipeline(\n",
        "    preprocess,\n",
        "    SVC(probability = True))\n",
        "svm.fit(X, y)"
      ],
      "execution_count": null,
      "outputs": [
        {
          "output_type": "execute_result",
          "data": {
            "text/plain": [
              "Pipeline(memory=None,\n",
              "         steps=[('columntransformer',\n",
              "                 ColumnTransformer(n_jobs=None, remainder='drop',\n",
              "                                   sparse_threshold=0.3,\n",
              "                                   transformer_weights=None,\n",
              "                                   transformers=[('standardscaler',\n",
              "                                                  StandardScaler(copy=True,\n",
              "                                                                 with_mean=True,\n",
              "                                                                 with_std=True),\n",
              "                                                  ['age', 'fare', 'parch',\n",
              "                                                   'sibsp']),\n",
              "                                                 ('onehotencoder',\n",
              "                                                  OneHotEncoder(categories='auto',\n",
              "                                                                drop=None,\n",
              "                                                                dtype=<class 'numpy.float64'>,\n",
              "                                                                handle_unknown='error',\n",
              "                                                                sparse=True),\n",
              "                                                  ['gender', 'class',\n",
              "                                                   'embarked'])],\n",
              "                                   verbose=False)),\n",
              "                ('svc',\n",
              "                 SVC(C=1.0, break_ties=False, cache_size=200, class_weight=None,\n",
              "                     coef0=0.0, decision_function_shape='ovr', degree=3,\n",
              "                     gamma='scale', kernel='rbf', max_iter=-1, probability=True,\n",
              "                     random_state=None, shrinking=True, tol=0.001,\n",
              "                     verbose=False))],\n",
              "         verbose=False)"
            ]
          },
          "metadata": {
            "tags": []
          },
          "execution_count": 127
        }
      ]
    },
    {
      "cell_type": "code",
      "metadata": {
        "id": "RyYSkDr6Zv4T",
        "outputId": "fc042222-6e42-4aa7-a8b6-1da906440ca9",
        "colab": {
          "base_uri": "https://localhost:8080/",
          "height": 34
        }
      },
      "source": [
        "numeric_features = ['age', 'fare', 'parch', 'sibsp']\n",
        "numeric_transformer = Pipeline(steps=[\n",
        "    ('imputer', SimpleImputer(strategy='median')),\n",
        "    ('scaler', StandardScaler())])\n",
        "\n",
        "categorical_features = ['gender', 'class', 'embarked']\n",
        "categorical_transformer = Pipeline(steps=[\n",
        "    ('imputer', SimpleImputer(strategy='constant', fill_value='missing')),\n",
        "    ('onehot', OneHotEncoder(handle_unknown='ignore'))])\n",
        "\n",
        "preprocessor = ColumnTransformer(\n",
        "    transformers=[\n",
        "        ('num', numeric_transformer, numeric_features),\n",
        "        ('cat', categorical_transformer, categorical_features)])\n",
        "\n",
        "# Append classifier to preprocessing pipeline.\n",
        "# Now we have a full prediction pipeline.\n",
        "clf = Pipeline(steps=[('preprocessor', preprocessor),\n",
        "                      ('classifier',SVC( ))])\n",
        "\n",
        "X_train, X_test, y_train, y_test = train_test_split(X, y, test_size=0.2)\n",
        "\n",
        "clf.fit(X_train, y_train)\n",
        "print(\"model score: %.3f\" % clf.score(X_test, y_test))"
      ],
      "execution_count": null,
      "outputs": [
        {
          "output_type": "stream",
          "text": [
            "model score: 0.814\n"
          ],
          "name": "stdout"
        }
      ]
    },
    {
      "cell_type": "code",
      "metadata": {
        "id": "kW_mhulbaQnU",
        "outputId": "ddce12dc-2151-4197-ac6e-f3501bf6d087",
        "colab": {
          "base_uri": "https://localhost:8080/",
          "height": 34
        }
      },
      "source": [
        "param_grid = {\n",
        "    'preprocessor__num__imputer__strategy': ['mean', 'median'],\n",
        "    'classifier__C': [0.1, 1.0, 10, 100],\n",
        "    'classifier__kernel':[ 'linear', 'poly', 'rbf', 'sigmoid']\n",
        "\n",
        "\n",
        "}\n",
        "\n",
        "grid_search = GridSearchCV(clf, param_grid, cv=10)\n",
        "grid_search.fit(X_train, y_train)\n",
        "\n",
        "print((\"best SVC from grid search: %.3f\"\n",
        "       % grid_search.score(X_test, y_test)))"
      ],
      "execution_count": null,
      "outputs": [
        {
          "output_type": "stream",
          "text": [
            "best SVC from grid search: 0.814\n"
          ],
          "name": "stdout"
        }
      ]
    },
    {
      "cell_type": "code",
      "metadata": {
        "id": "PFed1hVEZwA-",
        "outputId": "ee59ce51-8a21-4301-d8b9-b5053a0f063c",
        "colab": {
          "base_uri": "https://localhost:8080/",
          "height": 70
        }
      },
      "source": [
        "grid_search.best_params_"
      ],
      "execution_count": null,
      "outputs": [
        {
          "output_type": "execute_result",
          "data": {
            "text/plain": [
              "{'classifier__C': 1.0,\n",
              " 'classifier__kernel': 'rbf',\n",
              " 'preprocessor__num__imputer__strategy': 'mean'}"
            ]
          },
          "metadata": {
            "tags": []
          },
          "execution_count": 131
        }
      ]
    },
    {
      "cell_type": "code",
      "metadata": {
        "id": "asUEu8OnZwKi",
        "outputId": "2dacfc20-b7e0-4393-e9c1-c9a8a99a26b9",
        "colab": {
          "base_uri": "https://localhost:8080/",
          "height": 34
        }
      },
      "source": [
        "grid_search.best_score_"
      ],
      "execution_count": null,
      "outputs": [
        {
          "output_type": "execute_result",
          "data": {
            "text/plain": [
              "0.8102015921931176"
            ]
          },
          "metadata": {
            "tags": []
          },
          "execution_count": 132
        }
      ]
    },
    {
      "cell_type": "code",
      "metadata": {
        "id": "fhANxUiraG_9",
        "outputId": "2038ef77-2f37-483c-9e53-ec3709ebafc1",
        "colab": {
          "base_uri": "https://localhost:8080/",
          "height": 550
        }
      },
      "source": [
        "grid_search.best_estimator_"
      ],
      "execution_count": null,
      "outputs": [
        {
          "output_type": "execute_result",
          "data": {
            "text/plain": [
              "Pipeline(memory=None,\n",
              "         steps=[('preprocessor',\n",
              "                 ColumnTransformer(n_jobs=None, remainder='drop',\n",
              "                                   sparse_threshold=0.3,\n",
              "                                   transformer_weights=None,\n",
              "                                   transformers=[('num',\n",
              "                                                  Pipeline(memory=None,\n",
              "                                                           steps=[('imputer',\n",
              "                                                                   SimpleImputer(add_indicator=False,\n",
              "                                                                                 copy=True,\n",
              "                                                                                 fill_value=None,\n",
              "                                                                                 missing_values=nan,\n",
              "                                                                                 strategy='mean',\n",
              "                                                                                 verbose=0)),\n",
              "                                                                  ('scaler',\n",
              "                                                                   StandardScaler(copy=True,\n",
              "                                                                                  with_mean=T...\n",
              "                                                                                 handle_unknown='ignore',\n",
              "                                                                                 sparse=True))],\n",
              "                                                           verbose=False),\n",
              "                                                  ['gender', 'class',\n",
              "                                                   'embarked'])],\n",
              "                                   verbose=False)),\n",
              "                ('classifier',\n",
              "                 SVC(C=1.0, break_ties=False, cache_size=200, class_weight=None,\n",
              "                     coef0=0.0, decision_function_shape='ovr', degree=3,\n",
              "                     gamma='scale', kernel='rbf', max_iter=-1,\n",
              "                     probability=False, random_state=None, shrinking=True,\n",
              "                     tol=0.001, verbose=False))],\n",
              "         verbose=False)"
            ]
          },
          "metadata": {
            "tags": []
          },
          "execution_count": 133
        }
      ]
    },
    {
      "cell_type": "code",
      "metadata": {
        "id": "4cz53ZwDaHMK",
        "outputId": "55c187f6-f433-409e-b5f0-823b161aa7ff",
        "colab": {
          "base_uri": "https://localhost:8080/",
          "height": 34
        }
      },
      "source": [
        "numeric_features = ['age', 'fare', 'parch', 'sibsp']\n",
        "numeric_transformer = Pipeline(steps=[\n",
        "    ('imputer', SimpleImputer(strategy='mean')),\n",
        "    ('scaler', StandardScaler())])\n",
        "\n",
        "categorical_features = ['gender', 'class', 'embarked']\n",
        "categorical_transformer = Pipeline(steps=[\n",
        "    ('imputer', SimpleImputer(strategy='constant', fill_value='missing')),\n",
        "    ('onehot', OneHotEncoder(handle_unknown='ignore'))])\n",
        "\n",
        "preprocessor = ColumnTransformer(\n",
        "    transformers=[\n",
        "        ('num', numeric_transformer, numeric_features),\n",
        "        ('cat', categorical_transformer, categorical_features)])\n",
        "\n",
        "# Append classifier to preprocessing pipeline.\n",
        "# Now we have a full prediction pipeline.\n",
        "clf = Pipeline(steps=[('preprocessor', preprocessor),\n",
        "                      ('classifier',SVC(C=1.0, break_ties=False, cache_size=200, class_weight=None,\n",
        "                     coef0=0.0, decision_function_shape='ovr', degree=3,\n",
        "                     gamma='scale', kernel='rbf', max_iter=-1,\n",
        "                     probability=False, random_state=None, shrinking=True,\n",
        "                     tol=0.001, verbose=False))])\n",
        "\n",
        "X_train, X_test, y_train, y_test = train_test_split(X, y, test_size=0.2)\n",
        "\n",
        "clf.fit(X_train, y_train)\n",
        "print(\"model score: %.3f\" % clf.score(X_test, y_test))"
      ],
      "execution_count": null,
      "outputs": [
        {
          "output_type": "stream",
          "text": [
            "model score: 0.787\n"
          ],
          "name": "stdout"
        }
      ]
    },
    {
      "cell_type": "code",
      "metadata": {
        "id": "I9iaMLHQjUWH",
        "outputId": "9a37eb78-5097-4f47-f372-1cdd5a0f1f7b",
        "colab": {
          "base_uri": "https://localhost:8080/",
          "height": 34
        }
      },
      "source": [
        "clf.predict(JennieK)"
      ],
      "execution_count": null,
      "outputs": [
        {
          "output_type": "execute_result",
          "data": {
            "text/plain": [
              "array([1])"
            ]
          },
          "metadata": {
            "tags": []
          },
          "execution_count": 137
        }
      ]
    },
    {
      "cell_type": "code",
      "metadata": {
        "id": "oHtBbnIDkz9D"
      },
      "source": [
        ""
      ],
      "execution_count": null,
      "outputs": []
    }
  ]
}