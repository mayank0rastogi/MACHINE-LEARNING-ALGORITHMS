{
  "nbformat": 4,
  "nbformat_minor": 0,
  "metadata": {
    "colab": {
      "name": "TimeSeries Forecasting-Using Machine learning(ARIMA).ipynb",
      "provenance": [],
      "collapsed_sections": []
    },
    "kernelspec": {
      "name": "python3",
      "display_name": "Python 3"
    }
  },
  "cells": [
    {
      "cell_type": "markdown",
      "metadata": {
        "id": "i7iqOBrdP1ez"
      },
      "source": [
        "##Time Series Forecasting Of Shampoo Sales Using Mchine Learning Library Called ARIMA\r\n",
        "\r\n"
      ]
    },
    {
      "cell_type": "code",
      "metadata": {
        "colab": {
          "base_uri": "https://localhost:8080/"
        },
        "id": "VyEHQ5S3JskA",
        "outputId": "ab6d84cf-aa67-40ee-9eeb-73e1becff9f9"
      },
      "source": [
        "import pandas as pd\r\n",
        "import numpy as np\r\n",
        "import matplotlib.pyplot as plt\r\n",
        "from statsmodels.tsa.arima_model import ARIMA\r\n",
        "from sklearn.metrics import mean_squared_error\r\n",
        "import datetime"
      ],
      "execution_count": null,
      "outputs": [
        {
          "output_type": "stream",
          "text": [
            "/usr/local/lib/python3.6/dist-packages/statsmodels/tools/_testing.py:19: FutureWarning: pandas.util.testing is deprecated. Use the functions in the public API at pandas.testing instead.\n",
            "  import pandas.util.testing as tm\n"
          ],
          "name": "stderr"
        }
      ]
    },
    {
      "cell_type": "code",
      "metadata": {
        "id": "tlLm1hduPXpe"
      },
      "source": [
        "def parser(x):\r\n",
        "    return datetime.strptime('190'+x, '%Y-%m')\r\n",
        "df = pd.read_csv('sales-of-shampoo-over-a-three-ye.csv', header=0,parse_dates=True,index_col='Month')"
      ],
      "execution_count": null,
      "outputs": []
    },
    {
      "cell_type": "code",
      "metadata": {
        "colab": {
          "base_uri": "https://localhost:8080/",
          "height": 220
        },
        "id": "QduefVCaOygt",
        "outputId": "cf315c5e-2791-45f6-8ba6-f63fbb6b449b"
      },
      "source": [
        "df.head()"
      ],
      "execution_count": null,
      "outputs": [
        {
          "output_type": "execute_result",
          "data": {
            "text/html": [
              "<div>\n",
              "<style scoped>\n",
              "    .dataframe tbody tr th:only-of-type {\n",
              "        vertical-align: middle;\n",
              "    }\n",
              "\n",
              "    .dataframe tbody tr th {\n",
              "        vertical-align: top;\n",
              "    }\n",
              "\n",
              "    .dataframe thead th {\n",
              "        text-align: right;\n",
              "    }\n",
              "</style>\n",
              "<table border=\"1\" class=\"dataframe\">\n",
              "  <thead>\n",
              "    <tr style=\"text-align: right;\">\n",
              "      <th></th>\n",
              "      <th>Sales of shampoo over a three year period</th>\n",
              "    </tr>\n",
              "    <tr>\n",
              "      <th>Month</th>\n",
              "      <th></th>\n",
              "    </tr>\n",
              "  </thead>\n",
              "  <tbody>\n",
              "    <tr>\n",
              "      <th>1-01</th>\n",
              "      <td>266.0</td>\n",
              "    </tr>\n",
              "    <tr>\n",
              "      <th>1-02</th>\n",
              "      <td>145.9</td>\n",
              "    </tr>\n",
              "    <tr>\n",
              "      <th>1-03</th>\n",
              "      <td>183.1</td>\n",
              "    </tr>\n",
              "    <tr>\n",
              "      <th>1-04</th>\n",
              "      <td>119.3</td>\n",
              "    </tr>\n",
              "    <tr>\n",
              "      <th>1-05</th>\n",
              "      <td>180.3</td>\n",
              "    </tr>\n",
              "  </tbody>\n",
              "</table>\n",
              "</div>"
            ],
            "text/plain": [
              "       Sales of shampoo over a three year period\n",
              "Month                                           \n",
              "1-01                                       266.0\n",
              "1-02                                       145.9\n",
              "1-03                                       183.1\n",
              "1-04                                       119.3\n",
              "1-05                                       180.3"
            ]
          },
          "metadata": {
            "tags": []
          },
          "execution_count": 13
        }
      ]
    },
    {
      "cell_type": "code",
      "metadata": {
        "id": "pWMNiUBaO2ka"
      },
      "source": [
        "df=df.dropna()"
      ],
      "execution_count": null,
      "outputs": []
    },
    {
      "cell_type": "code",
      "metadata": {
        "colab": {
          "base_uri": "https://localhost:8080/"
        },
        "id": "8eJDwNqIPqT3",
        "outputId": "a9c2397b-2be8-4340-b5cf-18f1b1f3aba6"
      },
      "source": [
        "df.shape"
      ],
      "execution_count": null,
      "outputs": [
        {
          "output_type": "execute_result",
          "data": {
            "text/plain": [
              "(36, 1)"
            ]
          },
          "metadata": {
            "tags": []
          },
          "execution_count": 15
        }
      ]
    },
    {
      "cell_type": "code",
      "metadata": {
        "colab": {
          "base_uri": "https://localhost:8080/",
          "height": 280
        },
        "id": "4rJ2WLsAPsf1",
        "outputId": "36de7c91-3180-4eaa-856b-f93dc4423da1"
      },
      "source": [
        "\r\n",
        "df.plot()\r\n",
        "plt.show()"
      ],
      "execution_count": null,
      "outputs": [
        {
          "output_type": "display_data",
          "data": {
            "image/png": "[encoded data removed]",
            "text/plain": [
              "<Figure size 432x288 with 1 Axes>"
            ]
          },
          "metadata": {
            "tags": [],
            "needs_background": "light"
          }
        }
      ]
    },
    {
      "cell_type": "code",
      "metadata": {
        "id": "rENSrPRDPyfg"
      },
      "source": [
        "X=df.values\r\n"
      ],
      "execution_count": null,
      "outputs": []
    },
    {
      "cell_type": "code",
      "metadata": {
        "colab": {
          "base_uri": "https://localhost:8080/"
        },
        "id": "FQxsWucfQLtt",
        "outputId": "846b916c-174a-4703-a26f-39fccea9e8f5"
      },
      "source": [
        "X"
      ],
      "execution_count": null,
      "outputs": [
        {
          "output_type": "execute_result",
          "data": {
            "text/plain": [
              "array([[266. ],\n",
              "       [145.9],\n",
              "       [183.1],\n",
              "       [119.3],\n",
              "       [180.3],\n",
              "       [168.5],\n",
              "       [231.8],\n",
              "       [224.5],\n",
              "       [192.8],\n",
              "       [122.9],\n",
              "       [336.5],\n",
              "       [185.9],\n",
              "       [194.3],\n",
              "       [149.5],\n",
              "       [210.1],\n",
              "       [273.3],\n",
              "       [191.4],\n",
              "       [287. ],\n",
              "       [226. ],\n",
              "       [303.6],\n",
              "       [289.9],\n",
              "       [421.6],\n",
              "       [264.5],\n",
              "       [342.3],\n",
              "       [339.7],\n",
              "       [440.4],\n",
              "       [315.9],\n",
              "       [439.3],\n",
              "       [401.3],\n",
              "       [437.4],\n",
              "       [575.5],\n",
              "       [407.6],\n",
              "       [682. ],\n",
              "       [475.3],\n",
              "       [581.3],\n",
              "       [646.9]])"
            ]
          },
          "metadata": {
            "tags": []
          },
          "execution_count": 19
        }
      ]
    },
    {
      "cell_type": "code",
      "metadata": {
        "colab": {
          "base_uri": "https://localhost:8080/"
        },
        "id": "DFkCCfxuQM1G",
        "outputId": "fcbef006-abff-4b3f-fbd1-4b1d84adf7b9"
      },
      "source": [
        "size = int(len(X) * 0.70)\r\n",
        "print(len(X))\r\n",
        "print(size)"
      ],
      "execution_count": null,
      "outputs": [
        {
          "output_type": "stream",
          "text": [
            "36\n",
            "25\n"
          ],
          "name": "stdout"
        }
      ]
    },
    {
      "cell_type": "code",
      "metadata": {
        "id": "PTQ4Au5NQZJy"
      },
      "source": [
        "train, test = X[0:size], X[size:len(X)]"
      ],
      "execution_count": null,
      "outputs": []
    },
    {
      "cell_type": "code",
      "metadata": {
        "colab": {
          "base_uri": "https://localhost:8080/"
        },
        "id": "LB7BfJTXTXes",
        "outputId": "5ff3e7b8-6e5f-45d5-a38a-67d0aa871307"
      },
      "source": [
        "train"
      ],
      "execution_count": null,
      "outputs": [
        {
          "output_type": "execute_result",
          "data": {
            "text/plain": [
              "array([[266. ],\n",
              "       [145.9],\n",
              "       [183.1],\n",
              "       [119.3],\n",
              "       [180.3],\n",
              "       [168.5],\n",
              "       [231.8],\n",
              "       [224.5],\n",
              "       [192.8],\n",
              "       [122.9],\n",
              "       [336.5],\n",
              "       [185.9],\n",
              "       [194.3],\n",
              "       [149.5],\n",
              "       [210.1],\n",
              "       [273.3],\n",
              "       [191.4],\n",
              "       [287. ],\n",
              "       [226. ],\n",
              "       [303.6],\n",
              "       [289.9],\n",
              "       [421.6],\n",
              "       [264.5],\n",
              "       [342.3],\n",
              "       [339.7]])"
            ]
          },
          "metadata": {
            "tags": []
          },
          "execution_count": 29
        }
      ]
    },
    {
      "cell_type": "code",
      "metadata": {
        "id": "4DML90vCTrUV",
        "colab": {
          "base_uri": "https://localhost:8080/"
        },
        "outputId": "2dc600fb-441f-4771-bb62-531fad0be519"
      },
      "source": [
        "test"
      ],
      "execution_count": null,
      "outputs": [
        {
          "output_type": "execute_result",
          "data": {
            "text/plain": [
              "array([[440.4],\n",
              "       [315.9],\n",
              "       [439.3],\n",
              "       [401.3],\n",
              "       [437.4],\n",
              "       [575.5],\n",
              "       [407.6],\n",
              "       [682. ],\n",
              "       [475.3],\n",
              "       [581.3],\n",
              "       [646.9]])"
            ]
          },
          "metadata": {
            "tags": []
          },
          "execution_count": 30
        }
      ]
    },
    {
      "cell_type": "code",
      "metadata": {
        "colab": {
          "base_uri": "https://localhost:8080/"
        },
        "id": "RqGFTw7AQe2u",
        "outputId": "85043625-eb5c-4688-bbff-d823e12d5e80"
      },
      "source": [
        "history = [x for x in train]\r\n",
        "predictions = list()\r\n",
        "for t in range(len(test)):\r\n",
        "    model = ARIMA(history,order=(5,1,0))\r\n",
        "    model_fit = model.fit(disp=0)\r\n",
        "    output = model_fit.forecast()\r\n",
        "    yhat = output[0]\r\n",
        "    predictions.append(yhat)\r\n",
        "    obs = test[t]\r\n",
        "    history.append(obs)\r\n",
        "    print(f'Predicted={yhat},Expected ={obs}')\r\n",
        "error = mean_squared_error(test,predictions)\r\n",
        "print(f\"TEST MSE :{error}\")"
      ],
      "execution_count": null,
      "outputs": [
        {
          "output_type": "stream",
          "text": [
            "Predicted=[387.37638769],Expected =[440.4]\n",
            "Predicted=[348.15419409],Expected =[315.9]\n",
            "Predicted=[386.30876953],Expected =[439.3]\n",
            "Predicted=[356.08196012],Expected =[401.3]\n",
            "Predicted=[446.37950078],Expected =[437.4]\n",
            "Predicted=[394.73727567],Expected =[575.5]\n",
            "Predicted=[434.91550367],Expected =[407.6]\n",
            "Predicted=[507.9233499],Expected =[682.]\n",
            "Predicted=[435.48283227],Expected =[475.3]\n",
            "Predicted=[652.7437651],Expected =[581.3]\n",
            "Predicted=[546.34345239],Expected =[646.9]\n",
            "TEST MSE :8119.129692047803\n"
          ],
          "name": "stdout"
        }
      ]
    },
    {
      "cell_type": "code",
      "metadata": {
        "colab": {
          "base_uri": "https://localhost:8080/"
        },
        "id": "GiMdaK-YS8mt",
        "outputId": "7d3bddc5-563e-4234-9887-dc3c57c69c98"
      },
      "source": [
        "history"
      ],
      "execution_count": null,
      "outputs": [
        {
          "output_type": "execute_result",
          "data": {
            "text/plain": [
              "[array([266.]),\n",
              " array([145.9]),\n",
              " array([183.1]),\n",
              " array([119.3]),\n",
              " array([180.3]),\n",
              " array([168.5]),\n",
              " array([231.8]),\n",
              " array([224.5]),\n",
              " array([192.8]),\n",
              " array([122.9]),\n",
              " array([336.5]),\n",
              " array([185.9]),\n",
              " array([194.3]),\n",
              " array([149.5]),\n",
              " array([210.1]),\n",
              " array([273.3]),\n",
              " array([191.4]),\n",
              " array([287.]),\n",
              " array([226.]),\n",
              " array([303.6]),\n",
              " array([289.9]),\n",
              " array([421.6]),\n",
              " array([264.5]),\n",
              " array([342.3]),\n",
              " array([339.7]),\n",
              " array([440.4]),\n",
              " array([315.9]),\n",
              " array([439.3]),\n",
              " array([401.3]),\n",
              " array([437.4]),\n",
              " array([575.5]),\n",
              " array([407.6]),\n",
              " array([682.]),\n",
              " array([475.3]),\n",
              " array([581.3]),\n",
              " array([646.9])]"
            ]
          },
          "metadata": {
            "tags": []
          },
          "execution_count": 28
        }
      ]
    },
    {
      "cell_type": "code",
      "metadata": {
        "colab": {
          "base_uri": "https://localhost:8080/"
        },
        "id": "sAmFe8plSgOV",
        "outputId": "843ea6f6-345a-4f6a-d3d3-c79c0f58b947"
      },
      "source": [
        "output"
      ],
      "execution_count": null,
      "outputs": [
        {
          "output_type": "execute_result",
          "data": {
            "text/plain": [
              "(array([546.34345239]),\n",
              " array([63.455984]),\n",
              " array([[421.97200915, 670.71489564]]))"
            ]
          },
          "metadata": {
            "tags": []
          },
          "execution_count": 26
        }
      ]
    },
    {
      "cell_type": "code",
      "metadata": {
        "colab": {
          "base_uri": "https://localhost:8080/"
        },
        "id": "0K6IWHXDSQ6o",
        "outputId": "8881061a-2722-4f77-ffe1-47e58befe2f7"
      },
      "source": [
        "output[0]"
      ],
      "execution_count": null,
      "outputs": [
        {
          "output_type": "execute_result",
          "data": {
            "text/plain": [
              "array([546.34345239])"
            ]
          },
          "metadata": {
            "tags": []
          },
          "execution_count": 25
        }
      ]
    },
    {
      "cell_type": "code",
      "metadata": {
        "colab": {
          "base_uri": "https://localhost:8080/"
        },
        "id": "x1mYwECXSrMw",
        "outputId": "e4378870-c60c-4f9c-e464-4166865eaba6"
      },
      "source": [
        "obs"
      ],
      "execution_count": null,
      "outputs": [
        {
          "output_type": "execute_result",
          "data": {
            "text/plain": [
              "array([646.9])"
            ]
          },
          "metadata": {
            "tags": []
          },
          "execution_count": 27
        }
      ]
    },
    {
      "cell_type": "code",
      "metadata": {
        "colab": {
          "base_uri": "https://localhost:8080/",
          "height": 268
        },
        "id": "Za3KBvj8QjaZ",
        "outputId": "e15126fd-4af9-4c50-a354-4901a966cadb"
      },
      "source": [
        "plt.plot(test)\r\n",
        "plt.plot(predictions, color='red')\r\n",
        "plt.show()"
      ],
      "execution_count": null,
      "outputs": [
        {
          "output_type": "display_data",
          "data": {
            "image/png": "[encoded data removed]",
            "text/plain": [
              "<Figure size 432x288 with 1 Axes>"
            ]
          },
          "metadata": {
            "tags": [],
            "needs_background": "light"
          }
        }
      ]
    },
    {
      "cell_type": "code",
      "metadata": {
        "id": "CY8b0u-XQsL6"
      },
      "source": [
        ""
      ],
      "execution_count": null,
      "outputs": []
    }
  ]
}