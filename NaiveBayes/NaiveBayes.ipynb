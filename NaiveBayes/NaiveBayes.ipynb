{
  "nbformat": 4,
  "nbformat_minor": 0,
  "metadata": {
    "colab": {
      "name": "NaiveBayes.ipynb",
      "provenance": [],
      "collapsed_sections": []
    },
    "kernelspec": {
      "name": "python3",
      "display_name": "Python 3"
    }
  },
  "cells": [
    {
      "cell_type": "markdown",
      "metadata": {
        "id": "mOi7CsRF2ObT"
      },
      "source": [
        "# **Naive Bayes**"
      ]
    },
    {
      "cell_type": "code",
      "metadata": {
        "id": "eWB4L7UMlqUv"
      },
      "source": [
        "import pandas as pd\n",
        "import numpy as np\n",
        "import matplotlib.pyplot as plt\n",
        "plt.style.use('seaborn-deep')\n",
        "import seaborn as sns\n"
      ],
      "execution_count": 11,
      "outputs": []
    },
    {
      "cell_type": "code",
      "metadata": {
        "id": "By_se2JHmTli"
      },
      "source": [
        "# Reading in data\n",
        "ds = pd.read_csv(\"social_networksAds.csv\")\n",
        "X = ds.iloc[:, 2:4].values\n",
        "y = ds.iloc[:,4].values"
      ],
      "execution_count": 2,
      "outputs": []
    },
    {
      "cell_type": "code",
      "metadata": {
        "id": "AMpkhECumf6V"
      },
      "source": [
        "from sklearn.model_selection import train_test_split\n",
        "from sklearn.preprocessing import StandardScaler\n",
        "from sklearn.metrics import confusion_matrix"
      ],
      "execution_count": 3,
      "outputs": []
    },
    {
      "cell_type": "code",
      "metadata": {
        "id": "PWlG-yQxmlj8"
      },
      "source": [
        "# Splitting and scaling\n",
        "X_train, X_test, y_train, y_test = train_test_split(X,y)\n",
        "\n",
        "\n"
      ],
      "execution_count": 4,
      "outputs": []
    },
    {
      "cell_type": "markdown",
      "metadata": {
        "id": "DvUiyAmsmtPK"
      },
      "source": [
        "###Scaling The Data"
      ]
    },
    {
      "cell_type": "code",
      "metadata": {
        "id": "WrdFEruOmrhA"
      },
      "source": [
        "sc = StandardScaler()\n",
        "X_train = sc.fit_transform(X_train)\n",
        "X_test = sc.fit_transform(X_test)"
      ],
      "execution_count": 5,
      "outputs": []
    },
    {
      "cell_type": "markdown",
      "metadata": {
        "id": "9Zy66s11m58q"
      },
      "source": [
        "##CLassifier  We Use Gaussian-NaiveBayes"
      ]
    },
    {
      "cell_type": "code",
      "metadata": {
        "id": "n0NolKaNm21B"
      },
      "source": [
        "# Classifier\n",
        "from sklearn.naive_bayes import GaussianNB"
      ],
      "execution_count": 6,
      "outputs": []
    },
    {
      "cell_type": "markdown",
      "metadata": {
        "id": "iCUH02ARnY79"
      },
      "source": [
        "Fitting into the Model"
      ]
    },
    {
      "cell_type": "code",
      "metadata": {
        "id": "-q5VK0ycnCZD",
        "outputId": "669fac52-00cf-4aae-f953-7f42da0a269f",
        "colab": {
          "base_uri": "https://localhost:8080/",
          "height": 34
        }
      },
      "source": [
        "nb = GaussianNB()\n",
        "nb.fit(X_train, y_train)\n",
        "\n",
        "\n"
      ],
      "execution_count": 7,
      "outputs": [
        {
          "output_type": "execute_result",
          "data": {
            "text/plain": [
              "GaussianNB(priors=None, var_smoothing=1e-09)"
            ]
          },
          "metadata": {
            "tags": []
          },
          "execution_count": 7
        }
      ]
    },
    {
      "cell_type": "markdown",
      "metadata": {
        "id": "o7ug0ZkvnW9V"
      },
      "source": [
        "###Confusion Matrix"
      ]
    },
    {
      "cell_type": "code",
      "metadata": {
        "id": "kN2XgQyXnLq6"
      },
      "source": [
        "y_pred = nb.predict(X_test)\n",
        "cm = confusion_matrix(y_test, y_pred)\n",
        "\n"
      ],
      "execution_count": 8,
      "outputs": []
    },
    {
      "cell_type": "code",
      "metadata": {
        "id": "uR4d2fRznlz4",
        "outputId": "5ae417a8-bb3b-46de-a765-2d6ad5b2c0a0",
        "colab": {
          "base_uri": "https://localhost:8080/",
          "height": 51
        }
      },
      "source": [
        "cm"
      ],
      "execution_count": 9,
      "outputs": [
        {
          "output_type": "execute_result",
          "data": {
            "text/plain": [
              "array([[61,  7],\n",
              "       [ 3, 29]])"
            ]
          },
          "metadata": {
            "tags": []
          },
          "execution_count": 9
        }
      ]
    },
    {
      "cell_type": "code",
      "metadata": {
        "id": "pJ9EXroEn2h-",
        "outputId": "44c9860d-16ef-4dbd-d4a2-289c33ba84b7",
        "colab": {
          "base_uri": "https://localhost:8080/",
          "height": 337
        }
      },
      "source": [
        "# visualizing the confusion matrix\n",
        "\n",
        "from sklearn.metrics import confusion_matrix\n",
        "\n",
        "# creating a confusion matrix\n",
        "cm1 = confusion_matrix(y_test, y_pred)\n",
        "\n",
        "# printing the confusion matrix\n",
        "plt.rcParams['figure.figsize'] = (5, 5)\n",
        "sns.heatmap(cm1, annot = True, cmap = 'Blues')"
      ],
      "execution_count": 12,
      "outputs": [
        {
          "output_type": "execute_result",
          "data": {
            "text/plain": [
              "<matplotlib.axes._subplots.AxesSubplot at 0x7f96c2de89e8>"
            ]
          },
          "metadata": {
            "tags": []
          },
          "execution_count": 12
        },
        {
          "output_type": "display_data",
          "data": {
            "image/png": "[encoded data removed]",
            "text/plain": [
              "<Figure size 360x360 with 2 Axes>"
            ]
          },
          "metadata": {
            "tags": [],
            "needs_background": "light"
          }
        }
      ]
    },
    {
      "cell_type": "markdown",
      "metadata": {
        "id": "98mSRuG-nTGo"
      },
      "source": [
        "###Visualize The result"
      ]
    },
    {
      "cell_type": "code",
      "metadata": {
        "id": "V-Fq0oLXnSOn",
        "outputId": "0145155d-f837-485c-f9e4-baf21007457f",
        "colab": {
          "base_uri": "https://localhost:8080/",
          "height": 404
        }
      },
      "source": [
        "# Plot\n",
        "from matplotlib.colors import ListedColormap\n",
        "\n",
        "X_set, y_set = X_train, y_train\n",
        "X1, X2 = np.meshgrid(np.arange(X_set[:,0].min() - 1, \n",
        "                               X_set[:,0].max() + 1, \n",
        "                               step = 0.01),\n",
        "                     np.arange(X_set[:,1].min() - 1, \n",
        "                               X_set[:,1].max() + 1, \n",
        "                               step = 0.01))\n",
        "boundary = nb.predict(np.array([X1.ravel(), X2.ravel()]).T).reshape(X1.shape)\n",
        "plt.contourf(X1, X2, boundary, alpha = 0.75, \n",
        "             cmap = ListedColormap(('#fc7a74', '#6ff785')))\n",
        "plt.xlim(X1.min(), X1.max())\n",
        "plt.ylim(X2.min(), X2.max())\n",
        "for i,j in enumerate(np.unique(y_set)):\n",
        "    plt.scatter(X_set[y_set == j, 0], X_set[y_set == j, 1],\n",
        "                c = ListedColormap(('red', 'green'))(i), \n",
        "                label = j, s = 20)\n",
        "plt.title('Naive bayes')\n",
        "plt.xlabel('Age')\n",
        "plt.ylabel('Salary')\n",
        "plt.legend()\n",
        "plt.show()"
      ],
      "execution_count": 14,
      "outputs": [
        {
          "output_type": "stream",
          "text": [
            "*c* argument looks like a single numeric RGB or RGBA sequence, which should be avoided as value-mapping will have precedence in case its length matches with *x* & *y*.  Please use the *color* keyword-argument or provide a 2-D array with a single row if you intend to specify the same RGB or RGBA value for all points.\n",
            "*c* argument looks like a single numeric RGB or RGBA sequence, which should be avoided as value-mapping will have precedence in case its length matches with *x* & *y*.  Please use the *color* keyword-argument or provide a 2-D array with a single row if you intend to specify the same RGB or RGBA value for all points.\n"
          ],
          "name": "stderr"
        },
        {
          "output_type": "display_data",
          "data": {
            "image/png": "[encoded data removed]",
            "text/plain": [
              "<Figure size 360x360 with 1 Axes>"
            ]
          },
          "metadata": {
            "tags": [],
            "needs_background": "light"
          }
        }
      ]
    },
    {
      "cell_type": "code",
      "metadata": {
        "id": "NVDuU7ofoI8v"
      },
      "source": [
        ""
      ],
      "execution_count": null,
      "outputs": []
    }
  ]
}