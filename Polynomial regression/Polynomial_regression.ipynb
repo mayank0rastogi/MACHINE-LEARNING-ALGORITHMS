{
  "nbformat": 4,
  "nbformat_minor": 0,
  "metadata": {
    "colab": {
      "name": "Polynomial regression.ipynb",
      "provenance": [],
      "collapsed_sections": []
    },
    "kernelspec": {
      "name": "python3",
      "display_name": "Python 3"
    }
  },
  "cells": [
    {
      "cell_type": "markdown",
      "metadata": {
        "id": "Ja1XyjsQx2-M"
      },
      "source": [
        "## Import necessary libraries "
      ]
    },
    {
      "cell_type": "code",
      "metadata": {
        "id": "QCulwxNSw9nJ"
      },
      "source": [
        "\n",
        "import pandas as pd \n",
        "import numpy as np \n",
        "import matplotlib.pyplot as plt \n"
      ],
      "execution_count": 2,
      "outputs": []
    },
    {
      "cell_type": "markdown",
      "metadata": {
        "id": "ezs0v-yRx6fD"
      },
      "source": [
        "## Import the Height Weight Dataset "
      ]
    },
    {
      "cell_type": "code",
      "metadata": {
        "id": "ieo6_dk0xPJL",
        "outputId": "c6774ac2-e9c2-4f2f-cdf4-41a804e00ff8",
        "colab": {
          "base_uri": "https://localhost:8080/",
          "height": 198
        }
      },
      "source": [
        "\n",
        "data = pd.read_csv('hw.csv') \n",
        "data.head()"
      ],
      "execution_count": 3,
      "outputs": [
        {
          "output_type": "execute_result",
          "data": {
            "text/html": [
              "<div>\n",
              "<style scoped>\n",
              "    .dataframe tbody tr th:only-of-type {\n",
              "        vertical-align: middle;\n",
              "    }\n",
              "\n",
              "    .dataframe tbody tr th {\n",
              "        vertical-align: top;\n",
              "    }\n",
              "\n",
              "    .dataframe thead th {\n",
              "        text-align: right;\n",
              "    }\n",
              "</style>\n",
              "<table border=\"1\" class=\"dataframe\">\n",
              "  <thead>\n",
              "    <tr style=\"text-align: right;\">\n",
              "      <th></th>\n",
              "      <th>Age</th>\n",
              "      <th>Height</th>\n",
              "    </tr>\n",
              "  </thead>\n",
              "  <tbody>\n",
              "    <tr>\n",
              "      <th>0</th>\n",
              "      <td>10</td>\n",
              "      <td>138</td>\n",
              "    </tr>\n",
              "    <tr>\n",
              "      <th>1</th>\n",
              "      <td>11</td>\n",
              "      <td>138</td>\n",
              "    </tr>\n",
              "    <tr>\n",
              "      <th>2</th>\n",
              "      <td>12</td>\n",
              "      <td>138</td>\n",
              "    </tr>\n",
              "    <tr>\n",
              "      <th>3</th>\n",
              "      <td>13</td>\n",
              "      <td>139</td>\n",
              "    </tr>\n",
              "    <tr>\n",
              "      <th>4</th>\n",
              "      <td>14</td>\n",
              "      <td>139</td>\n",
              "    </tr>\n",
              "  </tbody>\n",
              "</table>\n",
              "</div>"
            ],
            "text/plain": [
              "   Age  Height\n",
              "0   10     138\n",
              "1   11     138\n",
              "2   12     138\n",
              "3   13     139\n",
              "4   14     139"
            ]
          },
          "metadata": {
            "tags": []
          },
          "execution_count": 3
        }
      ]
    },
    {
      "cell_type": "markdown",
      "metadata": {
        "id": "R4890fOR1mDl"
      },
      "source": [
        "###Store the data in the form of dependent and independent variables separately"
      ]
    },
    {
      "cell_type": "code",
      "metadata": {
        "id": "mkoyiULCxiKJ"
      },
      "source": [
        "X = data.iloc[:, 0].values \n",
        "y = data.iloc[:, 1].values"
      ],
      "execution_count": 63,
      "outputs": []
    },
    {
      "cell_type": "markdown",
      "metadata": {
        "id": "pTEhPbT653kJ"
      },
      "source": [
        "As we see when we pass in column selection only zero it takes the value in he from of vectors \n",
        "\n",
        "###But Suggested to make independent features into it feature matrix"
      ]
    },
    {
      "cell_type": "code",
      "metadata": {
        "id": "H-ojs5eq5gFG",
        "outputId": "215555e1-fa9b-4729-8e9a-51491611ac20",
        "colab": {
          "base_uri": "https://localhost:8080/",
          "height": 108
        }
      },
      "source": [
        "X"
      ],
      "execution_count": 64,
      "outputs": [
        {
          "output_type": "execute_result",
          "data": {
            "text/plain": [
              "array([10, 11, 12, 13, 14, 15, 16, 17, 18, 19, 20, 21, 22, 23, 24, 25, 26,\n",
              "       27, 28, 29, 30, 31, 32, 33, 34, 35, 36, 37, 38, 39, 40, 41, 42, 43,\n",
              "       44, 45, 46, 47, 48, 49, 50, 51, 52, 53, 54, 55, 56, 57, 58, 59, 60,\n",
              "       61, 62, 63, 64, 65, 66, 67, 68, 69, 70, 71, 72, 73, 74, 75, 76, 77,\n",
              "       78, 79, 80])"
            ]
          },
          "metadata": {
            "tags": []
          },
          "execution_count": 64
        }
      ]
    },
    {
      "cell_type": "code",
      "metadata": {
        "id": "cWlXkrRG5kZG",
        "outputId": "197c7573-5004-4679-eed8-ed1e693e9427",
        "colab": {
          "base_uri": "https://localhost:8080/",
          "height": 126
        }
      },
      "source": [
        "y"
      ],
      "execution_count": 65,
      "outputs": [
        {
          "output_type": "execute_result",
          "data": {
            "text/plain": [
              "array([138, 138, 138, 139, 139, 139, 140, 140, 140, 141, 141, 141, 142,\n",
              "       142, 142, 143, 143, 143, 144, 144, 145, 145, 146, 146, 147, 147,\n",
              "       148, 148, 149, 149, 150, 150, 151, 152, 153, 155, 156, 157, 158,\n",
              "       159, 160, 161, 162, 163, 164, 164, 165, 166, 167, 168, 169, 170,\n",
              "       171, 172, 173, 175, 178, 180, 183, 185, 188, 190, 193, 195, 199,\n",
              "       203, 204, 205, 206, 207, 208])"
            ]
          },
          "metadata": {
            "tags": []
          },
          "execution_count": 65
        }
      ]
    },
    {
      "cell_type": "code",
      "metadata": {
        "id": "QbLk_uzx68Do"
      },
      "source": [
        "X = data.iloc[:, 0:1].values \n",
        "y = data.iloc[:, 1].values"
      ],
      "execution_count": 66,
      "outputs": []
    },
    {
      "cell_type": "markdown",
      "metadata": {
        "id": "zd2nva_h7Gme"
      },
      "source": [
        "When column of indepedent var take it as 0:1 it takes the value as a feature matrix shown below"
      ]
    },
    {
      "cell_type": "code",
      "metadata": {
        "id": "8pI9C93X7Xdt",
        "outputId": "ff6fcdb6-ede3-4ba3-aeae-361664692974",
        "colab": {
          "base_uri": "https://localhost:8080/",
          "height": 1000
        }
      },
      "source": [
        "X"
      ],
      "execution_count": 67,
      "outputs": [
        {
          "output_type": "execute_result",
          "data": {
            "text/plain": [
              "array([[10],\n",
              "       [11],\n",
              "       [12],\n",
              "       [13],\n",
              "       [14],\n",
              "       [15],\n",
              "       [16],\n",
              "       [17],\n",
              "       [18],\n",
              "       [19],\n",
              "       [20],\n",
              "       [21],\n",
              "       [22],\n",
              "       [23],\n",
              "       [24],\n",
              "       [25],\n",
              "       [26],\n",
              "       [27],\n",
              "       [28],\n",
              "       [29],\n",
              "       [30],\n",
              "       [31],\n",
              "       [32],\n",
              "       [33],\n",
              "       [34],\n",
              "       [35],\n",
              "       [36],\n",
              "       [37],\n",
              "       [38],\n",
              "       [39],\n",
              "       [40],\n",
              "       [41],\n",
              "       [42],\n",
              "       [43],\n",
              "       [44],\n",
              "       [45],\n",
              "       [46],\n",
              "       [47],\n",
              "       [48],\n",
              "       [49],\n",
              "       [50],\n",
              "       [51],\n",
              "       [52],\n",
              "       [53],\n",
              "       [54],\n",
              "       [55],\n",
              "       [56],\n",
              "       [57],\n",
              "       [58],\n",
              "       [59],\n",
              "       [60],\n",
              "       [61],\n",
              "       [62],\n",
              "       [63],\n",
              "       [64],\n",
              "       [65],\n",
              "       [66],\n",
              "       [67],\n",
              "       [68],\n",
              "       [69],\n",
              "       [70],\n",
              "       [71],\n",
              "       [72],\n",
              "       [73],\n",
              "       [74],\n",
              "       [75],\n",
              "       [76],\n",
              "       [77],\n",
              "       [78],\n",
              "       [79],\n",
              "       [80]])"
            ]
          },
          "metadata": {
            "tags": []
          },
          "execution_count": 67
        }
      ]
    },
    {
      "cell_type": "code",
      "metadata": {
        "id": "IQXwt7ex7Xzq",
        "outputId": "568e2774-07b2-486c-e633-ac4eb0fedd58",
        "colab": {
          "base_uri": "https://localhost:8080/",
          "height": 126
        }
      },
      "source": [
        "y"
      ],
      "execution_count": 68,
      "outputs": [
        {
          "output_type": "execute_result",
          "data": {
            "text/plain": [
              "array([138, 138, 138, 139, 139, 139, 140, 140, 140, 141, 141, 141, 142,\n",
              "       142, 142, 143, 143, 143, 144, 144, 145, 145, 146, 146, 147, 147,\n",
              "       148, 148, 149, 149, 150, 150, 151, 152, 153, 155, 156, 157, 158,\n",
              "       159, 160, 161, 162, 163, 164, 164, 165, 166, 167, 168, 169, 170,\n",
              "       171, 172, 173, 175, 178, 180, 183, 185, 188, 190, 193, 195, 199,\n",
              "       203, 204, 205, 206, 207, 208])"
            ]
          },
          "metadata": {
            "tags": []
          },
          "execution_count": 68
        }
      ]
    },
    {
      "cell_type": "markdown",
      "metadata": {
        "id": "T5ym82Q-3Vr3"
      },
      "source": [
        "###Split the Dataset into Training and Test Dataset"
      ]
    },
    {
      "cell_type": "code",
      "metadata": {
        "id": "FVC-rLON1g99"
      },
      "source": [
        "\n",
        "from sklearn.model_selection import train_test_split\n",
        "X_train, X_test, y_train, y_test = train_test_split(X, y, test_size=0.3, random_state=0)"
      ],
      "execution_count": 69,
      "outputs": []
    },
    {
      "cell_type": "markdown",
      "metadata": {
        "id": "GoZq9haD3dfX"
      },
      "source": [
        "#Firstly Fit the Simple Linear Regression Model"
      ]
    },
    {
      "cell_type": "code",
      "metadata": {
        "id": "cCbEVN3r3XgJ",
        "outputId": "098226a1-5a84-45d0-d089-29afe00e5690",
        "colab": {
          "base_uri": "https://localhost:8080/",
          "height": 35
        }
      },
      "source": [
        "from sklearn.linear_model import LinearRegression\n",
        "LinModel = LinearRegression()\n",
        "LinModel.fit(X_train, y_train)"
      ],
      "execution_count": 70,
      "outputs": [
        {
          "output_type": "execute_result",
          "data": {
            "text/plain": [
              "LinearRegression(copy_X=True, fit_intercept=True, n_jobs=None, normalize=False)"
            ]
          },
          "metadata": {
            "tags": []
          },
          "execution_count": 70
        }
      ]
    },
    {
      "cell_type": "markdown",
      "metadata": {
        "id": "gaWbnm034swx"
      },
      "source": [
        "###Visualise the Linear Regression Result"
      ]
    },
    {
      "cell_type": "code",
      "metadata": {
        "id": "w2rUGQO53lA4",
        "outputId": "7cfffd8a-f4d3-458b-90e2-42bfd7dde927",
        "colab": {
          "base_uri": "https://localhost:8080/",
          "height": 295
        }
      },
      "source": [
        "plt.scatter(X_train,y_train,c='red',cmap=None,alpha=0.5)\n",
        "plt.plot(X_train,LinModel.predict(X_train),color='blue')\n",
        "plt.title(\"Linear-Regression Model\")\n",
        "plt.xlabel(\"Age\")\n",
        "plt.ylabel(\"Height\")\n",
        "plt.show()\n"
      ],
      "execution_count": 71,
      "outputs": [
        {
          "output_type": "display_data",
          "data": {
            "image/png": "[encoded data removed]",
            "text/plain": [
              "<Figure size 432x288 with 1 Axes>"
            ]
          },
          "metadata": {
            "tags": [],
            "needs_background": "light"
          }
        }
      ]
    },
    {
      "cell_type": "markdown",
      "metadata": {
        "id": "GwWWU34k9Fiv"
      },
      "source": [
        "## Add polynomial term to the equation/model"
      ]
    },
    {
      "cell_type": "markdown",
      "metadata": {
        "id": "2EqGFDy3-WHO"
      },
      "source": [
        "##Polynom Equation\n",
        "$y$=a$0$+$a1x1$+$a2x^2$\n",
        "\n",
        "$y$(dependent)=$a0$(which is basically some constant term automatically created by our polynom object) $+$ $a1$(coefficient)$x1$(Age)(independent-feature) $+$ $a2$(coefficient)$x2^2$(Age^2)(independent-feature)\n",
        "\n"
      ]
    },
    {
      "cell_type": "code",
      "metadata": {
        "id": "tdhPRj4z4MiC",
        "outputId": "0bd657c7-0746-4034-c42d-b30d143f7c43",
        "colab": {
          "base_uri": "https://localhost:8080/",
          "height": 908
        }
      },
      "source": [
        "\n",
        "from sklearn.preprocessing import PolynomialFeatures ##Adding polynomial Terms to simple Linear regression model\n",
        "  \n",
        "polynom = PolynomialFeatures(degree = 2) \n",
        "X_polynom = polynom.fit_transform(X_train) \n",
        "  \n",
        "X_polynom"
      ],
      "execution_count": 96,
      "outputs": [
        {
          "output_type": "execute_result",
          "data": {
            "text/plain": [
              "array([[1.000e+00, 1.200e+01, 1.440e+02],\n",
              "       [1.000e+00, 5.000e+01, 2.500e+03],\n",
              "       [1.000e+00, 2.100e+01, 4.410e+02],\n",
              "       [1.000e+00, 1.300e+01, 1.690e+02],\n",
              "       [1.000e+00, 6.400e+01, 4.096e+03],\n",
              "       [1.000e+00, 5.500e+01, 3.025e+03],\n",
              "       [1.000e+00, 2.000e+01, 4.000e+02],\n",
              "       [1.000e+00, 5.100e+01, 2.601e+03],\n",
              "       [1.000e+00, 5.900e+01, 3.481e+03],\n",
              "       [1.000e+00, 6.300e+01, 3.969e+03],\n",
              "       [1.000e+00, 6.700e+01, 4.489e+03],\n",
              "       [1.000e+00, 4.200e+01, 1.764e+03],\n",
              "       [1.000e+00, 2.400e+01, 5.760e+02],\n",
              "       [1.000e+00, 7.800e+01, 6.084e+03],\n",
              "       [1.000e+00, 2.900e+01, 8.410e+02],\n",
              "       [1.000e+00, 3.900e+01, 1.521e+03],\n",
              "       [1.000e+00, 6.200e+01, 3.844e+03],\n",
              "       [1.000e+00, 4.500e+01, 2.025e+03],\n",
              "       [1.000e+00, 2.800e+01, 7.840e+02],\n",
              "       [1.000e+00, 1.000e+01, 1.000e+02],\n",
              "       [1.000e+00, 2.500e+01, 6.250e+02],\n",
              "       [1.000e+00, 1.500e+01, 2.250e+02],\n",
              "       [1.000e+00, 2.600e+01, 6.760e+02],\n",
              "       [1.000e+00, 3.000e+01, 9.000e+02],\n",
              "       [1.000e+00, 7.600e+01, 5.776e+03],\n",
              "       [1.000e+00, 1.800e+01, 3.240e+02],\n",
              "       [1.000e+00, 2.300e+01, 5.290e+02],\n",
              "       [1.000e+00, 3.500e+01, 1.225e+03],\n",
              "       [1.000e+00, 4.700e+01, 2.209e+03],\n",
              "       [1.000e+00, 2.700e+01, 7.290e+02],\n",
              "       [1.000e+00, 7.000e+01, 4.900e+03],\n",
              "       [1.000e+00, 5.600e+01, 3.136e+03],\n",
              "       [1.000e+00, 7.300e+01, 5.329e+03],\n",
              "       [1.000e+00, 4.900e+01, 2.401e+03],\n",
              "       [1.000e+00, 4.800e+01, 2.304e+03],\n",
              "       [1.000e+00, 1.100e+01, 1.210e+02],\n",
              "       [1.000e+00, 6.800e+01, 4.624e+03],\n",
              "       [1.000e+00, 2.200e+01, 4.840e+02],\n",
              "       [1.000e+00, 7.100e+01, 5.041e+03],\n",
              "       [1.000e+00, 3.400e+01, 1.156e+03],\n",
              "       [1.000e+00, 1.600e+01, 2.560e+02],\n",
              "       [1.000e+00, 3.300e+01, 1.089e+03],\n",
              "       [1.000e+00, 4.600e+01, 2.116e+03],\n",
              "       [1.000e+00, 3.100e+01, 9.610e+02],\n",
              "       [1.000e+00, 1.900e+01, 3.610e+02],\n",
              "       [1.000e+00, 7.700e+01, 5.929e+03],\n",
              "       [1.000e+00, 7.400e+01, 5.476e+03],\n",
              "       [1.000e+00, 5.700e+01, 3.249e+03],\n",
              "       [1.000e+00, 5.400e+01, 2.916e+03]])"
            ]
          },
          "metadata": {
            "tags": []
          },
          "execution_count": 96
        }
      ]
    },
    {
      "cell_type": "markdown",
      "metadata": {
        "id": "qA4CUYfG_30-"
      },
      "source": [
        "###Fitting into the model"
      ]
    },
    {
      "cell_type": "code",
      "metadata": {
        "id": "ZFy6Rugt9d7A",
        "outputId": "1abcf391-4a5a-467a-9e23-4383810d9664",
        "colab": {
          "base_uri": "https://localhost:8080/",
          "height": 35
        }
      },
      "source": [
        "PolyModel = LinearRegression() \n",
        "PolyModel.fit(X_polynom, y_train)"
      ],
      "execution_count": 97,
      "outputs": [
        {
          "output_type": "execute_result",
          "data": {
            "text/plain": [
              "LinearRegression(copy_X=True, fit_intercept=True, n_jobs=None, normalize=False)"
            ]
          },
          "metadata": {
            "tags": []
          },
          "execution_count": 97
        }
      ]
    },
    {
      "cell_type": "markdown",
      "metadata": {
        "id": "icR_NpiOADLL"
      },
      "source": [
        "###Now visualize the polynom Model"
      ]
    },
    {
      "cell_type": "code",
      "metadata": {
        "id": "wXlMePQC__9I",
        "outputId": "547b0483-0e06-4c39-ec49-d0bc25b67232",
        "colab": {
          "base_uri": "https://localhost:8080/",
          "height": 295
        }
      },
      "source": [
        "plt.scatter(X_train,y_train,c='black',cmap=None,alpha=0.7)\n",
        "plt.plot(X_train,PolyModel.predict(X_polynom),color='red')\n",
        "plt.title(\"Polynommial Model\")\n",
        "plt.xlabel(\"Age\")\n",
        "plt.ylabel(\"Height\")\n",
        "plt.show()"
      ],
      "execution_count": 98,
      "outputs": [
        {
          "output_type": "display_data",
          "data": {
            "image/png": "[encoded data removed]",
            "text/plain": [
              "<Figure size 432x288 with 1 Axes>"
            ]
          },
          "metadata": {
            "tags": [],
            "needs_background": "light"
          }
        }
      ]
    },
    {
      "cell_type": "code",
      "metadata": {
        "id": "M2Hid39bAza6",
        "outputId": "7798e651-e11e-48a2-c551-4a4ec8093e1c",
        "colab": {
          "base_uri": "https://localhost:8080/",
          "height": 295
        }
      },
      "source": [
        "plt.scatter(X_train,y_train,c='black',cmap=None,alpha=0.8)\n",
        "plt.plot(X_train,PolyModel.predict(polynom.fit_transform(X_train)),color='red')\n",
        "plt.title(\"Polynommial Regression \")\n",
        "plt.xlabel(\"Age\")\n",
        "plt.ylabel(\"Height\")\n",
        "plt.show()"
      ],
      "execution_count": 99,
      "outputs": [
        {
          "output_type": "display_data",
          "data": {
            "image/png": "[encoded data removed]",
            "text/plain": [
              "<Figure size 432x288 with 1 Axes>"
            ]
          },
          "metadata": {
            "tags": [],
            "needs_background": "light"
          }
        }
      ]
    },
    {
      "cell_type": "markdown",
      "metadata": {
        "id": "zlVVCLHECVAG"
      },
      "source": [
        "##By seeing Above ; accuracy for Non Inear data --> Polynomila Regresssion works better than linear Regression As it fits Most of the predicted Points (Best -Fit Line) rather than Linear Regression"
      ]
    },
    {
      "cell_type": "markdown",
      "metadata": {
        "id": "nfo-_joyDFwj"
      },
      "source": [
        "##Predicting  Height from test dataset w.r.t Simple Linear Regression"
      ]
    },
    {
      "cell_type": "code",
      "metadata": {
        "id": "o8K3sjFyDMMA"
      },
      "source": [
        "y_pred = LinModel.predict(X_test)"
      ],
      "execution_count": 100,
      "outputs": []
    },
    {
      "cell_type": "code",
      "metadata": {
        "id": "TeMdnG-BDT1T",
        "outputId": "e373ddfa-ad63-4a53-c9ce-fcc1dc1c7792",
        "colab": {
          "base_uri": "https://localhost:8080/",
          "height": 126
        }
      },
      "source": [
        "y_pred"
      ],
      "execution_count": 101,
      "outputs": [
        {
          "output_type": "execute_result",
          "data": {
            "text/plain": [
              "array([152.90005813, 153.8194466 , 173.1266044 , 149.22250426,\n",
              "       156.577612  , 175.8847698 , 135.43167726, 183.23987754,\n",
              "       160.25516587, 193.35315067, 180.48171214, 154.73883506,\n",
              "       157.49700047, 167.6102736 , 159.3357774 , 179.56232367,\n",
              "       192.43376221, 185.99804294, 168.52966207, 132.67351186,\n",
              "       188.75620834, 174.96538134])"
            ]
          },
          "metadata": {
            "tags": []
          },
          "execution_count": 101
        }
      ]
    },
    {
      "cell_type": "markdown",
      "metadata": {
        "id": "wrn9fNrcDZbB"
      },
      "source": [
        "### Evaluation Model using R-Square for Simple Linear Regression"
      ]
    },
    {
      "cell_type": "code",
      "metadata": {
        "id": "wnX5E9zuDVl5",
        "outputId": "446c15e6-fddf-4a71-e0c7-3eef50563b63",
        "colab": {
          "base_uri": "https://localhost:8080/",
          "height": 35
        }
      },
      "source": [
        "from sklearn import metrics\n",
        "r_square = metrics.r2_score(y_test, y_pred)\n",
        "print('R-Square Error  with Simple Linear Regression--> :', r_square)"
      ],
      "execution_count": 102,
      "outputs": [
        {
          "output_type": "stream",
          "text": [
            "R-Square Error  with Simple Linear Regression--> : 0.8727873738671587\n"
          ],
          "name": "stdout"
        }
      ]
    },
    {
      "cell_type": "markdown",
      "metadata": {
        "id": "6jLiu0QsDuon"
      },
      "source": [
        "##Predicting Height from test dataset w.r.t Polynomial Regression"
      ]
    },
    {
      "cell_type": "code",
      "metadata": {
        "id": "GNaKIYpADrLH"
      },
      "source": [
        "y_pred = PolyModel.predict(polynom.fit_transform(X_test))"
      ],
      "execution_count": 103,
      "outputs": []
    },
    {
      "cell_type": "code",
      "metadata": {
        "id": "c0ss8b7AD42i",
        "outputId": "01547f71-b09f-4f63-ae62-bdc19e8790ba",
        "colab": {
          "base_uri": "https://localhost:8080/",
          "height": 126
        }
      },
      "source": [
        "y_pred"
      ],
      "execution_count": 104,
      "outputs": [
        {
          "output_type": "execute_result",
          "data": {
            "text/plain": [
              "array([146.77046414, 147.45113229, 169.34755815, 144.37689953,\n",
              "       149.69060155, 173.66040777, 140.09082115, 186.60941525,\n",
              "       153.13731174, 207.85347909, 181.50670645, 148.16471125,\n",
              "       150.5029129 , 161.6104505 , 152.22626799, 179.87162511,\n",
              "       205.75764656, 192.00832125, 162.81769144, 140.12219706,\n",
              "       197.70342444, 172.18988043])"
            ]
          },
          "metadata": {
            "tags": []
          },
          "execution_count": 104
        }
      ]
    },
    {
      "cell_type": "markdown",
      "metadata": {
        "id": "eiG63U5qD-Ne"
      },
      "source": [
        "* Evaluation Model Using R-Square for Polynomial Regression"
      ]
    },
    {
      "cell_type": "code",
      "metadata": {
        "id": "XVwTPNifD65F",
        "outputId": "67286f0e-70e6-48e2-c998-781d5ecef3ea",
        "colab": {
          "base_uri": "https://localhost:8080/",
          "height": 35
        }
      },
      "source": [
        "from sklearn import metrics\n",
        "r_square = metrics.r2_score(y_test, y_pred)\n",
        "print('R-Square Error  with Polynomial Regression is---->:', r_square)"
      ],
      "execution_count": 105,
      "outputs": [
        {
          "output_type": "stream",
          "text": [
            "R-Square Error  with Polynomial Regression is---->: 0.9892511710983521\n"
          ],
          "name": "stdout"
        }
      ]
    },
    {
      "cell_type": "markdown",
      "metadata": {
        "id": "wnKq4mKLEejY"
      },
      "source": [
        "### Predicting Height based on Age using Linear Regression \n"
      ]
    },
    {
      "cell_type": "code",
      "metadata": {
        "id": "_4-07YcSEZLJ",
        "outputId": "23243b17-21ad-4bb3-b6a8-958b082c2e4b",
        "colab": {
          "base_uri": "https://localhost:8080/",
          "height": 35
        }
      },
      "source": [
        "LinModel.predict([[53]])"
      ],
      "execution_count": 106,
      "outputs": [
        {
          "output_type": "execute_result",
          "data": {
            "text/plain": [
              "array([168.52966207])"
            ]
          },
          "metadata": {
            "tags": []
          },
          "execution_count": 106
        }
      ]
    },
    {
      "cell_type": "markdown",
      "metadata": {
        "id": "MAM9Nu__EugA"
      },
      "source": [
        "##Predicting Height based on Age using Polynomial Regression "
      ]
    },
    {
      "cell_type": "code",
      "metadata": {
        "id": "OPaccmEhEjEi",
        "outputId": "17ab8ccd-4b35-4fcd-df33-1aedbf1f3d0e",
        "colab": {
          "base_uri": "https://localhost:8080/",
          "height": 35
        }
      },
      "source": [
        "PolyModel.predict(polynom.fit_transform([[53]]))"
      ],
      "execution_count": 107,
      "outputs": [
        {
          "output_type": "execute_result",
          "data": {
            "text/plain": [
              "array([162.81769144])"
            ]
          },
          "metadata": {
            "tags": []
          },
          "execution_count": 107
        }
      ]
    },
    {
      "cell_type": "code",
      "metadata": {
        "id": "jWWQlhGHEwc5"
      },
      "source": [
        ""
      ],
      "execution_count": 107,
      "outputs": []
    }
  ]
}